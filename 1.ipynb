{
 "cells": [
  {
   "cell_type": "code",
   "execution_count": 1,
   "metadata": {},
   "outputs": [],
   "source": [
    "import numpy as np\n",
    "import pandas as pd\n",
    "import seaborn as sns\n",
    "import matplotlib.pyplot as plt"
   ]
  },
  {
   "cell_type": "code",
   "execution_count": 2,
   "metadata": {},
   "outputs": [],
   "source": [
    "#setting structure for graphs\n",
    "sns.set(style=\"whitegrid\",palette='muted',color_codes=True)"
   ]
  },
  {
   "cell_type": "code",
   "execution_count": 3,
   "metadata": {},
   "outputs": [],
   "source": [
    "df1= pd.read_csv('./GO_specific_all fraction_4654_proteins_Delosiere-1.csv')"
   ]
  },
  {
   "cell_type": "code",
   "execution_count": 4,
   "metadata": {},
   "outputs": [
    {
     "data": {
      "text/html": [
       "<div>\n",
       "<style scoped>\n",
       "    .dataframe tbody tr th:only-of-type {\n",
       "        vertical-align: middle;\n",
       "    }\n",
       "\n",
       "    .dataframe tbody tr th {\n",
       "        vertical-align: top;\n",
       "    }\n",
       "\n",
       "    .dataframe thead th {\n",
       "        text-align: right;\n",
       "    }\n",
       "</style>\n",
       "<table border=\"1\" class=\"dataframe\">\n",
       "  <thead>\n",
       "    <tr style=\"text-align: right;\">\n",
       "      <th></th>\n",
       "      <th>GO</th>\n",
       "      <th>Function</th>\n",
       "      <th>Proteins</th>\n",
       "      <th>Gene Name</th>\n",
       "      <th>Ontology group</th>\n",
       "      <th>Count of protein</th>\n",
       "      <th>Number of proteins detected within the genome</th>\n",
       "      <th>GO frequency within the dataset (%)</th>\n",
       "      <th>GO frequency within the genome (%)</th>\n",
       "      <th>P-Value</th>\n",
       "      <th>P-Values_BH</th>\n",
       "    </tr>\n",
       "  </thead>\n",
       "  <tbody>\n",
       "    <tr>\n",
       "      <th>0</th>\n",
       "      <td>GO:0005576</td>\n",
       "      <td>extracellular region</td>\n",
       "      <td>Q3ZCL0(Evidence code:IEA/Database source:Inter...</td>\n",
       "      <td>CRISP3 PPIA FGFBP1 LTF C3 AZGP1 TXN ANXA2 LBP...</td>\n",
       "      <td>CC</td>\n",
       "      <td>48</td>\n",
       "      <td>48 of 300</td>\n",
       "      <td>51.06</td>\n",
       "      <td>16.00</td>\n",
       "      <td>5.423000e-59</td>\n",
       "      <td>5.206000e-56</td>\n",
       "    </tr>\n",
       "    <tr>\n",
       "      <th>1</th>\n",
       "      <td>GO:0005886</td>\n",
       "      <td>plasma membrane</td>\n",
       "      <td>P61585(Evidence code:IEA/Database source:UniPr...</td>\n",
       "      <td>RHOA EEF2 EZR HSP90AB1 RAB18 RAP1B FGFBP1 C9 ...</td>\n",
       "      <td>CC</td>\n",
       "      <td>37</td>\n",
       "      <td>37 of 630</td>\n",
       "      <td>39.36</td>\n",
       "      <td>5.87</td>\n",
       "      <td>6.717000e-32</td>\n",
       "      <td>3.224000e-29</td>\n",
       "    </tr>\n",
       "    <tr>\n",
       "      <th>2</th>\n",
       "      <td>GO:0005615</td>\n",
       "      <td>extracellular space</td>\n",
       "      <td>Q3MHN2(Evidence code:ISS/Database source:UniPr...</td>\n",
       "      <td>C9 XDH LBP CSN1S1 CSN2 AHSG FGFBP1 C3 MUC1 SE...</td>\n",
       "      <td>CC</td>\n",
       "      <td>28</td>\n",
       "      <td>28 of 426</td>\n",
       "      <td>29.79</td>\n",
       "      <td>6.57</td>\n",
       "      <td>3.361000e-26</td>\n",
       "      <td>1.076000e-23</td>\n",
       "    </tr>\n",
       "    <tr>\n",
       "      <th>3</th>\n",
       "      <td>GO:0005737</td>\n",
       "      <td>cytoplasm</td>\n",
       "      <td>P31976(Evidence code:IEA/Database source:UniPr...</td>\n",
       "      <td>EZR CFL1 YWHAE TXN HSP90AB1 ACTB CLU EEF2 MUC...</td>\n",
       "      <td>CC</td>\n",
       "      <td>41</td>\n",
       "      <td>41 of 1304</td>\n",
       "      <td>43.62</td>\n",
       "      <td>3.14</td>\n",
       "      <td>4.561000e-25</td>\n",
       "      <td>1.095000e-22</td>\n",
       "    </tr>\n",
       "    <tr>\n",
       "      <th>4</th>\n",
       "      <td>GO:0016020</td>\n",
       "      <td>membrane</td>\n",
       "      <td>P19803(Evidence code:IEA/Database source:UniPr...</td>\n",
       "      <td>ARHGDIA CFL1 MFGE8 CD5L F3 MUC15 ANXA2 RAB7A ...</td>\n",
       "      <td>CC</td>\n",
       "      <td>43</td>\n",
       "      <td>43 of 1837</td>\n",
       "      <td>45.74</td>\n",
       "      <td>2.34</td>\n",
       "      <td>1.842000e-21</td>\n",
       "      <td>3.538000e-19</td>\n",
       "    </tr>\n",
       "  </tbody>\n",
       "</table>\n",
       "</div>"
      ],
      "text/plain": [
       "           GO              Function  \\\n",
       "0  GO:0005576  extracellular region   \n",
       "1  GO:0005886       plasma membrane   \n",
       "2  GO:0005615   extracellular space   \n",
       "3  GO:0005737             cytoplasm   \n",
       "4  GO:0016020              membrane   \n",
       "\n",
       "                                            Proteins  \\\n",
       "0  Q3ZCL0(Evidence code:IEA/Database source:Inter...   \n",
       "1  P61585(Evidence code:IEA/Database source:UniPr...   \n",
       "2  Q3MHN2(Evidence code:ISS/Database source:UniPr...   \n",
       "3  P31976(Evidence code:IEA/Database source:UniPr...   \n",
       "4  P19803(Evidence code:IEA/Database source:UniPr...   \n",
       "\n",
       "                                           Gene Name Ontology group  \\\n",
       "0   CRISP3 PPIA FGFBP1 LTF C3 AZGP1 TXN ANXA2 LBP...             CC   \n",
       "1   RHOA EEF2 EZR HSP90AB1 RAB18 RAP1B FGFBP1 C9 ...             CC   \n",
       "2   C9 XDH LBP CSN1S1 CSN2 AHSG FGFBP1 C3 MUC1 SE...             CC   \n",
       "3   EZR CFL1 YWHAE TXN HSP90AB1 ACTB CLU EEF2 MUC...             CC   \n",
       "4   ARHGDIA CFL1 MFGE8 CD5L F3 MUC15 ANXA2 RAB7A ...             CC   \n",
       "\n",
       "   Count of protein Number of proteins detected within the genome  \\\n",
       "0                48                                     48 of 300   \n",
       "1                37                                     37 of 630   \n",
       "2                28                                     28 of 426   \n",
       "3                41                                    41 of 1304   \n",
       "4                43                                    43 of 1837   \n",
       "\n",
       "   GO frequency within the dataset (%)  GO frequency within the genome (%)  \\\n",
       "0                                51.06                               16.00   \n",
       "1                                39.36                                5.87   \n",
       "2                                29.79                                6.57   \n",
       "3                                43.62                                3.14   \n",
       "4                                45.74                                2.34   \n",
       "\n",
       "        P-Value   P-Values_BH  \n",
       "0  5.423000e-59  5.206000e-56  \n",
       "1  6.717000e-32  3.224000e-29  \n",
       "2  3.361000e-26  1.076000e-23  \n",
       "3  4.561000e-25  1.095000e-22  \n",
       "4  1.842000e-21  3.538000e-19  "
      ]
     },
     "execution_count": 4,
     "metadata": {},
     "output_type": "execute_result"
    }
   ],
   "source": [
    "df1.head()"
   ]
  },
  {
   "cell_type": "code",
   "execution_count": 5,
   "metadata": {},
   "outputs": [
    {
     "data": {
      "text/html": [
       "<div>\n",
       "<style scoped>\n",
       "    .dataframe tbody tr th:only-of-type {\n",
       "        vertical-align: middle;\n",
       "    }\n",
       "\n",
       "    .dataframe tbody tr th {\n",
       "        vertical-align: top;\n",
       "    }\n",
       "\n",
       "    .dataframe thead th {\n",
       "        text-align: right;\n",
       "    }\n",
       "</style>\n",
       "<table border=\"1\" class=\"dataframe\">\n",
       "  <thead>\n",
       "    <tr style=\"text-align: right;\">\n",
       "      <th></th>\n",
       "      <th>GO</th>\n",
       "      <th>Function</th>\n",
       "      <th>Proteins</th>\n",
       "      <th>Gene Name</th>\n",
       "      <th>Ontology group</th>\n",
       "      <th>Count of protein</th>\n",
       "      <th>Number of proteins detected within the genome</th>\n",
       "      <th>GO frequency within the dataset (%)</th>\n",
       "      <th>GO frequency within the genome (%)</th>\n",
       "      <th>P-Value</th>\n",
       "      <th>P-Values_BH</th>\n",
       "    </tr>\n",
       "  </thead>\n",
       "  <tbody>\n",
       "    <tr>\n",
       "      <th>954</th>\n",
       "      <td>GO:0032991</td>\n",
       "      <td>protein-containing complex</td>\n",
       "      <td>Q76LV2(Evidence code:IEA/Database source:UniPr...</td>\n",
       "      <td>HSP90AA1 ACTB WARS EZR LTF</td>\n",
       "      <td>CC</td>\n",
       "      <td>5</td>\n",
       "      <td>5 of 1693</td>\n",
       "      <td>5.32</td>\n",
       "      <td>0.30</td>\n",
       "      <td>0.8191</td>\n",
       "      <td>0.8225</td>\n",
       "    </tr>\n",
       "    <tr>\n",
       "      <th>955</th>\n",
       "      <td>GO:0006950</td>\n",
       "      <td>response to stress</td>\n",
       "      <td>Q76LV1(Evidence code:IEA/Database source:Inter...</td>\n",
       "      <td>HSP90AB1 HSP90AA1</td>\n",
       "      <td>BP</td>\n",
       "      <td>2</td>\n",
       "      <td>2 of 762</td>\n",
       "      <td>2.13</td>\n",
       "      <td>0.26</td>\n",
       "      <td>1.0000</td>\n",
       "      <td>1.0000</td>\n",
       "    </tr>\n",
       "    <tr>\n",
       "      <th>956</th>\n",
       "      <td>GO:0098772</td>\n",
       "      <td>molecular function regulator</td>\n",
       "      <td>P04272(Evidence code:IEA/Database source:UniPr...</td>\n",
       "      <td>ANXA2</td>\n",
       "      <td>MF</td>\n",
       "      <td>1</td>\n",
       "      <td>1 of 366</td>\n",
       "      <td>1.06</td>\n",
       "      <td>0.27</td>\n",
       "      <td>1.0000</td>\n",
       "      <td>1.0000</td>\n",
       "    </tr>\n",
       "    <tr>\n",
       "      <th>957</th>\n",
       "      <td>GO:0010941</td>\n",
       "      <td>regulation of cell death</td>\n",
       "      <td>P63103(Evidence code:IEA/Database source:UniPr...</td>\n",
       "      <td>YWHAZ</td>\n",
       "      <td>BP</td>\n",
       "      <td>1</td>\n",
       "      <td>1 of 342</td>\n",
       "      <td>1.06</td>\n",
       "      <td>0.29</td>\n",
       "      <td>1.0000</td>\n",
       "      <td>1.0000</td>\n",
       "    </tr>\n",
       "    <tr>\n",
       "      <th>958</th>\n",
       "      <td>GO:0003677</td>\n",
       "      <td>DNA binding</td>\n",
       "      <td>Q0P569(Evidence code:IEA/Database source:UniPr...</td>\n",
       "      <td>NUCB1</td>\n",
       "      <td>MF</td>\n",
       "      <td>1</td>\n",
       "      <td>1 of 481</td>\n",
       "      <td>1.06</td>\n",
       "      <td>0.21</td>\n",
       "      <td>1.0000</td>\n",
       "      <td>1.0000</td>\n",
       "    </tr>\n",
       "  </tbody>\n",
       "</table>\n",
       "</div>"
      ],
      "text/plain": [
       "             GO                      Function  \\\n",
       "954  GO:0032991    protein-containing complex   \n",
       "955  GO:0006950            response to stress   \n",
       "956  GO:0098772  molecular function regulator   \n",
       "957  GO:0010941      regulation of cell death   \n",
       "958  GO:0003677                   DNA binding   \n",
       "\n",
       "                                              Proteins  \\\n",
       "954  Q76LV2(Evidence code:IEA/Database source:UniPr...   \n",
       "955  Q76LV1(Evidence code:IEA/Database source:Inter...   \n",
       "956  P04272(Evidence code:IEA/Database source:UniPr...   \n",
       "957  P63103(Evidence code:IEA/Database source:UniPr...   \n",
       "958  Q0P569(Evidence code:IEA/Database source:UniPr...   \n",
       "\n",
       "                       Gene Name Ontology group  Count of protein  \\\n",
       "954   HSP90AA1 ACTB WARS EZR LTF             CC                 5   \n",
       "955            HSP90AB1 HSP90AA1             BP                 2   \n",
       "956                        ANXA2             MF                 1   \n",
       "957                        YWHAZ             BP                 1   \n",
       "958                        NUCB1             MF                 1   \n",
       "\n",
       "    Number of proteins detected within the genome  \\\n",
       "954                                     5 of 1693   \n",
       "955                                      2 of 762   \n",
       "956                                      1 of 366   \n",
       "957                                      1 of 342   \n",
       "958                                      1 of 481   \n",
       "\n",
       "     GO frequency within the dataset (%)  GO frequency within the genome (%)  \\\n",
       "954                                 5.32                                0.30   \n",
       "955                                 2.13                                0.26   \n",
       "956                                 1.06                                0.27   \n",
       "957                                 1.06                                0.29   \n",
       "958                                 1.06                                0.21   \n",
       "\n",
       "     P-Value  P-Values_BH  \n",
       "954   0.8191       0.8225  \n",
       "955   1.0000       1.0000  \n",
       "956   1.0000       1.0000  \n",
       "957   1.0000       1.0000  \n",
       "958   1.0000       1.0000  "
      ]
     },
     "execution_count": 5,
     "metadata": {},
     "output_type": "execute_result"
    }
   ],
   "source": [
    "df1.tail()"
   ]
  },
  {
   "cell_type": "code",
   "execution_count": 6,
   "metadata": {},
   "outputs": [
    {
     "data": {
      "text/plain": [
       "Index(['GO', 'Function', 'Proteins', 'Gene Name', 'Ontology group',\n",
       "       'Count of protein', 'Number of proteins detected within the genome',\n",
       "       'GO frequency within the dataset (%)',\n",
       "       'GO frequency within the genome (%)', 'P-Value', 'P-Values_BH'],\n",
       "      dtype='object')"
      ]
     },
     "execution_count": 6,
     "metadata": {},
     "output_type": "execute_result"
    }
   ],
   "source": [
    "df1.columns"
   ]
  },
  {
   "cell_type": "code",
   "execution_count": 7,
   "metadata": {},
   "outputs": [
    {
     "data": {
      "text/html": [
       "<div>\n",
       "<style scoped>\n",
       "    .dataframe tbody tr th:only-of-type {\n",
       "        vertical-align: middle;\n",
       "    }\n",
       "\n",
       "    .dataframe tbody tr th {\n",
       "        vertical-align: top;\n",
       "    }\n",
       "\n",
       "    .dataframe thead th {\n",
       "        text-align: right;\n",
       "    }\n",
       "</style>\n",
       "<table border=\"1\" class=\"dataframe\">\n",
       "  <thead>\n",
       "    <tr style=\"text-align: right;\">\n",
       "      <th></th>\n",
       "      <th>GO</th>\n",
       "      <th>Function</th>\n",
       "      <th>Proteins</th>\n",
       "      <th>Gene Name</th>\n",
       "      <th>Ontology group</th>\n",
       "      <th>Count of protein</th>\n",
       "      <th>Number of proteins detected within the genome</th>\n",
       "      <th>GO frequency within the dataset (%)</th>\n",
       "      <th>GO frequency within the genome (%)</th>\n",
       "      <th>P-Value</th>\n",
       "      <th>P-Values_BH</th>\n",
       "    </tr>\n",
       "  </thead>\n",
       "  <tbody>\n",
       "    <tr>\n",
       "      <th>0</th>\n",
       "      <td>False</td>\n",
       "      <td>False</td>\n",
       "      <td>False</td>\n",
       "      <td>False</td>\n",
       "      <td>False</td>\n",
       "      <td>False</td>\n",
       "      <td>False</td>\n",
       "      <td>False</td>\n",
       "      <td>False</td>\n",
       "      <td>False</td>\n",
       "      <td>False</td>\n",
       "    </tr>\n",
       "    <tr>\n",
       "      <th>1</th>\n",
       "      <td>False</td>\n",
       "      <td>False</td>\n",
       "      <td>False</td>\n",
       "      <td>False</td>\n",
       "      <td>False</td>\n",
       "      <td>False</td>\n",
       "      <td>False</td>\n",
       "      <td>False</td>\n",
       "      <td>False</td>\n",
       "      <td>False</td>\n",
       "      <td>False</td>\n",
       "    </tr>\n",
       "    <tr>\n",
       "      <th>2</th>\n",
       "      <td>False</td>\n",
       "      <td>False</td>\n",
       "      <td>False</td>\n",
       "      <td>False</td>\n",
       "      <td>False</td>\n",
       "      <td>False</td>\n",
       "      <td>False</td>\n",
       "      <td>False</td>\n",
       "      <td>False</td>\n",
       "      <td>False</td>\n",
       "      <td>False</td>\n",
       "    </tr>\n",
       "    <tr>\n",
       "      <th>3</th>\n",
       "      <td>False</td>\n",
       "      <td>False</td>\n",
       "      <td>False</td>\n",
       "      <td>False</td>\n",
       "      <td>False</td>\n",
       "      <td>False</td>\n",
       "      <td>False</td>\n",
       "      <td>False</td>\n",
       "      <td>False</td>\n",
       "      <td>False</td>\n",
       "      <td>False</td>\n",
       "    </tr>\n",
       "    <tr>\n",
       "      <th>4</th>\n",
       "      <td>False</td>\n",
       "      <td>False</td>\n",
       "      <td>False</td>\n",
       "      <td>False</td>\n",
       "      <td>False</td>\n",
       "      <td>False</td>\n",
       "      <td>False</td>\n",
       "      <td>False</td>\n",
       "      <td>False</td>\n",
       "      <td>False</td>\n",
       "      <td>False</td>\n",
       "    </tr>\n",
       "    <tr>\n",
       "      <th>...</th>\n",
       "      <td>...</td>\n",
       "      <td>...</td>\n",
       "      <td>...</td>\n",
       "      <td>...</td>\n",
       "      <td>...</td>\n",
       "      <td>...</td>\n",
       "      <td>...</td>\n",
       "      <td>...</td>\n",
       "      <td>...</td>\n",
       "      <td>...</td>\n",
       "      <td>...</td>\n",
       "    </tr>\n",
       "    <tr>\n",
       "      <th>954</th>\n",
       "      <td>False</td>\n",
       "      <td>False</td>\n",
       "      <td>False</td>\n",
       "      <td>False</td>\n",
       "      <td>False</td>\n",
       "      <td>False</td>\n",
       "      <td>False</td>\n",
       "      <td>False</td>\n",
       "      <td>False</td>\n",
       "      <td>False</td>\n",
       "      <td>False</td>\n",
       "    </tr>\n",
       "    <tr>\n",
       "      <th>955</th>\n",
       "      <td>False</td>\n",
       "      <td>False</td>\n",
       "      <td>False</td>\n",
       "      <td>False</td>\n",
       "      <td>False</td>\n",
       "      <td>False</td>\n",
       "      <td>False</td>\n",
       "      <td>False</td>\n",
       "      <td>False</td>\n",
       "      <td>False</td>\n",
       "      <td>False</td>\n",
       "    </tr>\n",
       "    <tr>\n",
       "      <th>956</th>\n",
       "      <td>False</td>\n",
       "      <td>False</td>\n",
       "      <td>False</td>\n",
       "      <td>False</td>\n",
       "      <td>False</td>\n",
       "      <td>False</td>\n",
       "      <td>False</td>\n",
       "      <td>False</td>\n",
       "      <td>False</td>\n",
       "      <td>False</td>\n",
       "      <td>False</td>\n",
       "    </tr>\n",
       "    <tr>\n",
       "      <th>957</th>\n",
       "      <td>False</td>\n",
       "      <td>False</td>\n",
       "      <td>False</td>\n",
       "      <td>False</td>\n",
       "      <td>False</td>\n",
       "      <td>False</td>\n",
       "      <td>False</td>\n",
       "      <td>False</td>\n",
       "      <td>False</td>\n",
       "      <td>False</td>\n",
       "      <td>False</td>\n",
       "    </tr>\n",
       "    <tr>\n",
       "      <th>958</th>\n",
       "      <td>False</td>\n",
       "      <td>False</td>\n",
       "      <td>False</td>\n",
       "      <td>False</td>\n",
       "      <td>False</td>\n",
       "      <td>False</td>\n",
       "      <td>False</td>\n",
       "      <td>False</td>\n",
       "      <td>False</td>\n",
       "      <td>False</td>\n",
       "      <td>False</td>\n",
       "    </tr>\n",
       "  </tbody>\n",
       "</table>\n",
       "<p>959 rows × 11 columns</p>\n",
       "</div>"
      ],
      "text/plain": [
       "        GO  Function  Proteins  Gene Name  Ontology group  Count of protein  \\\n",
       "0    False     False     False      False           False             False   \n",
       "1    False     False     False      False           False             False   \n",
       "2    False     False     False      False           False             False   \n",
       "3    False     False     False      False           False             False   \n",
       "4    False     False     False      False           False             False   \n",
       "..     ...       ...       ...        ...             ...               ...   \n",
       "954  False     False     False      False           False             False   \n",
       "955  False     False     False      False           False             False   \n",
       "956  False     False     False      False           False             False   \n",
       "957  False     False     False      False           False             False   \n",
       "958  False     False     False      False           False             False   \n",
       "\n",
       "     Number of proteins detected within the genome  \\\n",
       "0                                            False   \n",
       "1                                            False   \n",
       "2                                            False   \n",
       "3                                            False   \n",
       "4                                            False   \n",
       "..                                             ...   \n",
       "954                                          False   \n",
       "955                                          False   \n",
       "956                                          False   \n",
       "957                                          False   \n",
       "958                                          False   \n",
       "\n",
       "     GO frequency within the dataset (%)  GO frequency within the genome (%)  \\\n",
       "0                                  False                               False   \n",
       "1                                  False                               False   \n",
       "2                                  False                               False   \n",
       "3                                  False                               False   \n",
       "4                                  False                               False   \n",
       "..                                   ...                                 ...   \n",
       "954                                False                               False   \n",
       "955                                False                               False   \n",
       "956                                False                               False   \n",
       "957                                False                               False   \n",
       "958                                False                               False   \n",
       "\n",
       "     P-Value  P-Values_BH  \n",
       "0      False        False  \n",
       "1      False        False  \n",
       "2      False        False  \n",
       "3      False        False  \n",
       "4      False        False  \n",
       "..       ...          ...  \n",
       "954    False        False  \n",
       "955    False        False  \n",
       "956    False        False  \n",
       "957    False        False  \n",
       "958    False        False  \n",
       "\n",
       "[959 rows x 11 columns]"
      ]
     },
     "execution_count": 7,
     "metadata": {},
     "output_type": "execute_result"
    }
   ],
   "source": [
    "df1.isnull()"
   ]
  },
  {
   "cell_type": "code",
   "execution_count": 8,
   "metadata": {},
   "outputs": [
    {
     "name": "stdout",
     "output_type": "stream",
     "text": [
      "<class 'pandas.core.frame.DataFrame'>\n",
      "RangeIndex: 959 entries, 0 to 958\n",
      "Data columns (total 11 columns):\n",
      " #   Column                                         Non-Null Count  Dtype  \n",
      "---  ------                                         --------------  -----  \n",
      " 0   GO                                             959 non-null    object \n",
      " 1   Function                                       959 non-null    object \n",
      " 2   Proteins                                       959 non-null    object \n",
      " 3   Gene Name                                      959 non-null    object \n",
      " 4   Ontology group                                 959 non-null    object \n",
      " 5   Count of protein                               959 non-null    int64  \n",
      " 6   Number of proteins detected within the genome  959 non-null    object \n",
      " 7   GO frequency within the dataset (%)            959 non-null    float64\n",
      " 8   GO frequency within the genome (%)             959 non-null    float64\n",
      " 9   P-Value                                        959 non-null    float64\n",
      " 10  P-Values_BH                                    959 non-null    float64\n",
      "dtypes: float64(4), int64(1), object(6)\n",
      "memory usage: 82.5+ KB\n"
     ]
    }
   ],
   "source": [
    "df1.info()"
   ]
  },
  {
   "cell_type": "code",
   "execution_count": 9,
   "metadata": {},
   "outputs": [
    {
     "data": {
      "text/html": [
       "<div>\n",
       "<style scoped>\n",
       "    .dataframe tbody tr th:only-of-type {\n",
       "        vertical-align: middle;\n",
       "    }\n",
       "\n",
       "    .dataframe tbody tr th {\n",
       "        vertical-align: top;\n",
       "    }\n",
       "\n",
       "    .dataframe thead th {\n",
       "        text-align: right;\n",
       "    }\n",
       "</style>\n",
       "<table border=\"1\" class=\"dataframe\">\n",
       "  <thead>\n",
       "    <tr style=\"text-align: right;\">\n",
       "      <th></th>\n",
       "      <th>Count of protein</th>\n",
       "      <th>GO frequency within the dataset (%)</th>\n",
       "      <th>GO frequency within the genome (%)</th>\n",
       "      <th>P-Value</th>\n",
       "      <th>P-Values_BH</th>\n",
       "    </tr>\n",
       "  </thead>\n",
       "  <tbody>\n",
       "    <tr>\n",
       "      <th>count</th>\n",
       "      <td>959.000000</td>\n",
       "      <td>959.000000</td>\n",
       "      <td>959.000000</td>\n",
       "      <td>9.590000e+02</td>\n",
       "      <td>9.590000e+02</td>\n",
       "    </tr>\n",
       "    <tr>\n",
       "      <th>mean</th>\n",
       "      <td>1.907195</td>\n",
       "      <td>2.026642</td>\n",
       "      <td>26.841356</td>\n",
       "      <td>5.704434e-02</td>\n",
       "      <td>6.831243e-02</td>\n",
       "    </tr>\n",
       "    <tr>\n",
       "      <th>std</th>\n",
       "      <td>3.315797</td>\n",
       "      <td>3.528200</td>\n",
       "      <td>31.756434</td>\n",
       "      <td>1.207862e-01</td>\n",
       "      <td>1.213572e-01</td>\n",
       "    </tr>\n",
       "    <tr>\n",
       "      <th>min</th>\n",
       "      <td>1.000000</td>\n",
       "      <td>1.060000</td>\n",
       "      <td>0.080000</td>\n",
       "      <td>5.423000e-59</td>\n",
       "      <td>5.206000e-56</td>\n",
       "    </tr>\n",
       "    <tr>\n",
       "      <th>25%</th>\n",
       "      <td>1.000000</td>\n",
       "      <td>1.060000</td>\n",
       "      <td>3.960000</td>\n",
       "      <td>5.855000e-03</td>\n",
       "      <td>1.779000e-02</td>\n",
       "    </tr>\n",
       "    <tr>\n",
       "      <th>50%</th>\n",
       "      <td>1.000000</td>\n",
       "      <td>1.060000</td>\n",
       "      <td>12.500000</td>\n",
       "      <td>1.414000e-02</td>\n",
       "      <td>2.713000e-02</td>\n",
       "    </tr>\n",
       "    <tr>\n",
       "      <th>75%</th>\n",
       "      <td>2.000000</td>\n",
       "      <td>2.130000</td>\n",
       "      <td>33.330000</td>\n",
       "      <td>4.714500e-02</td>\n",
       "      <td>6.254500e-02</td>\n",
       "    </tr>\n",
       "    <tr>\n",
       "      <th>max</th>\n",
       "      <td>48.000000</td>\n",
       "      <td>51.060000</td>\n",
       "      <td>120.000000</td>\n",
       "      <td>1.000000e+00</td>\n",
       "      <td>1.000000e+00</td>\n",
       "    </tr>\n",
       "  </tbody>\n",
       "</table>\n",
       "</div>"
      ],
      "text/plain": [
       "       Count of protein  GO frequency within the dataset (%)  \\\n",
       "count        959.000000                           959.000000   \n",
       "mean           1.907195                             2.026642   \n",
       "std            3.315797                             3.528200   \n",
       "min            1.000000                             1.060000   \n",
       "25%            1.000000                             1.060000   \n",
       "50%            1.000000                             1.060000   \n",
       "75%            2.000000                             2.130000   \n",
       "max           48.000000                            51.060000   \n",
       "\n",
       "       GO frequency within the genome (%)       P-Value   P-Values_BH  \n",
       "count                          959.000000  9.590000e+02  9.590000e+02  \n",
       "mean                            26.841356  5.704434e-02  6.831243e-02  \n",
       "std                             31.756434  1.207862e-01  1.213572e-01  \n",
       "min                              0.080000  5.423000e-59  5.206000e-56  \n",
       "25%                              3.960000  5.855000e-03  1.779000e-02  \n",
       "50%                             12.500000  1.414000e-02  2.713000e-02  \n",
       "75%                             33.330000  4.714500e-02  6.254500e-02  \n",
       "max                            120.000000  1.000000e+00  1.000000e+00  "
      ]
     },
     "execution_count": 9,
     "metadata": {},
     "output_type": "execute_result"
    }
   ],
   "source": [
    "#Go gene antology \n",
    "df1.describe()"
   ]
  },
  {
   "cell_type": "code",
   "execution_count": 10,
   "metadata": {},
   "outputs": [
    {
     "data": {
      "text/plain": [
       "array(['extracellular region', 'plasma membrane', 'extracellular space',\n",
       "       'cytoplasm', 'membrane', 'melanosome',\n",
       "       'cellular oxidant detoxification', 'cytosol',\n",
       "       'acute-phase response', 'innate immune response', 'nucleus',\n",
       "       'Golgi apparatus', 'cholesterol homeostasis',\n",
       "       'cholesterol transporter activity', 'GTPase activity',\n",
       "       'cytoskeleton', 'cholesterol efflux', 'intracellular',\n",
       "       'calcium ion binding', 'apical plasma membrane', 'GTP binding',\n",
       "       'identical protein binding',\n",
       "       'very-low-density lipoprotein particle remodeling',\n",
       "       'nucleotide binding', 'lipid droplet', 'ruffle membrane',\n",
       "       'immune system process', 'heparin binding',\n",
       "       'triglyceride catabolic process', 'chylomicron',\n",
       "       'blood coagulation', 'hemostasis', 'cell adhesion',\n",
       "       'cholesterol binding', 'antioxidant activity',\n",
       "       'platelet activation', 'high-density lipoprotein particle',\n",
       "       'basolateral plasma membrane',\n",
       "       'phosphatidylcholine-sterol O-acyltransferase activator activity',\n",
       "       'high-density lipoprotein particle assembly', 'fibrinogen complex',\n",
       "       'positive regulation of cholesterol esterification',\n",
       "       'oxidation-reduction process', 'endosome',\n",
       "       'reverse cholesterol transport', 'antibacterial humoral response',\n",
       "       'protein polymerization',\n",
       "       'cellular response to lipopolysaccharide',\n",
       "       'regulation of inflammatory response',\n",
       "       'phosphatidylcholine binding', 'lipoprotein metabolic process',\n",
       "       'neuron projection regeneration', 'blood microparticle',\n",
       "       'negative regulation of endopeptidase activity',\n",
       "       'scaffold protein binding',\n",
       "       'very-low-density lipoprotein particle',\n",
       "       'protein homodimerization activity',\n",
       "       'actin cytoskeleton reorganization', 'lipopolysaccharide binding',\n",
       "       'phospholipid efflux', 'amyloid-beta binding',\n",
       "       'protein domain specific binding',\n",
       "       'ubiquitin protein ligase binding',\n",
       "       'defense response to bacterium',\n",
       "       'external side of plasma membrane', 'regulation of cell shape',\n",
       "       'cell surface',\n",
       "       'activation of cysteine-type endopeptidase activity involved in apoptotic process',\n",
       "       'triglyceride homeostasis', 'protein stabilization',\n",
       "       'disordered domain specific binding', 'lipid transport',\n",
       "       'adaptive immune response', 'ATPase activity',\n",
       "       'cholesterol biosynthetic process', 'receptor internalization',\n",
       "       'autophagy',\n",
       "       'positive regulation of intrinsic apoptotic signaling pathway',\n",
       "       'inflammatory response', 'GDP binding', 'phospholipid homeostasis',\n",
       "       'establishment of epithelial cell apical/basal polarity',\n",
       "       'other organism cell membrane', 'neutrophil aggregation',\n",
       "       'leukocyte migration involved in inflammatory response',\n",
       "       'Toll-like receptor 4 binding',\n",
       "       'small GTPase mediated signal transduction', 'actin cytoskeleton',\n",
       "       'cell projection', 'myelin sheath',\n",
       "       'extracellular membrane-bounded organelle',\n",
       "       'negative regulation of tumor necrosis factor-mediated signaling pathway',\n",
       "       'long-chain fatty acid import',\n",
       "       'regulation of intestinal cholesterol absorption',\n",
       "       'cysteine-type endopeptidase inhibitor activity',\n",
       "       'positive regulation of lipoprotein lipase activity',\n",
       "       'phospholipase A2 inhibitor activity',\n",
       "       'detection of chemical stimulus involved in sensory perception of bitter taste',\n",
       "       'negative chemotaxis',\n",
       "       'cellular response to diacyl bacterial lipopeptide',\n",
       "       'phospholipase inhibitor activity', 'cholesterol import',\n",
       "       'arachidonic acid binding',\n",
       "       'anchored component of external side of plasma membrane',\n",
       "       'ossification', 'cell redox homeostasis',\n",
       "       'defense response to Gram-negative bacterium',\n",
       "       'negative regulation of peptidase activity',\n",
       "       'response to dehydroepiandrosterone',\n",
       "       'hydrogen peroxide catabolic process',\n",
       "       'positive regulation of triglyceride catabolic process',\n",
       "       'establishment of cell polarity',\n",
       "       'response to 11-deoxycorticosterone', 'lamellipodium membrane',\n",
       "       'spherical high-density lipoprotein particle',\n",
       "       'S100 protein binding', 'endoplasmic reticulum lumen',\n",
       "       'anchored component of membrane', 'signaling receptor binding',\n",
       "       'cellular response to low-density lipoprotein particle stimulus',\n",
       "       'Golgi lumen',\n",
       "       'positive regulation of collagen biosynthetic process',\n",
       "       'astrocyte development', 'metal ion binding', 'protein folding',\n",
       "       'ATP binding', 'protein binding', 'vitamin transport',\n",
       "       'complement activation, alternative pathway',\n",
       "       'RAGE receptor binding', 'brush border membrane',\n",
       "       'positive regulation of substrate adhesion-dependent cell spreading',\n",
       "       'positive regulation of fatty acid biosynthetic process',\n",
       "       'positive regulation of cytokinesis', 'lipid binding',\n",
       "       'protein kinase binding', 'unfolded protein binding',\n",
       "       'phosphatidylcholine metabolic process', 'polysome',\n",
       "       'response to progesterone', 'protein refolding',\n",
       "       'protein targeting', 'lipid metabolic process',\n",
       "       'actin filament binding', 'establishment of endothelial barrier',\n",
       "       'Rho protein signal transduction', 'fibrinolysis',\n",
       "       'translation elongation factor activity', 'immunological synapse',\n",
       "       'actin binding', 'endoplasmic reticulum',\n",
       "       'cellular response to cAMP', 'cortical actin cytoskeleton',\n",
       "       'antimicrobial humoral immune response mediated by antimicrobial peptide',\n",
       "       'phagocytic vesicle', 'cell periphery', 'microtubule binding',\n",
       "       'early endosome', 'midbody',\n",
       "       'positive regulation of stress fiber assembly',\n",
       "       'serine-type endopeptidase activity',\n",
       "       'integral component of membrane', 'response to estradiol',\n",
       "       'oxidoreductase activity', 'cholesterol transport',\n",
       "       'positive regulation of tumor necrosis factor production',\n",
       "       'complement activation, classical pathway',\n",
       "       'calcium-dependent phospholipid binding', 'membrane raft',\n",
       "       'angiogenesis', 'cytolysis', 'neutrophil chemotaxis',\n",
       "       'brush border', 'peroxidase activity',\n",
       "       'perinuclear region of cytoplasm', 'filopodium',\n",
       "       'single fertilization',\n",
       "       'negative regulation of neuron projection development',\n",
       "       'histone deacetylase binding', 'cell junction assembly',\n",
       "       'peptidase inhibitor activity',\n",
       "       'positive regulation of protein kinase B signaling',\n",
       "       'fibrillar center', 'iron ion homeostasis', 'nuclear matrix',\n",
       "       'response to oxidative stress', 'endocytic vesicle',\n",
       "       'protein binding, bridging', 'ion channel binding',\n",
       "       'positive regulation of inflammatory response',\n",
       "       'phospholipid binding', 'response to heat',\n",
       "       'negative regulation of cysteine-type endopeptidase activity',\n",
       "       'heat shock protein binding',\n",
       "       'positive regulation of cellular protein catabolic process',\n",
       "       'calcium ion transmembrane transport',\n",
       "       'negative regulation of inflammatory response', 'protease binding',\n",
       "       'cholesterol metabolic process', 'early endosome membrane',\n",
       "       'negative regulation of neuron apoptotic process', 'peroxisome',\n",
       "       'cell cortex', 'positive regulation of GTPase activity',\n",
       "       'positive regulation of translation',\n",
       "       'positive regulation of NF-kappaB transcription factor activity',\n",
       "       'positive regulation of ferrous iron binding',\n",
       "       'chemorepellent activity', 'cysteine biosynthetic process',\n",
       "       'regulation of phosphatidylcholine biosynthetic process',\n",
       "       'phagosome acidification',\n",
       "       'cytoplasmic side of apical plasma membrane',\n",
       "       'positive regulation of receptor-mediated endocytosis involved in cholesterol transport',\n",
       "       'positive regulation of epithelial cell proliferation involved in wound healing',\n",
       "       'fibrinogen binding', 'response to linoleic acid',\n",
       "       'virion assembly', 'glomerular filtration',\n",
       "       'extrinsic component of lysosome membrane',\n",
       "       'negative regulation of low-density lipoprotein particle receptor catabolic process',\n",
       "       'mitotic cleavage furrow formation', 'osteoclast development',\n",
       "       'nitric-oxide synthase regulator activity',\n",
       "       'negative regulation of cell adhesion molecule production',\n",
       "       'intestinal cholesterol absorption',\n",
       "       'anterograde axonal protein transport',\n",
       "       'thiocyanate peroxidase activity',\n",
       "       'positive regulation of vascular smooth muscle contraction',\n",
       "       'positive regulation of bone mineralization involved in bone maturation',\n",
       "       'positive regulation of transferrin receptor binding',\n",
       "       'myristoyl-[acyl-carrier-protein] hydrolase activity',\n",
       "       'HFE-transferrin receptor complex',\n",
       "       'cellular response to iron(III) ion',\n",
       "       '3-hydroxyacyl-[acyl-carrier-protein] dehydratase activity',\n",
       "       'positive regulation of androstenedione secretion',\n",
       "       'antigen processing and presentation of exogenous protein antigen via MHC class Ib, TAP-dependent',\n",
       "       'endothelial tube lumen extension',\n",
       "       'UTP:glucose-1-phosphate uridylyltransferase activity',\n",
       "       '[acyl-carrier-protein] S-acetyltransferase activity',\n",
       "       'palmitoyl-[acyl-carrier-protein] hydrolase activity',\n",
       "       '3-hydroxyoctanoyl-[acyl-carrier-protein] dehydratase activity',\n",
       "       'catabolism by host of symbiont protein',\n",
       "       'apolipoprotein A-I receptor binding',\n",
       "       'synaptic vesicle uncoating',\n",
       "       'positive regulation of androst-4-ene-3,17-dione biosynthetic process',\n",
       "       'regulation of iron ion import',\n",
       "       'cytolysis by host of symbiont cells',\n",
       "       'very-low-density lipoprotein particle receptor binding',\n",
       "       'negative regulation of calcium ion export across plasma membrane',\n",
       "       'misfolded protein binding', 'lipoprotein biosynthetic process',\n",
       "       'growth hormone secretion',\n",
       "       'negative regulation of development of symbiont involved in interaction with host',\n",
       "       'Schmidt-Lanterman incisure',\n",
       "       'peptidyl-proline hydroxylation to 4-hydroxy-L-proline',\n",
       "       'neural fold formation',\n",
       "       'angiotensin-mediated vasoconstriction involved in regulation of systemic arterial blood pressure',\n",
       "       'positive regulation of progesterone secretion',\n",
       "       'negative regulation of IRE1-mediated unfolded protein response',\n",
       "       'positive regulation of vesicle fusion',\n",
       "       '3-oxo-glutaryl-[acp] methyl ester reductase activity',\n",
       "       'vitamin transmembrane transporter activity',\n",
       "       'enoyl-[acyl-carrier-protein] reductase (NADPH, A-specific) activity',\n",
       "       'PCSK9-AnxA2 complex', 'xanthine dehydrogenase complex',\n",
       "       'low-density lipoprotein particle mediated signaling',\n",
       "       'UDP-glucose metabolic process',\n",
       "       'thrombospondin receptor activity',\n",
       "       'neutrophil mediated killing of gram-negative bacterium',\n",
       "       'negative regulation of transforming growth factor beta activation',\n",
       "       'positive regulation of osteoblast proliferation',\n",
       "       'establishment of Golgi localization',\n",
       "       'oleoyl-[acyl-carrier-protein] hydrolase activity',\n",
       "       'activation of plasma proteins involved in acute inflammatory response',\n",
       "       'lipophagy', 'filopodium assembly', 'IgA binding',\n",
       "       'negative regulation of I-kappaB phosphorylation',\n",
       "       'paranodal junction assembly', 'S-malonyltransferase activity',\n",
       "       '3-oxo-pimeloyl-[acp] methyl ester reductase activity',\n",
       "       'xanthine oxidase activity', 'protein localization to cell cortex',\n",
       "       'TPR domain binding',\n",
       "       'acyl-[acyl-carrier-protein] hydrolase activity',\n",
       "       'ferric iron import', 'membrane disruption in other organism',\n",
       "       'positive regulation of progesterone biosynthetic process',\n",
       "       'ossification involved in bone maturation',\n",
       "       'regulation of amyloid-beta clearance',\n",
       "       'intracellular cholesterol transport',\n",
       "       'blood coagulation, fibrin clot formation',\n",
       "       'positive regulation of low-density lipoprotein particle clearance',\n",
       "       'establishment of centrosome localization',\n",
       "       'cortical microtubule organization', 'lipoprotein lipase activity',\n",
       "       'Roundabout signaling pathway',\n",
       "       'negative regulation of tumor necrosis factor (ligand) superfamily member 11 production',\n",
       "       'beta selection',\n",
       "       'positive regulation of low-density lipoprotein particle receptor binding',\n",
       "       'negative regulation of bone mineralization',\n",
       "       'folate import across plasma membrane',\n",
       "       '3-oxoacyl-[acyl-carrier-protein] reductase (NADPH) activity',\n",
       "       'aryl hydrocarbon receptor complex', 'lens fiber cell development',\n",
       "       'positive regulation of blood vessel endothelial cell proliferation involved in sprouting angiogenesis',\n",
       "       'C5L2 anaphylatoxin chemotactic receptor binding',\n",
       "       'apical junction complex',\n",
       "       'protein targeting to lysosome involved in chaperone-mediated autophagy',\n",
       "       'positive regulation of low-density lipoprotein receptor activity',\n",
       "       'negative regulation of lipopolysaccharide-mediated signaling pathway',\n",
       "       '[acyl-carrier-protein] S-malonyltransferase activity',\n",
       "       'apolipoprotein A-I-mediated signaling pathway',\n",
       "       'extrinsic component of external side of plasma membrane',\n",
       "       'negative regulation of interleukin-2 secretion',\n",
       "       'late endosome membrane', 'protein C-terminus binding',\n",
       "       'cytoplasmic vesicle', 'chaperone-mediated protein folding',\n",
       "       'negative regulation of supramolecular fiber organization',\n",
       "       'protein transport', 'translation',\n",
       "       'serine-type endopeptidase inhibitor activity', 'lamellipodium',\n",
       "       'fatty acid biosynthetic process',\n",
       "       'positive regulation of ERK1 and ERK2 cascade',\n",
       "       'positive regulation of protein localization to early endosome',\n",
       "       'lactose synthase activity', 'folic acid binding',\n",
       "       'phosphate ion transport',\n",
       "       'negative regulation of platelet aggregation',\n",
       "       'negative regulation of cell migration involved in sprouting angiogenesis',\n",
       "       'positive regulation of apoptotic process involved in mammary gland involution',\n",
       "       'glutathione hydrolase activity', 'mammary gland development',\n",
       "       'amyloid fibril formation',\n",
       "       'cellular response to triacyl bacterial lipopeptide',\n",
       "       'positive regulation of platelet-derived growth factor receptor signaling pathway',\n",
       "       'glyoxylate cycle',\n",
       "       'positive regulation of chondrocyte proliferation',\n",
       "       'negative regulation of biomineral tissue development',\n",
       "       'uridylyltransferase activity',\n",
       "       'cargo loading into COPII-coated vesicle',\n",
       "       'central nervous system neuron axonogenesis',\n",
       "       'sodium-dependent phosphate transmembrane transporter activity',\n",
       "       'negative regulation of peptidyl-serine dephosphorylation',\n",
       "       'negative regulation of T-helper 2 cell differentiation',\n",
       "       'plasma membrane to endosome transport',\n",
       "       'keratin filament binding',\n",
       "       'negative regulation of synaptic vesicle exocytosis',\n",
       "       'terminal web assembly', 'N-acetyllactosamine synthase activity',\n",
       "       'phosphoserine residue binding',\n",
       "       'negative regulation of calcium ion-dependent exocytosis',\n",
       "       'tryptophanyl-tRNA aminoacylation',\n",
       "       'positive regulation of early endosome to late endosome transport',\n",
       "       'apical junction assembly', 'vitamin transmembrane transport',\n",
       "       'forebrain radial glial cell differentiation',\n",
       "       'cellular response to muramyl dipeptide',\n",
       "       'phosphopantetheine binding', 'phagosome-lysosome fusion',\n",
       "       'negative regulation by host of symbiont molecular function',\n",
       "       'skeletal muscle satellite cell migration',\n",
       "       'intracellular sterol transport', 'membrane to membrane docking',\n",
       "       'astral microtubule organization', 'cellular response to iron ion',\n",
       "       'antigen processing and presentation of endogenous peptide antigen via MHC class I',\n",
       "       'penetration of zona pellucida', 'intestinal D-glucose absorption',\n",
       "       'xanthine dehydrogenase activity', 'dendritic spine morphogenesis',\n",
       "       'peptidoglycan binding',\n",
       "       'negative regulation of astrocyte differentiation',\n",
       "       'protein galactosylation', 'Golgi trans cisterna',\n",
       "       'C3HC4-type RING finger domain binding',\n",
       "       'positive regulation of T-helper 1 cell differentiation',\n",
       "       'kringle domain binding', 'xanthine catabolic process',\n",
       "       'tau protein binding',\n",
       "       'beta-N-acetylglucosaminylglycopeptide beta-1,4-galactosyltransferase activity',\n",
       "       'triglyceride transport', 'other organism membrane',\n",
       "       'negative regulation of oxidative phosphorylation',\n",
       "       'positive regulation of plasminogen activation',\n",
       "       'positive regulation of phospholipase C-activating G-protein coupled receptor signaling pathway',\n",
       "       'folic acid transport',\n",
       "       '3-oxoacyl-[acyl-carrier-protein] synthase activity',\n",
       "       'negative regulation of single-species biofilm formation in or on host organism',\n",
       "       'apolipoprotein receptor binding', 'granular component',\n",
       "       'apolipoprotein binding', 'myelin sheath adaxonal region',\n",
       "       'axonal growth cone', 'isocitrate dehydrogenase (NADP+) activity',\n",
       "       'molybdopterin cofactor binding',\n",
       "       'cellular phosphate ion homeostasis',\n",
       "       'positive regulation of chemokine secretion',\n",
       "       'lactose biosynthetic process', 'negative regulation of cell size',\n",
       "       'negative regulation of p38MAPK cascade',\n",
       "       'tryptophan-tRNA ligase activity',\n",
       "       'telomerase holoenzyme complex assembly',\n",
       "       'Rab GDP-dissociation inhibitor activity', 'selenium binding',\n",
       "       'cyclosporin A binding', 'cleavage furrow formation',\n",
       "       'positive regulation of cell migration involved in sprouting angiogenesis',\n",
       "       'regulation of Cdc42 protein signal transduction', 'heme binding',\n",
       "       'positive regulation of I-kappaB kinase/NF-kappaB signaling',\n",
       "       'natural killer cell mediated cytotoxicity',\n",
       "       'telomere maintenance via telomerase', 'interleukin-8 secretion',\n",
       "       'specific granule',\n",
       "       'negative regulation of interleukin-1 beta secretion', 'uropod',\n",
       "       'regulation of attachment of spindle microtubules to kinetochore',\n",
       "       'positive regulation of NLRP3 inflammasome complex assembly',\n",
       "       'protein import into mitochondrial outer membrane',\n",
       "       'high-density lipoprotein particle receptor binding',\n",
       "       'erythrocyte homeostasis',\n",
       "       'positive regulation of ubiquitin-dependent protein catabolic process',\n",
       "       'procollagen-proline 4-dioxygenase activity',\n",
       "       'thioredoxin peroxidase activity',\n",
       "       'positive regulation of vacuole organization',\n",
       "       'peptidyl-methionine modification',\n",
       "       'extrinsic component of endosome membrane',\n",
       "       'glutathione catabolic process',\n",
       "       'chaperone-mediated protein complex assembly',\n",
       "       'sphingosine-1-phosphate receptor signaling pathway',\n",
       "       'regulation of osteoblast proliferation',\n",
       "       'cholesterol catabolic process', 'drug transmembrane transport',\n",
       "       'Bergmann glial cell differentiation',\n",
       "       'positive regulation of receptor binding',\n",
       "       'innate immune response in mucosa', 'antifungal humoral response',\n",
       "       'membrane attack complex',\n",
       "       'macrophage activation involved in immune response',\n",
       "       'lipoprotein catabolic process',\n",
       "       'regulation of microvillus length',\n",
       "       'response to misfolded protein',\n",
       "       'lipopolysaccharide receptor complex',\n",
       "       'regulation of systemic arterial blood pressure by endothelin',\n",
       "       'axon extension',\n",
       "       'positive regulation of toll-like receptor 4 signaling pathway',\n",
       "       'endoplasmic reticulum tubular network organization',\n",
       "       'regulation of protein ADP-ribosylation',\n",
       "       'peptidyl-proline 4-dioxygenase activity',\n",
       "       'Rho GDP-dissociation inhibitor activity',\n",
       "       'adrenal gland development',\n",
       "       'phosphatidylcholine biosynthetic process',\n",
       "       'molybdenum ion binding', 'stress fiber assembly',\n",
       "       'cellular response to chemokine', 'vitamin D binding',\n",
       "       'negative regulation of osteoclast development',\n",
       "       'protein-disulfide reductase activity',\n",
       "       'serine-type peptidase complex',\n",
       "       'semaphorin-plexin signaling pathway',\n",
       "       'isocitrate metabolic process',\n",
       "       'negative regulation of very-low-density lipoprotein particle remodeling',\n",
       "       'NuA4 histone acetyltransferase complex',\n",
       "       'positive regulation of nitric-oxide synthase activity',\n",
       "       'intermediate-density lipoprotein particle',\n",
       "       'potassium channel inhibitor activity',\n",
       "       'positive regulation of protein export from nucleus',\n",
       "       'positive regulation of cholesterol storage',\n",
       "       'regulation of synapse maturation',\n",
       "       'high-density lipoprotein particle binding',\n",
       "       'actin filament fragmentation',\n",
       "       'negative regulation of receptor binding', 'spindle',\n",
       "       'GTPase activator activity', 'iron ion binding',\n",
       "       'regulation of cytosolic calcium ion concentration',\n",
       "       'positive regulation of protein serine/threonine kinase activity',\n",
       "       'synapse', 'steroid metabolic process',\n",
       "       'androgen receptor signaling pathway',\n",
       "       'negative regulation of cytokine production involved in inflammatory response',\n",
       "       'negative regulation of heterotypic cell-cell adhesion',\n",
       "       'T cell differentiation in thymus',\n",
       "       'high-density lipoprotein particle remodeling',\n",
       "       'protein oxidation', 'angiogenesis involved in wound healing',\n",
       "       'negative regulation of T cell receptor signaling pathway',\n",
       "       'development of secondary sexual characteristics',\n",
       "       'glycerol ether metabolic process',\n",
       "       'positive regulation of receptor recycling',\n",
       "       'phosphate ion binding', 'dense body',\n",
       "       'fatty acid synthase activity', 'phagocytosis, engulfment',\n",
       "       'trabecula morphogenesis', 'invadopodium', 'aggresome',\n",
       "       'blood vessel endothelial cell migration',\n",
       "       'negative regulation of protein homooligomerization',\n",
       "       'sodium:phosphate symporter activity',\n",
       "       'positive regulation of lipid kinase activity',\n",
       "       'peptidyl-cysteine S-nitrosylation',\n",
       "       'negative regulation of lactation',\n",
       "       'negative regulation of cytokine secretion involved in immune response',\n",
       "       'MHC class I protein complex', 'triglyceride biosynthetic process',\n",
       "       'positive regulation of macrophage derived foam cell differentiation',\n",
       "       'maintenance of protein localization in endoplasmic reticulum',\n",
       "       'microvillus assembly',\n",
       "       'fusion of sperm to egg plasma membrane involved in single fertilization',\n",
       "       'microvillus membrane', 'removal of superoxide radicals',\n",
       "       'actin filament organization', 'chemotaxis',\n",
       "       'galactose metabolic process',\n",
       "       'positive regulation of podosome assembly', 'bone morphogenesis',\n",
       "       'glutathione biosynthetic process', 'actin filament severing',\n",
       "       'sodium ion binding',\n",
       "       'positive regulation of actin filament depolymerization',\n",
       "       'cerebral cortex cell migration', 'protein kinase A signaling',\n",
       "       'lipoprotein particle binding',\n",
       "       'early endosome to late endosome transport',\n",
       "       'regulation of protein import into nucleus, translocation',\n",
       "       'positive regulation of filopodium assembly',\n",
       "       'thioredoxin-disulfide reductase activity',\n",
       "       'positive regulation of sequestering of triglyceride',\n",
       "       'alpha-beta T cell lineage commitment',\n",
       "       'protein heterotetramerization', 'melanosome membrane',\n",
       "       'oxidoreductase activity, acting on a sulfur group of donors, disulfide as acceptor',\n",
       "       'protein peptidyl-prolyl isomerization',\n",
       "       'interleukin-1 beta secretion',\n",
       "       'protein kinase A catalytic subunit binding',\n",
       "       'glucocorticoid metabolic process',\n",
       "       'UDP-galactosyltransferase activity',\n",
       "       'Rap protein signal transduction', 'energy homeostasis',\n",
       "       'negative regulation by host of viral process',\n",
       "       'DNA polymerase binding',\n",
       "       'protein kinase A regulatory subunit binding',\n",
       "       'negative regulation of ATPase activity',\n",
       "       'serine-type peptidase activity',\n",
       "       'negative regulation of reactive oxygen species biosynthetic process',\n",
       "       'positive regulation of protein oligomerization',\n",
       "       'positive regulation of telomerase activity',\n",
       "       'toll-like receptor 4 signaling pathway',\n",
       "       'endoplasmic reticulum tubular network',\n",
       "       'regulation of oxidative stress-induced intrinsic apoptotic signaling pathway',\n",
       "       'wound healing, spreading of cells',\n",
       "       'substrate adhesion-dependent cell spreading',\n",
       "       'neural crest cell migration',\n",
       "       'positive regulation of transforming growth factor beta receptor signaling pathway',\n",
       "       'negative regulation of calcium ion transmembrane transporter activity',\n",
       "       'positive regulation of T cell mediated cytotoxicity',\n",
       "       'oligosaccharide biosynthetic process',\n",
       "       'response to growth hormone', '2-oxoglutarate metabolic process',\n",
       "       'hippocampus development', 'regulation of fatty acid oxidation',\n",
       "       'negative regulation of intrinsic apoptotic signaling pathway in response to DNA damage',\n",
       "       'barbed-end actin filament capping', 'Prp19 complex',\n",
       "       'isomerase activity', 'endopeptidase inhibitor activity',\n",
       "       'positive regulation of phagocytosis', 'spindle midzone',\n",
       "       'phosphatidylserine binding', 'melanosome transport',\n",
       "       'cell leading edge', 'regulation of acrosome reaction',\n",
       "       'triglyceride lipase activity', 'membrane raft assembly',\n",
       "       'wound healing', 'intestinal absorption',\n",
       "       'positive regulation of glycoprotein metabolic process',\n",
       "       'low-density lipoprotein particle receptor binding',\n",
       "       'glycoprotein biosynthetic process', 'mitotic spindle assembly',\n",
       "       'GDP-dissociation inhibitor activity',\n",
       "       'antigen processing and presentation of peptide antigen via MHC class I',\n",
       "       'positive regulation of blood coagulation',\n",
       "       'cerebral cortex development',\n",
       "       'cellular response to epidermal growth factor stimulus',\n",
       "       'positive regulation of protein phosphorylation',\n",
       "       'galactosyltransferase activity',\n",
       "       'metalloendopeptidase inhibitor activity', 'phagocytic cup',\n",
       "       'positive regulation of T cell cytokine production',\n",
       "       'peroxiredoxin activity', 'chaperone complex',\n",
       "       'protein serine/threonine kinase activator activity',\n",
       "       'sensory perception of taste',\n",
       "       'regulation of membrane repolarization', 'alpha-tubulin binding',\n",
       "       'negative regulation of intracellular steroid hormone receptor signaling pathway',\n",
       "       'hyaluronan metabolic process', 'actin filament depolymerization',\n",
       "       'bone mineralization', 'negative regulation of exocytosis',\n",
       "       'regulation of establishment of cell polarity',\n",
       "       'endothelial cell proliferation',\n",
       "       'protein disulfide isomerase activity',\n",
       "       'regulation of triglyceride biosynthetic process',\n",
       "       'intermediate filament cytoskeleton',\n",
       "       'negative regulation of cell cycle arrest', 'iron ion transport',\n",
       "       'translational elongation', 'lipid catabolic process',\n",
       "       'immune response', 'fatty acid metabolic process', 'mitochondrion',\n",
       "       'regulation of axon extension',\n",
       "       'protein disulfide oxidoreductase activity', 'monocyte chemotaxis',\n",
       "       'vesicle budding from membrane', 'mitotic cytokinesis',\n",
       "       'positive regulation of protein localization to plasma membrane',\n",
       "       'establishment or maintenance of apical/basal cell polarity',\n",
       "       'negative regulation of proteasomal ubiquitin-dependent protein catabolic process',\n",
       "       'positive regulation of T cell migration',\n",
       "       'positive regulation of lipid storage',\n",
       "       'negative regulation of response to cytokine stimulus',\n",
       "       'positive regulation of glucose transmembrane transport',\n",
       "       'lactation', 'beta-tubulin binding', 'cell-cell junction',\n",
       "       'protein homooligomerization', 'lysosomal membrane',\n",
       "       'phospholipid metabolic process', 'response to bacterium',\n",
       "       'positive regulation of interleukin-2 production',\n",
       "       'positive regulation of nitric oxide biosynthetic process',\n",
       "       'positive regulation of osteoblast differentiation',\n",
       "       'lipid droplet organization', 'desmosome',\n",
       "       'positive regulation of multicellular organism growth',\n",
       "       'intermediate filament organization',\n",
       "       'positive regulation of alpha-beta T cell differentiation',\n",
       "       'positive regulation of G-protein coupled receptor protein signaling pathway',\n",
       "       'sodium ion transmembrane transport',\n",
       "       'regulation of potassium ion transmembrane transporter activity',\n",
       "       'leukocyte cell-cell adhesion',\n",
       "       'positive regulation of Rho protein signal transduction',\n",
       "       'lysosome', 'proteolysis', 'nucleolus', 'enzyme binding',\n",
       "       'binding of sperm to zona pellucida',\n",
       "       'extrinsic component of cytoplasmic side of plasma membrane',\n",
       "       'cellular response to interferon-gamma', 'chromaffin granule',\n",
       "       'regulation of filopodium assembly', 'response to fatty acid',\n",
       "       'cellular protein-containing complex localization',\n",
       "       'negative regulation of viral genome replication',\n",
       "       'killing of cells of other organism', 'lipid storage',\n",
       "       'protein kinase A binding', 'phosphoprotein binding',\n",
       "       'regulation of neural precursor cell proliferation',\n",
       "       'lipopolysaccharide-mediated signaling pathway',\n",
       "       'cellular response to transforming growth factor beta stimulus',\n",
       "       'FAD binding', 'vesicle transport along microtubule',\n",
       "       'cytoskeletal protein binding', 'endothelial cell migration',\n",
       "       'regulation of mRNA stability',\n",
       "       'positive regulation of release of sequestered calcium ion into cytosol',\n",
       "       'negative regulation of G-protein coupled receptor protein signaling pathway',\n",
       "       'potassium channel regulator activity',\n",
       "       'negative regulation of cell-substrate adhesion',\n",
       "       'actin filament capping',\n",
       "       'cellular response to glucocorticoid stimulus',\n",
       "       'negative regulation of I-kappaB kinase/NF-kappaB signaling',\n",
       "       'regulation of NIK/NF-kappaB signaling',\n",
       "       'regulation of erythrocyte differentiation',\n",
       "       'phagocytic vesicle membrane',\n",
       "       'positive regulation of DNA binding', 'focal adhesion',\n",
       "       'protein heterodimerization activity', 'endosome membrane',\n",
       "       'protein tyrosine kinase binding', 'mitotic spindle',\n",
       "       'eye development', 'actin nucleation',\n",
       "       'protein binding involved in protein folding',\n",
       "       'regulation of cholesterol transport',\n",
       "       'collagen fibril organization', 'autophagosome membrane',\n",
       "       'phosphatidylinositol-4,5-bisphosphate binding',\n",
       "       'negative regulation of protein dephosphorylation',\n",
       "       'response to cold', 'response to antibiotic',\n",
       "       'regulation of interleukin-1 production',\n",
       "       'positive regulation of receptor-mediated endocytosis',\n",
       "       'hydrolase activity', 'phosphatidylinositol-mediated signaling',\n",
       "       'cell-matrix adhesion', 'tRNA binding', 'response to glucose',\n",
       "       'skeletal muscle tissue development',\n",
       "       'calcium channel regulator activity', 'dendritic spine',\n",
       "       'microvillus', 'actin filament bundle assembly',\n",
       "       'intermediate filament-based process',\n",
       "       'positive regulation of wound healing', 'lateral plasma membrane',\n",
       "       'calcium-dependent protein binding', 'basement membrane',\n",
       "       'endoplasmic reticulum-Golgi intermediate compartment',\n",
       "       'odontogenesis', 'manganese ion binding', 'metabolic process',\n",
       "       'autophagosome assembly', 'regulation of bone mineralization',\n",
       "       'positive regulation of interferon-gamma production',\n",
       "       '2 iron, 2 sulfur cluster binding', 'cellular response to heat',\n",
       "       'scavenger receptor activity', 'myosin binding',\n",
       "       'positive regulation of lipase activity',\n",
       "       'extrinsic component of plasma membrane',\n",
       "       'integrin-mediated signaling pathway',\n",
       "       'negative regulation of cell proliferation',\n",
       "       'positive regulation of apoptotic process',\n",
       "       'positive regulation of endothelial cell proliferation',\n",
       "       'cell killing', 'acute inflammatory response', 'integrin binding',\n",
       "       'ATPase binding', 'cell proliferation', 'axon cytoplasm',\n",
       "       'triglyceride metabolic process', 'double-stranded RNA binding',\n",
       "       'cytokine receptor activity',\n",
       "       'negative regulation of ERK1 and ERK2 cascade',\n",
       "       'positive regulation of proteasomal ubiquitin-dependent protein catabolic process',\n",
       "       'clathrin-coated vesicle',\n",
       "       'positive regulation of phosphatidylinositol 3-kinase signaling',\n",
       "       'phagocytosis', 'ruffle', 'actin filament', 'apical part of cell',\n",
       "       'complement activation', 'aminoacyl-tRNA ligase activity',\n",
       "       'calcium ion import', 'granulocyte chemotaxis',\n",
       "       'SMAD protein signal transduction',\n",
       "       'structural constituent of eye lens',\n",
       "       'positive regulation of reactive oxygen species metabolic process',\n",
       "       'tRNA aminoacylation for protein translation',\n",
       "       'hematopoietic progenitor cell differentiation',\n",
       "       'branching morphogenesis of an epithelial tube', 'cleavage furrow',\n",
       "       'negative regulation of viral process',\n",
       "       'positive regulation of protein binding', 'response to wounding',\n",
       "       'postsynapse', 'extracellular matrix',\n",
       "       'negative regulation of catalytic activity',\n",
       "       'Golgi cisterna membrane', 'single-stranded DNA binding',\n",
       "       'calcium channel activity', 'natural killer cell activation',\n",
       "       'protein N-linked glycosylation', 'glycogen metabolic process',\n",
       "       'structural constituent of cytoskeleton',\n",
       "       'regulation of cell junction assembly',\n",
       "       'epithelial cell development', 'chaperone binding',\n",
       "       'oxidoreductase activity, acting on the aldehyde or oxo group of donors',\n",
       "       'Golgi organization', 'response to amino acid', 'cell migration',\n",
       "       'tricarboxylic acid cycle', 'plasma membrane raft',\n",
       "       'peptidyl-prolyl cis-trans isomerase activity',\n",
       "       'positive regulation of lipid biosynthetic process',\n",
       "       'biomineral tissue development', 'apoptotic process',\n",
       "       'regulation of tumor necrosis factor production',\n",
       "       'positive regulation of cell growth',\n",
       "       'positive regulation of gene expression', 'NAD binding',\n",
       "       'sodium ion transport', 'lipid transporter activity',\n",
       "       'phospholipase activity', 'regulation of viral genome replication',\n",
       "       'ciliary basal body', 'sarcolemma', 'brain development',\n",
       "       'cell surface receptor signaling pathway', 'growth factor binding',\n",
       "       'motile cilium', 'positive regulation of T cell proliferation',\n",
       "       'neuron migration',\n",
       "       'positive regulation of neuron differentiation',\n",
       "       'cell morphogenesis', 'import into nucleus',\n",
       "       'positive regulation of protein localization to nucleus',\n",
       "       'positive regulation of angiogenesis', 'MAPK cascade',\n",
       "       'defense response to Gram-positive bacterium',\n",
       "       'regulation of organelle assembly',\n",
       "       'flavin adenine dinucleotide binding',\n",
       "       'ER to Golgi vesicle-mediated transport',\n",
       "       'ribonucleoprotein complex',\n",
       "       'positive regulation of protein polymerization',\n",
       "       'extrinsic component of membrane', 'cytoskeleton organization',\n",
       "       'kinase inhibitor activity',\n",
       "       'regulation of stress-activated MAPK cascade',\n",
       "       'intrinsic apoptotic signaling pathway',\n",
       "       'RNA phosphodiester bond hydrolysis',\n",
       "       'ATPase activity, coupled to transmembrane movement of substances',\n",
       "       'positive regulation of peptidyl-serine phosphorylation',\n",
       "       'response to reactive oxygen species',\n",
       "       'nervous system development', 'in utero embryonic development',\n",
       "       'receptor-mediated endocytosis', 'transmembrane transport',\n",
       "       'protein localization to nucleus',\n",
       "       'negative regulation of apoptotic process',\n",
       "       'ribonuclease activity', 'extracellular matrix organization',\n",
       "       'cellular response to oxidative stress', 'symporter activity',\n",
       "       'positive regulation of binding', 'iron-sulfur cluster binding',\n",
       "       'late endosome', 'regulation of endocytosis', 'protein processing',\n",
       "       'protein localization to plasma membrane',\n",
       "       'positive regulation of cytosolic calcium ion concentration',\n",
       "       'leukocyte migration', 'peptidase activity', 'zinc ion binding',\n",
       "       'regulation of microtubule cytoskeleton organization',\n",
       "       'regulation of blood pressure', 'intermediate filament',\n",
       "       'carboxylic ester hydrolase activity',\n",
       "       'positive regulation of protein secretion',\n",
       "       'electron transfer activity', 'regulation of hormone secretion',\n",
       "       'calcium ion transport',\n",
       "       'G-protein coupled receptor signaling pathway, coupled to cyclic nucleotide second messenger',\n",
       "       'neuronal cell body', 'positive regulation of peptide secretion',\n",
       "       'nucleic acid phosphodiester bond hydrolysis',\n",
       "       'negative regulation of protein kinase activity',\n",
       "       'regulation of leukocyte migration', 'endonuclease activity',\n",
       "       'regulation of protein ubiquitination',\n",
       "       'nucleotidyltransferase activity', 'cilium assembly',\n",
       "       'regulation of neuron projection development', 'GTPase binding',\n",
       "       'secretory granule', 'magnesium ion binding',\n",
       "       'electron transport chain', 'receptor complex',\n",
       "       'positive regulation of protein complex assembly',\n",
       "       'negative regulation of proteolysis', 'ATP metabolic process',\n",
       "       'response to molecule of bacterial origin',\n",
       "       'regulation of angiogenesis',\n",
       "       'oxidoreductase activity, acting on the CH-OH group of donors, NAD or NADP as acceptor',\n",
       "       'actin cytoskeleton organization', 'protein glycosylation',\n",
       "       'intracellular membrane-bounded organelle', 'catalytic activity',\n",
       "       'negative regulation of hydrolase activity',\n",
       "       'transferase activity, transferring glycosyl groups',\n",
       "       'response to endoplasmic reticulum stress',\n",
       "       'regulation of protein stability', 'ligase activity',\n",
       "       'spermatogenesis', 'carbohydrate binding', 'cilium',\n",
       "       'ion transport', 'regulation of immune system process',\n",
       "       'spliceosomal complex', 'nuclease activity',\n",
       "       'ubiquitin ligase complex', 'mitochondrial membrane',\n",
       "       'response to virus',\n",
       "       'regulation of actin cytoskeleton organization', 'lyase activity',\n",
       "       'cytokine-mediated signaling pathway', 'vesicle',\n",
       "       'regulation of protein phosphorylation',\n",
       "       'G-protein coupled receptor binding',\n",
       "       'cell adhesion molecule binding',\n",
       "       'regulation of cell morphogenesis',\n",
       "       'negative regulation of protein phosphorylation', 'endocytosis',\n",
       "       'transcription factor binding',\n",
       "       'positive regulation of cell migration', 'RNA splicing',\n",
       "       'positive regulation of hydrolase activity',\n",
       "       'mitochondrial matrix', 'enzyme activator activity',\n",
       "       'response to radiation',\n",
       "       'negative regulation of transcription by RNA polymerase II',\n",
       "       'response to lipid', 'mRNA processing',\n",
       "       'regulation of cellular protein localization',\n",
       "       'protein phosphorylation', 'cell division',\n",
       "       'cytoplasmic vesicle membrane', 'regulation of catalytic activity',\n",
       "       'regulation of cytokine production', 'enzyme inhibitor activity',\n",
       "       'carbohydrate metabolic process',\n",
       "       'multicellular organism development', 'Golgi membrane',\n",
       "       'cell cycle', 'cell differentiation', 'neuron projection',\n",
       "       'transcription, DNA-templated', 'regulation of cell migration',\n",
       "       'biosynthetic process', 'cell projection organization',\n",
       "       'positive regulation of cell proliferation',\n",
       "       'microtubule organizing center',\n",
       "       'G-protein coupled receptor signaling pathway',\n",
       "       'negative regulation of transcription, DNA-templated',\n",
       "       'regulation of cellular component movement',\n",
       "       'transferase activity', 'integral component of plasma membrane',\n",
       "       'extracellular exosome', 'regulation of protein localization',\n",
       "       'cellular response to organic substance',\n",
       "       'hydrolase activity, acting on ester bonds',\n",
       "       'protein-containing complex binding',\n",
       "       'endoplasmic reticulum membrane', 'regulation of gene expression',\n",
       "       'nucleic acid binding', 'negative regulation of gene expression',\n",
       "       'structural molecule activity', 'defense response',\n",
       "       'regulation of cell proliferation',\n",
       "       'protein dimerization activity', 'cell junction',\n",
       "       'regulation of transcription by RNA polymerase II',\n",
       "       'regulation of transcription, DNA-templated',\n",
       "       'signal transduction', 'protein-containing complex',\n",
       "       'response to stress', 'molecular function regulator',\n",
       "       'regulation of cell death', 'DNA binding'], dtype=object)"
      ]
     },
     "execution_count": 10,
     "metadata": {},
     "output_type": "execute_result"
    }
   ],
   "source": [
    "df1['Function'].unique()"
   ]
  },
  {
   "cell_type": "code",
   "execution_count": 11,
   "metadata": {},
   "outputs": [
    {
     "data": {
      "text/plain": [
       "0      Q3ZCL0(Evidence code:IEA/Database source:Inter...\n",
       "1      P61585(Evidence code:IEA/Database source:UniPr...\n",
       "2      Q3MHN2(Evidence code:ISS/Database source:UniPr...\n",
       "3      P31976(Evidence code:IEA/Database source:UniPr...\n",
       "4      P19803(Evidence code:IEA/Database source:UniPr...\n",
       "                             ...                        \n",
       "954    Q76LV2(Evidence code:IEA/Database source:UniPr...\n",
       "955    Q76LV1(Evidence code:IEA/Database source:Inter...\n",
       "956    P04272(Evidence code:IEA/Database source:UniPr...\n",
       "957    P63103(Evidence code:IEA/Database source:UniPr...\n",
       "958    Q0P569(Evidence code:IEA/Database source:UniPr...\n",
       "Name: Proteins, Length: 959, dtype: object"
      ]
     },
     "execution_count": 11,
     "metadata": {},
     "output_type": "execute_result"
    }
   ],
   "source": [
    "df1['Proteins']"
   ]
  },
  {
   "cell_type": "code",
   "execution_count": 12,
   "metadata": {},
   "outputs": [
    {
     "data": {
      "text/plain": [
       "<seaborn.axisgrid.PairGrid at 0x2148e329d30>"
      ]
     },
     "execution_count": 12,
     "metadata": {},
     "output_type": "execute_result"
    },
    {
     "data": {
      "image/png": "[encoded data removed]",
      "text/plain": [
       "<Figure size 900x900 with 30 Axes>"
      ]
     },
     "metadata": {},
     "output_type": "display_data"
    }
   ],
   "source": [
    "sns.pairplot(data=df1)  "
   ]
  },
  {
   "cell_type": "code",
   "execution_count": 13,
   "metadata": {},
   "outputs": [
    {
     "name": "stderr",
     "output_type": "stream",
     "text": [
      "c:\\Users\\adity\\anaconda3\\lib\\site-packages\\seaborn\\distributions.py:2551: FutureWarning: `distplot` is a deprecated function and will be removed in a future version. Please adapt your code to use either `displot` (a figure-level function with similar flexibility) or `histplot` (an axes-level function for histograms).\n",
      "  warnings.warn(msg, FutureWarning)\n",
      "c:\\Users\\adity\\anaconda3\\lib\\site-packages\\seaborn\\_decorators.py:36: FutureWarning: Pass the following variable as a keyword arg: x. From version 0.12, the only valid positional argument will be `data`, and passing other arguments without an explicit keyword will result in an error or misinterpretation.\n",
      "  warnings.warn(\n"
     ]
    },
    {
     "data": {
      "image/png": "[encoded data removed]",
      "text/plain": [
       "<Figure size 864x432 with 2 Axes>"
      ]
     },
     "metadata": {},
     "output_type": "display_data"
    }
   ],
   "source": [
    "fig1, axes1 = plt.subplots(1,2, figsize=(12,6))\n",
    "sns.distplot(x=df1['Count of protein'],kde=True,ax=axes1[0])\n",
    "sns.boxplot(df1['Count of protein'],color='b',ax=axes1[1])\n",
    "axes1[0].set_title('Ditribution of Count of proteins')\n",
    "axes1[1].set_title('Count of proteins range')\n",
    "plt.show()"
   ]
  },
  {
   "cell_type": "code",
   "execution_count": 14,
   "metadata": {},
   "outputs": [
    {
     "name": "stderr",
     "output_type": "stream",
     "text": [
      "c:\\Users\\adity\\anaconda3\\lib\\site-packages\\seaborn\\distributions.py:2551: FutureWarning: `distplot` is a deprecated function and will be removed in a future version. Please adapt your code to use either `displot` (a figure-level function with similar flexibility) or `histplot` (an axes-level function for histograms).\n",
      "  warnings.warn(msg, FutureWarning)\n",
      "c:\\Users\\adity\\anaconda3\\lib\\site-packages\\seaborn\\_decorators.py:36: FutureWarning: Pass the following variable as a keyword arg: x. From version 0.12, the only valid positional argument will be `data`, and passing other arguments without an explicit keyword will result in an error or misinterpretation.\n",
      "  warnings.warn(\n"
     ]
    },
    {
     "data": {
      "image/png": "[encoded data removed]",
      "text/plain": [
       "<Figure size 864x432 with 2 Axes>"
      ]
     },
     "metadata": {},
     "output_type": "display_data"
    }
   ],
   "source": [
    "fig1, axes1 = plt.subplots(1,2, figsize=(12,6))\n",
    "sns.distplot(x=df1['GO frequency within the dataset (%)'],kde=True,ax=axes1[0])\n",
    "sns.boxplot(df1['GO frequency within the dataset (%)'],color='b',ax=axes1[1])\n",
    "axes1[0].set_title('Ditribution of GO frequency within the dataset (%)')\n",
    "axes1[1].set_title('GO frequency within the dataset (%) range')\n",
    "plt.show()"
   ]
  },
  {
   "cell_type": "code",
   "execution_count": 15,
   "metadata": {},
   "outputs": [
    {
     "name": "stderr",
     "output_type": "stream",
     "text": [
      "c:\\Users\\adity\\anaconda3\\lib\\site-packages\\seaborn\\distributions.py:2551: FutureWarning: `distplot` is a deprecated function and will be removed in a future version. Please adapt your code to use either `displot` (a figure-level function with similar flexibility) or `histplot` (an axes-level function for histograms).\n",
      "  warnings.warn(msg, FutureWarning)\n",
      "c:\\Users\\adity\\anaconda3\\lib\\site-packages\\seaborn\\_decorators.py:36: FutureWarning: Pass the following variable as a keyword arg: x. From version 0.12, the only valid positional argument will be `data`, and passing other arguments without an explicit keyword will result in an error or misinterpretation.\n",
      "  warnings.warn(\n"
     ]
    },
    {
     "data": {
      "image/png": "[encoded data removed]",
      "text/plain": [
       "<Figure size 864x432 with 2 Axes>"
      ]
     },
     "metadata": {},
     "output_type": "display_data"
    }
   ],
   "source": [
    "fig1, axes1 = plt.subplots(1,2, figsize=(12,6))\n",
    "sns.distplot(x=df1['GO frequency within the genome (%)'],kde=True,ax=axes1[0])\n",
    "sns.boxplot(df1['GO frequency within the genome (%)'],color='b',ax=axes1[1])\n",
    "axes1[0].set_title('Ditribution of GO frequency within the genome (%)')\n",
    "axes1[1].set_title('GO frequency within the genome (%) range')\n",
    "plt.show()"
   ]
  },
  {
   "cell_type": "code",
   "execution_count": 16,
   "metadata": {},
   "outputs": [
    {
     "data": {
      "text/html": [
       "<div>\n",
       "<style scoped>\n",
       "    .dataframe tbody tr th:only-of-type {\n",
       "        vertical-align: middle;\n",
       "    }\n",
       "\n",
       "    .dataframe tbody tr th {\n",
       "        vertical-align: top;\n",
       "    }\n",
       "\n",
       "    .dataframe thead th {\n",
       "        text-align: right;\n",
       "    }\n",
       "</style>\n",
       "<table border=\"1\" class=\"dataframe\">\n",
       "  <thead>\n",
       "    <tr style=\"text-align: right;\">\n",
       "      <th></th>\n",
       "      <th>Count of protein</th>\n",
       "      <th>GO frequency within the dataset (%)</th>\n",
       "      <th>GO frequency within the genome (%)</th>\n",
       "      <th>P-Value</th>\n",
       "      <th>P-Values_BH</th>\n",
       "    </tr>\n",
       "  </thead>\n",
       "  <tbody>\n",
       "    <tr>\n",
       "      <th>Count of protein</th>\n",
       "      <td>1.000000</td>\n",
       "      <td>1.000000</td>\n",
       "      <td>-0.124371</td>\n",
       "      <td>-0.095221</td>\n",
       "      <td>-0.114153</td>\n",
       "    </tr>\n",
       "    <tr>\n",
       "      <th>GO frequency within the dataset (%)</th>\n",
       "      <td>1.000000</td>\n",
       "      <td>1.000000</td>\n",
       "      <td>-0.124477</td>\n",
       "      <td>-0.095299</td>\n",
       "      <td>-0.114245</td>\n",
       "    </tr>\n",
       "    <tr>\n",
       "      <th>GO frequency within the genome (%)</th>\n",
       "      <td>-0.124371</td>\n",
       "      <td>-0.124477</td>\n",
       "      <td>1.000000</td>\n",
       "      <td>-0.328997</td>\n",
       "      <td>-0.334396</td>\n",
       "    </tr>\n",
       "    <tr>\n",
       "      <th>P-Value</th>\n",
       "      <td>-0.095221</td>\n",
       "      <td>-0.095299</td>\n",
       "      <td>-0.328997</td>\n",
       "      <td>1.000000</td>\n",
       "      <td>0.999087</td>\n",
       "    </tr>\n",
       "    <tr>\n",
       "      <th>P-Values_BH</th>\n",
       "      <td>-0.114153</td>\n",
       "      <td>-0.114245</td>\n",
       "      <td>-0.334396</td>\n",
       "      <td>0.999087</td>\n",
       "      <td>1.000000</td>\n",
       "    </tr>\n",
       "  </tbody>\n",
       "</table>\n",
       "</div>"
      ],
      "text/plain": [
       "                                     Count of protein  \\\n",
       "Count of protein                             1.000000   \n",
       "GO frequency within the dataset (%)          1.000000   \n",
       "GO frequency within the genome (%)          -0.124371   \n",
       "P-Value                                     -0.095221   \n",
       "P-Values_BH                                 -0.114153   \n",
       "\n",
       "                                     GO frequency within the dataset (%)  \\\n",
       "Count of protein                                                1.000000   \n",
       "GO frequency within the dataset (%)                             1.000000   \n",
       "GO frequency within the genome (%)                             -0.124477   \n",
       "P-Value                                                        -0.095299   \n",
       "P-Values_BH                                                    -0.114245   \n",
       "\n",
       "                                     GO frequency within the genome (%)  \\\n",
       "Count of protein                                              -0.124371   \n",
       "GO frequency within the dataset (%)                           -0.124477   \n",
       "GO frequency within the genome (%)                             1.000000   \n",
       "P-Value                                                       -0.328997   \n",
       "P-Values_BH                                                   -0.334396   \n",
       "\n",
       "                                      P-Value  P-Values_BH  \n",
       "Count of protein                    -0.095221    -0.114153  \n",
       "GO frequency within the dataset (%) -0.095299    -0.114245  \n",
       "GO frequency within the genome (%)  -0.328997    -0.334396  \n",
       "P-Value                              1.000000     0.999087  \n",
       "P-Values_BH                          0.999087     1.000000  "
      ]
     },
     "execution_count": 16,
     "metadata": {},
     "output_type": "execute_result"
    }
   ],
   "source": [
    "df1.corr()"
   ]
  },
  {
   "cell_type": "code",
   "execution_count": 17,
   "metadata": {},
   "outputs": [
    {
     "data": {
      "text/plain": [
       "<AxesSubplot:>"
      ]
     },
     "execution_count": 17,
     "metadata": {},
     "output_type": "execute_result"
    },
    {
     "data": {
      "image/png": "[encoded data removed]",
      "text/plain": [
       "<Figure size 432x288 with 2 Axes>"
      ]
     },
     "metadata": {},
     "output_type": "display_data"
    }
   ],
   "source": [
    "sns.heatmap(df1.corr(),annot=True)"
   ]
  },
  {
   "cell_type": "code",
   "execution_count": 18,
   "metadata": {},
   "outputs": [
    {
     "name": "stdout",
     "output_type": "stream",
     "text": [
      "GO frequency within the dataset (%) : skewness %f 9.1082290453465\n",
      "GO frequency within the dataset (%) : kurtosis %f 102.20669602557417\n",
      "Count of protein : skewness %f 9.113219940473808\n",
      "Count of protein : kurtosis %f 102.2914592399735\n",
      "GO frequency within the genome (%) : skewness %f 1.3944706048970992\n",
      "GO frequency within the genome (%) : kurtosis %f 0.7161043223469385\n"
     ]
    }
   ],
   "source": [
    "print(\"GO frequency within the dataset (%) : skewness %f\",df1['GO frequency within the dataset (%)'].skew())\n",
    "print(\"GO frequency within the dataset (%) : kurtosis %f\",df1['GO frequency within the dataset (%)'].kurt())\n",
    "print(\"Count of protein : skewness %f\",df1['Count of protein'].skew())\n",
    "print(\"Count of protein : kurtosis %f\",df1['Count of protein'].kurt())\n",
    "print(\"GO frequency within the genome (%) : skewness %f\",df1['GO frequency within the genome (%)'].skew())\n",
    "print(\"GO frequency within the genome (%) : kurtosis %f\",df1['GO frequency within the genome (%)'].kurt())"
   ]
  },
  {
   "cell_type": "code",
   "execution_count": 19,
   "metadata": {},
   "outputs": [],
   "source": [
    "# so using EDA we can say that we can use \"count 0f protein\" vs \"GO frequency within the genome\" as\n",
    "#  our dependent and independent attributes in the given dataset "
   ]
  },
  {
   "cell_type": "code",
   "execution_count": 20,
   "metadata": {},
   "outputs": [],
   "source": [
    "df1.drop(columns=['GO','Function','Gene Name','Ontology group','Number of proteins detected within the genome','P-Value','P-Values_BH'],inplace=True)"
   ]
  },
  {
   "cell_type": "code",
   "execution_count": 21,
   "metadata": {},
   "outputs": [
    {
     "name": "stdout",
     "output_type": "stream",
     "text": [
      "<class 'pandas.core.frame.DataFrame'>\n",
      "RangeIndex: 959 entries, 0 to 958\n",
      "Data columns (total 4 columns):\n",
      " #   Column                               Non-Null Count  Dtype  \n",
      "---  ------                               --------------  -----  \n",
      " 0   Proteins                             959 non-null    object \n",
      " 1   Count of protein                     959 non-null    int64  \n",
      " 2   GO frequency within the dataset (%)  959 non-null    float64\n",
      " 3   GO frequency within the genome (%)   959 non-null    float64\n",
      "dtypes: float64(2), int64(1), object(1)\n",
      "memory usage: 30.1+ KB\n"
     ]
    }
   ],
   "source": [
    "df1.info()"
   ]
  },
  {
   "cell_type": "code",
   "execution_count": 22,
   "metadata": {},
   "outputs": [
    {
     "data": {
      "text/plain": [
       "count    959.000000\n",
       "mean       1.907195\n",
       "std        3.315797\n",
       "min        1.000000\n",
       "25%        1.000000\n",
       "50%        1.000000\n",
       "75%        2.000000\n",
       "max       48.000000\n",
       "Name: Count of protein, dtype: float64"
      ]
     },
     "execution_count": 22,
     "metadata": {},
     "output_type": "execute_result"
    }
   ],
   "source": [
    "df1['Count of protein'].describe()"
   ]
  },
  {
   "cell_type": "code",
   "execution_count": 23,
   "metadata": {},
   "outputs": [
    {
     "data": {
      "text/plain": [
       "count    959.000000\n",
       "mean      26.841356\n",
       "std       31.756434\n",
       "min        0.080000\n",
       "25%        3.960000\n",
       "50%       12.500000\n",
       "75%       33.330000\n",
       "max      120.000000\n",
       "Name: GO frequency within the genome (%), dtype: float64"
      ]
     },
     "execution_count": 23,
     "metadata": {},
     "output_type": "execute_result"
    }
   ],
   "source": [
    "df1['GO frequency within the genome (%)'].describe()"
   ]
  },
  {
   "cell_type": "code",
   "execution_count": 24,
   "metadata": {},
   "outputs": [],
   "source": [
    "# scaler = preprocessing.MinMaxScaler(feature_range=(0,1))"
   ]
  },
  {
   "cell_type": "code",
   "execution_count": 25,
   "metadata": {},
   "outputs": [],
   "source": [
    "from sklearn.model_selection import train_test_split"
   ]
  },
  {
   "cell_type": "code",
   "execution_count": 26,
   "metadata": {},
   "outputs": [],
   "source": [
    "x = (df1['Count of protein']).to_numpy()\n",
    "y = (df1['GO frequency within the genome (%)']).to_numpy()"
   ]
  },
  {
   "cell_type": "code",
   "execution_count": 27,
   "metadata": {},
   "outputs": [],
   "source": [
    "# coldy = x.to_numpy()"
   ]
  },
  {
   "cell_type": "code",
   "execution_count": 28,
   "metadata": {},
   "outputs": [
    {
     "data": {
      "text/plain": [
       "numpy.ndarray"
      ]
     },
     "execution_count": 28,
     "metadata": {},
     "output_type": "execute_result"
    }
   ],
   "source": [
    "type(x)"
   ]
  },
  {
   "cell_type": "code",
   "execution_count": 29,
   "metadata": {},
   "outputs": [
    {
     "data": {
      "text/plain": [
       "array([1.600e+01, 5.870e+00, 6.570e+00, 3.140e+00, 2.340e+00, 1.964e+01,\n",
       "       1.200e+02, 2.730e+00, 4.375e+01, 7.630e+00, 1.880e+00, 5.450e+00,\n",
       "       3.158e+01, 8.333e+01, 8.110e+00, 6.060e+00, 5.556e+01, 8.420e+00,\n",
       "       4.930e+00, 1.167e+01, 5.450e+00, 3.170e+00, 1.000e+02, 2.220e+00,\n",
       "       2.500e+01, 2.500e+01, 3.290e+00, 1.154e+01, 5.714e+01, 5.714e+01,\n",
       "       1.613e+01, 1.562e+01, 4.680e+00, 3.333e+01, 1.351e+01, 3.077e+01,\n",
       "       3.077e+01, 1.220e+01, 7.500e+01, 7.500e+01, 7.500e+01, 7.500e+01,\n",
       "       4.320e+00, 4.240e+00, 6.000e+01, 6.000e+01, 1.667e+01, 1.538e+01,\n",
       "       7.580e+00, 4.286e+01, 4.286e+01, 4.286e+01, 1.290e+01, 1.290e+01,\n",
       "       3.750e+01, 3.750e+01, 3.330e+00, 3.333e+01, 3.333e+01, 3.333e+01,\n",
       "       3.000e+01, 4.140e+00, 6.020e+00, 5.810e+00, 1.026e+01, 9.300e+00,\n",
       "       5.320e+00, 2.308e+01, 2.143e+01, 8.510e+00, 2.000e+01, 7.840e+00,\n",
       "       7.690e+00, 4.550e+00, 1.765e+01, 1.667e+01, 7.020e+00, 1.579e+01,\n",
       "       4.130e+00, 1.500e+01, 1.000e+02, 1.000e+02, 1.000e+02, 1.000e+02,\n",
       "       1.000e+02, 1.000e+02, 6.250e+00, 1.304e+01, 2.210e+00, 5.630e+00,\n",
       "       6.667e+01, 6.667e+01, 6.667e+01, 6.667e+01, 1.154e+01, 5.000e+01,\n",
       "       5.000e+01, 5.000e+01, 5.000e+01, 5.000e+01, 5.000e+01, 5.000e+01,\n",
       "       5.000e+01, 5.000e+01, 1.000e+01, 1.000e+01, 9.380e+00, 9.380e+00,\n",
       "       4.000e+01, 4.000e+01, 4.000e+01, 4.000e+01, 4.000e+01, 4.000e+01,\n",
       "       4.000e+01, 4.000e+01, 8.820e+00, 8.820e+00, 1.820e+00, 3.333e+01,\n",
       "       3.333e+01, 3.333e+01, 3.333e+01, 1.070e+00, 4.120e+00, 1.740e+00,\n",
       "       9.000e-01, 2.857e+01, 2.857e+01, 2.857e+01, 2.857e+01, 2.857e+01,\n",
       "       2.857e+01, 2.857e+01, 2.630e+00, 3.770e+00, 6.820e+00, 2.500e+01,\n",
       "       2.222e+01, 2.222e+01, 2.222e+01, 6.250e+00, 1.850e+00, 6.000e+00,\n",
       "       2.000e+01, 2.000e+01, 2.000e+01, 2.000e+01, 2.000e+01, 3.230e+00,\n",
       "       2.270e+00, 1.818e+01, 1.818e+01, 1.818e+01, 1.818e+01, 1.818e+01,\n",
       "       5.450e+00, 5.450e+00, 5.450e+00, 1.667e+01, 5.260e+00, 9.200e-01,\n",
       "       1.538e+01, 1.660e+00, 1.429e+01, 1.333e+01, 1.333e+01, 1.250e+01,\n",
       "       4.230e+00, 4.230e+00, 1.176e+01, 1.176e+01, 1.111e+01, 1.053e+01,\n",
       "       2.350e+00, 1.000e+01, 1.000e+01, 1.000e+01, 1.000e+01, 1.000e+01,\n",
       "       3.750e+00, 9.520e+00, 9.520e+00, 9.520e+00, 9.520e+00, 3.490e+00,\n",
       "       8.700e+00, 8.700e+00, 8.330e+00, 8.000e+00, 3.190e+00, 7.690e+00,\n",
       "       7.690e+00, 7.690e+00, 7.690e+00, 7.690e+00, 7.410e+00, 6.060e+00,\n",
       "       6.060e+00, 6.450e+00, 6.670e+00, 5.560e+00, 5.880e+00, 5.560e+00,\n",
       "       6.900e+00, 5.710e+00, 1.000e+02, 1.000e+02, 1.000e+02, 1.000e+02,\n",
       "       1.000e+02, 1.000e+02, 1.000e+02, 1.000e+02, 1.000e+02, 1.000e+02,\n",
       "       1.000e+02, 1.000e+02, 1.000e+02, 1.000e+02, 1.000e+02, 1.000e+02,\n",
       "       1.000e+02, 1.000e+02, 1.000e+02, 1.000e+02, 1.000e+02, 1.000e+02,\n",
       "       1.000e+02, 1.000e+02, 1.000e+02, 1.000e+02, 1.000e+02, 1.000e+02,\n",
       "       1.000e+02, 1.000e+02, 1.000e+02, 1.000e+02, 1.000e+02, 1.000e+02,\n",
       "       1.000e+02, 1.000e+02, 1.000e+02, 1.000e+02, 1.000e+02, 1.000e+02,\n",
       "       1.000e+02, 1.000e+02, 1.000e+02, 1.000e+02, 1.000e+02, 1.000e+02,\n",
       "       1.000e+02, 1.000e+02, 1.000e+02, 1.000e+02, 1.000e+02, 1.000e+02,\n",
       "       1.000e+02, 1.000e+02, 1.000e+02, 1.000e+02, 1.000e+02, 1.000e+02,\n",
       "       1.000e+02, 1.000e+02, 1.000e+02, 1.000e+02, 1.000e+02, 1.000e+02,\n",
       "       1.000e+02, 1.000e+02, 1.000e+02, 1.000e+02, 1.000e+02, 1.000e+02,\n",
       "       1.000e+02, 1.000e+02, 1.000e+02, 1.000e+02, 1.000e+02, 1.000e+02,\n",
       "       1.000e+02, 1.000e+02, 1.000e+02, 1.000e+02, 1.000e+02, 1.000e+02,\n",
       "       1.000e+02, 1.000e+02, 1.000e+02, 1.000e+02, 1.000e+02, 1.000e+02,\n",
       "       1.000e+02, 1.000e+02, 1.000e+02, 1.000e+02, 1.000e+02, 1.000e+02,\n",
       "       1.000e+02, 1.000e+02, 1.000e+02, 1.000e+02, 1.000e+02, 1.000e+02,\n",
       "       1.000e+02, 1.000e+02, 1.000e+02, 1.000e+02, 1.000e+02, 1.000e+02,\n",
       "       1.000e+02, 1.000e+02, 1.000e+02, 5.410e+00, 5.410e+00, 1.320e+00,\n",
       "       5.260e+00, 5.260e+00, 1.270e+00, 2.310e+00, 4.650e+00, 4.550e+00,\n",
       "       4.550e+00, 4.760e+00, 5.000e+01, 5.000e+01, 5.000e+01, 5.000e+01,\n",
       "       5.000e+01, 5.000e+01, 5.000e+01, 5.000e+01, 5.000e+01, 5.000e+01,\n",
       "       5.000e+01, 5.000e+01, 5.000e+01, 5.000e+01, 5.000e+01, 5.000e+01,\n",
       "       5.000e+01, 5.000e+01, 5.000e+01, 5.000e+01, 5.000e+01, 5.000e+01,\n",
       "       5.000e+01, 5.000e+01, 5.000e+01, 5.000e+01, 5.000e+01, 5.000e+01,\n",
       "       5.000e+01, 5.000e+01, 5.000e+01, 5.000e+01, 5.000e+01, 5.000e+01,\n",
       "       5.000e+01, 5.000e+01, 5.000e+01, 5.000e+01, 5.000e+01, 5.000e+01,\n",
       "       5.000e+01, 5.000e+01, 5.000e+01, 5.000e+01, 5.000e+01, 5.000e+01,\n",
       "       5.000e+01, 5.000e+01, 5.000e+01, 5.000e+01, 5.000e+01, 5.000e+01,\n",
       "       5.000e+01, 5.000e+01, 5.000e+01, 5.000e+01, 5.000e+01, 5.000e+01,\n",
       "       5.000e+01, 5.000e+01, 5.000e+01, 5.000e+01, 5.000e+01, 5.000e+01,\n",
       "       5.000e+01, 5.000e+01, 5.000e+01, 5.000e+01, 5.000e+01, 5.000e+01,\n",
       "       5.000e+01, 5.000e+01, 5.000e+01, 5.000e+01, 5.000e+01, 5.000e+01,\n",
       "       5.000e+01, 5.000e+01, 5.000e+01, 5.000e+01, 5.000e+01, 5.000e+01,\n",
       "       5.000e+01, 5.000e+01, 5.000e+01, 4.080e+00, 3.920e+00, 3.333e+01,\n",
       "       3.333e+01, 3.333e+01, 3.333e+01, 3.333e+01, 3.333e+01, 3.333e+01,\n",
       "       3.333e+01, 3.333e+01, 3.333e+01, 3.333e+01, 3.333e+01, 3.333e+01,\n",
       "       3.333e+01, 3.333e+01, 3.333e+01, 3.333e+01, 3.333e+01, 3.333e+01,\n",
       "       3.333e+01, 3.333e+01, 3.333e+01, 3.333e+01, 3.333e+01, 3.333e+01,\n",
       "       3.333e+01, 3.333e+01, 3.333e+01, 3.333e+01, 3.333e+01, 3.333e+01,\n",
       "       3.333e+01, 3.333e+01, 3.333e+01, 3.333e+01, 3.333e+01, 3.333e+01,\n",
       "       3.333e+01, 3.333e+01, 3.333e+01, 3.333e+01, 3.333e+01, 3.333e+01,\n",
       "       3.333e+01, 3.333e+01, 3.333e+01, 3.333e+01, 3.333e+01, 3.333e+01,\n",
       "       3.333e+01, 3.333e+01, 3.333e+01, 3.333e+01, 3.333e+01, 3.333e+01,\n",
       "       3.333e+01, 3.333e+01, 3.333e+01, 3.333e+01, 3.333e+01, 3.333e+01,\n",
       "       3.333e+01, 3.700e+00, 3.700e+00, 3.510e+00, 3.510e+00, 3.390e+00,\n",
       "       3.330e+00, 3.390e+00, 2.500e+01, 2.500e+01, 2.500e+01, 2.500e+01,\n",
       "       2.500e+01, 2.500e+01, 2.500e+01, 2.500e+01, 2.500e+01, 2.500e+01,\n",
       "       2.500e+01, 2.500e+01, 2.500e+01, 2.500e+01, 2.500e+01, 2.500e+01,\n",
       "       2.500e+01, 2.500e+01, 2.500e+01, 2.500e+01, 2.500e+01, 2.500e+01,\n",
       "       2.500e+01, 2.500e+01, 2.500e+01, 2.500e+01, 2.500e+01, 2.500e+01,\n",
       "       2.500e+01, 2.500e+01, 2.500e+01, 2.500e+01, 2.500e+01, 3.170e+00,\n",
       "       3.030e+00, 2.000e+01, 2.000e+01, 2.000e+01, 2.000e+01, 2.000e+01,\n",
       "       2.000e+01, 2.000e+01, 2.000e+01, 2.000e+01, 2.000e+01, 2.000e+01,\n",
       "       2.000e+01, 2.000e+01, 2.000e+01, 2.000e+01, 2.000e+01, 2.000e+01,\n",
       "       2.000e+01, 2.000e+01, 2.000e+01, 2.000e+01, 2.000e+01, 2.000e+01,\n",
       "       2.000e+01, 2.000e+01, 2.000e+01, 2.000e+01, 2.000e+01, 2.000e+01,\n",
       "       2.000e+01, 2.990e+00, 1.667e+01, 1.667e+01, 1.667e+01, 1.667e+01,\n",
       "       1.667e+01, 1.667e+01, 1.667e+01, 1.667e+01, 1.667e+01, 1.667e+01,\n",
       "       1.667e+01, 1.667e+01, 1.667e+01, 1.667e+01, 1.667e+01, 1.667e+01,\n",
       "       1.667e+01, 1.667e+01, 1.667e+01, 1.667e+01, 2.670e+00, 2.630e+00,\n",
       "       1.429e+01, 1.429e+01, 1.429e+01, 1.429e+01, 1.429e+01, 1.429e+01,\n",
       "       1.429e+01, 1.429e+01, 1.429e+01, 1.429e+01, 1.429e+01, 1.429e+01,\n",
       "       1.429e+01, 1.429e+01, 1.429e+01, 1.429e+01, 1.429e+01, 1.429e+01,\n",
       "       1.429e+01, 1.460e+00, 1.250e+01, 1.250e+01, 1.250e+01, 1.250e+01,\n",
       "       1.250e+01, 1.250e+01, 1.250e+01, 1.250e+01, 1.250e+01, 1.250e+01,\n",
       "       1.250e+01, 1.250e+01, 1.250e+01, 1.250e+01, 1.250e+01, 1.250e+01,\n",
       "       1.250e+01, 1.250e+01, 1.250e+01, 1.250e+01, 1.250e+01, 1.250e+01,\n",
       "       2.410e+00, 2.380e+00, 1.400e+00, 2.330e+00, 1.050e+00, 1.111e+01,\n",
       "       1.111e+01, 1.111e+01, 1.111e+01, 1.111e+01, 1.111e+01, 1.111e+01,\n",
       "       1.111e+01, 1.111e+01, 1.111e+01, 1.111e+01, 1.111e+01, 1.111e+01,\n",
       "       1.111e+01, 2.270e+00, 2.270e+00, 2.170e+00, 2.200e+00, 2.170e+00,\n",
       "       1.000e+01, 1.000e+01, 1.000e+01, 1.000e+01, 1.000e+01, 1.000e+01,\n",
       "       1.000e+01, 1.000e+01, 1.000e+01, 1.000e+01, 1.000e+01, 1.000e+01,\n",
       "       1.000e+01, 2.150e+00, 1.300e+00, 1.290e+00, 9.900e-01, 9.090e+00,\n",
       "       9.090e+00, 9.090e+00, 9.090e+00, 9.090e+00, 9.090e+00, 9.090e+00,\n",
       "       9.090e+00, 9.090e+00, 9.090e+00, 9.090e+00, 9.090e+00, 9.090e+00,\n",
       "       9.090e+00, 9.090e+00, 9.090e+00, 9.090e+00, 1.260e+00, 8.330e+00,\n",
       "       8.330e+00, 8.330e+00, 8.330e+00, 8.330e+00, 8.330e+00, 8.330e+00,\n",
       "       8.330e+00, 8.330e+00, 8.330e+00, 8.330e+00, 8.330e+00, 8.330e+00,\n",
       "       1.940e+00, 1.940e+00, 1.920e+00, 7.690e+00, 7.690e+00, 7.690e+00,\n",
       "       7.690e+00, 7.690e+00, 7.690e+00, 7.690e+00, 7.690e+00, 7.690e+00,\n",
       "       7.690e+00, 7.690e+00, 7.690e+00, 7.690e+00, 7.690e+00, 7.200e-01,\n",
       "       7.140e+00, 7.140e+00, 7.140e+00, 7.140e+00, 7.140e+00, 7.140e+00,\n",
       "       7.140e+00, 7.140e+00, 7.140e+00, 6.670e+00, 6.670e+00, 6.670e+00,\n",
       "       6.670e+00, 6.670e+00, 6.670e+00, 6.670e+00, 6.670e+00, 8.000e-02,\n",
       "       6.250e+00, 6.250e+00, 6.250e+00, 6.250e+00, 6.250e+00, 6.250e+00,\n",
       "       6.250e+00, 6.250e+00, 6.250e+00, 6.250e+00, 1.680e+00, 1.650e+00,\n",
       "       5.880e+00, 5.880e+00, 5.880e+00, 5.880e+00, 5.880e+00, 1.610e+00,\n",
       "       5.560e+00, 5.560e+00, 5.560e+00, 5.560e+00, 5.560e+00, 5.560e+00,\n",
       "       5.560e+00, 5.560e+00, 5.260e+00, 5.260e+00, 5.260e+00, 5.260e+00,\n",
       "       5.260e+00, 5.000e+00, 5.000e+00, 5.000e+00, 5.000e+00, 5.000e+00,\n",
       "       5.000e+00, 5.000e+00, 4.760e+00, 4.760e+00, 4.760e+00, 4.760e+00,\n",
       "       4.760e+00, 4.760e+00, 4.760e+00, 1.460e+00, 1.460e+00, 4.550e+00,\n",
       "       4.550e+00, 4.550e+00, 4.550e+00, 4.550e+00, 4.550e+00, 4.550e+00,\n",
       "       4.550e+00, 4.550e+00, 4.350e+00, 4.350e+00, 4.350e+00, 4.350e+00,\n",
       "       1.400e+00, 4.170e+00, 4.170e+00, 4.170e+00, 4.000e+00, 4.000e+00,\n",
       "       1.320e+00, 3.850e+00, 3.850e+00, 9.100e-01, 3.700e+00, 3.700e+00,\n",
       "       3.700e+00, 3.570e+00, 3.570e+00, 3.570e+00, 3.570e+00, 3.570e+00,\n",
       "       8.700e-01, 3.450e+00, 3.450e+00, 3.450e+00, 3.450e+00, 3.450e+00,\n",
       "       3.330e+00, 3.330e+00, 3.330e+00, 3.230e+00, 3.230e+00, 3.230e+00,\n",
       "       3.120e+00, 3.120e+00, 3.120e+00, 8.300e-01, 3.030e+00, 3.030e+00,\n",
       "       1.150e+00, 2.940e+00, 2.940e+00, 2.860e+00, 2.860e+00, 2.860e+00,\n",
       "       2.780e+00, 2.780e+00, 2.780e+00, 2.780e+00, 2.780e+00, 1.090e+00,\n",
       "       2.700e+00, 1.080e+00, 2.630e+00, 2.560e+00, 2.560e+00, 2.560e+00,\n",
       "       2.500e+00, 2.500e+00, 2.440e+00, 2.380e+00, 2.270e+00, 2.270e+00,\n",
       "       2.270e+00, 2.270e+00, 9.800e-01, 9.700e-01, 2.220e+00, 2.220e+00,\n",
       "       2.220e+00, 2.220e+00, 2.170e+00, 2.170e+00, 2.130e+00, 2.130e+00,\n",
       "       2.080e+00, 2.000e+00, 2.000e+00, 1.960e+00, 1.920e+00, 1.920e+00,\n",
       "       1.890e+00, 1.850e+00, 1.850e+00, 1.820e+00, 1.750e+00, 1.750e+00,\n",
       "       1.750e+00, 1.720e+00, 1.690e+00, 1.640e+00, 1.640e+00, 1.610e+00,\n",
       "       1.610e+00, 1.610e+00, 1.610e+00, 1.610e+00, 1.560e+00, 1.520e+00,\n",
       "       1.000e-01, 1.000e-01, 1.490e+00, 1.450e+00, 1.430e+00, 1.410e+00,\n",
       "       1.390e+00, 1.390e+00, 1.370e+00, 1.370e+00, 7.200e-01, 7.200e-01,\n",
       "       1.320e+00, 1.270e+00, 1.270e+00, 6.900e-01, 1.250e+00, 1.220e+00,\n",
       "       1.200e+00, 1.160e+00, 5.000e-01, 6.600e-01, 1.140e+00, 1.120e+00,\n",
       "       1.110e+00, 1.100e+00, 1.040e+00, 1.020e+00, 1.000e+00, 9.400e-01,\n",
       "       9.300e-01, 9.000e-01, 8.800e-01, 8.800e-01, 8.700e-01, 8.200e-01,\n",
       "       8.100e-01, 8.000e-01, 8.000e-01, 7.900e-01, 7.900e-01, 5.200e-01,\n",
       "       7.600e-01, 7.200e-01, 6.900e-01, 6.900e-01, 6.800e-01, 6.600e-01,\n",
       "       4.600e-01, 6.500e-01, 4.600e-01, 6.200e-01, 9.000e-02, 6.100e-01,\n",
       "       6.100e-01, 6.100e-01, 6.000e-01, 5.600e-01, 5.600e-01, 4.700e-01,\n",
       "       4.800e-01, 4.300e-01, 4.700e-01, 4.200e-01, 4.200e-01, 4.100e-01,\n",
       "       4.100e-01, 1.100e-01, 1.000e-01, 3.600e-01, 3.400e-01, 3.300e-01,\n",
       "       3.200e-01, 3.200e-01, 3.200e-01, 3.000e-01, 3.000e-01, 1.200e-01,\n",
       "       3.000e-01, 2.600e-01, 2.700e-01, 2.900e-01, 2.100e-01])"
      ]
     },
     "execution_count": 29,
     "metadata": {},
     "output_type": "execute_result"
    }
   ],
   "source": [
    "y"
   ]
  },
  {
   "cell_type": "code",
   "execution_count": 30,
   "metadata": {},
   "outputs": [],
   "source": [
    "# X_train, X_test, y_train, y_test = train_test_split(x,y, test_size=0.33, random_state=100)"
   ]
  },
  {
   "cell_type": "code",
   "execution_count": 31,
   "metadata": {},
   "outputs": [],
   "source": [
    "# y_train.describe()"
   ]
  },
  {
   "cell_type": "code",
   "execution_count": 32,
   "metadata": {},
   "outputs": [],
   "source": [
    "from sklearn.preprocessing import MinMaxScaler\n",
    "s= MinMaxScaler(feature_range=(0,1))"
   ]
  },
  {
   "cell_type": "code",
   "execution_count": 33,
   "metadata": {},
   "outputs": [],
   "source": [
    "x_new =s.fit_transform(x.reshape(-1,1))\n",
    "y_new=s.fit_transform(y.reshape(-1,1))"
   ]
  },
  {
   "cell_type": "code",
   "execution_count": 34,
   "metadata": {},
   "outputs": [],
   "source": [
    "# X_train.reshape(-1,1)"
   ]
  },
  {
   "cell_type": "code",
   "execution_count": 35,
   "metadata": {},
   "outputs": [],
   "source": [
    "# X_train1 = s.fit_transform()"
   ]
  },
  {
   "cell_type": "code",
   "execution_count": 36,
   "metadata": {},
   "outputs": [],
   "source": [
    "# from sklearn.preprocessing import MinMaxScaler"
   ]
  },
  {
   "cell_type": "code",
   "execution_count": 37,
   "metadata": {},
   "outputs": [],
   "source": [
    "# x = scaler.fit_transform(df1['Count of protein']) # independent variable "
   ]
  },
  {
   "cell_type": "code",
   "execution_count": 38,
   "metadata": {},
   "outputs": [],
   "source": [
    "X_train, X_test, y_train, y_test = train_test_split(x_new,y_new, test_size=0.33, random_state=100)"
   ]
  },
  {
   "cell_type": "code",
   "execution_count": 39,
   "metadata": {},
   "outputs": [
    {
     "data": {
      "text/plain": [
       "(642, 1)"
      ]
     },
     "execution_count": 39,
     "metadata": {},
     "output_type": "execute_result"
    }
   ],
   "source": [
    "X_train.shape"
   ]
  },
  {
   "cell_type": "code",
   "execution_count": 40,
   "metadata": {},
   "outputs": [
    {
     "data": {
      "text/plain": [
       "(959,)"
      ]
     },
     "execution_count": 40,
     "metadata": {},
     "output_type": "execute_result"
    }
   ],
   "source": [
    "x.shape"
   ]
  },
  {
   "cell_type": "code",
   "execution_count": 41,
   "metadata": {},
   "outputs": [],
   "source": [
    "from sklearn.ensemble import ExtraTreesRegressor\n",
    "reg = ExtraTreesRegressor()"
   ]
  },
  {
   "cell_type": "code",
   "execution_count": 42,
   "metadata": {},
   "outputs": [
    {
     "name": "stderr",
     "output_type": "stream",
     "text": [
      "<ipython-input-42-76dcf3f49433>:1: DataConversionWarning: A column-vector y was passed when a 1d array was expected. Please change the shape of y to (n_samples,), for example using ravel().\n",
      "  reg.fit(X_train,y_train)\n"
     ]
    },
    {
     "data": {
      "text/plain": [
       "ExtraTreesRegressor()"
      ]
     },
     "execution_count": 42,
     "metadata": {},
     "output_type": "execute_result"
    }
   ],
   "source": [
    "reg.fit(X_train,y_train)"
   ]
  },
  {
   "cell_type": "code",
   "execution_count": 43,
   "metadata": {},
   "outputs": [
    {
     "data": {
      "text/plain": [
       "array([1.])"
      ]
     },
     "execution_count": 43,
     "metadata": {},
     "output_type": "execute_result"
    }
   ],
   "source": [
    "reg.feature_importances_"
   ]
  },
  {
   "cell_type": "code",
   "execution_count": 44,
   "metadata": {},
   "outputs": [],
   "source": [
    "from sklearn.tree import DecisionTreeRegressor"
   ]
  },
  {
   "cell_type": "code",
   "execution_count": 45,
   "metadata": {},
   "outputs": [],
   "source": [
    "reg_model = DecisionTreeRegressor()"
   ]
  },
  {
   "cell_type": "code",
   "execution_count": 46,
   "metadata": {},
   "outputs": [
    {
     "data": {
      "text/plain": [
       "DecisionTreeRegressor()"
      ]
     },
     "execution_count": 46,
     "metadata": {},
     "output_type": "execute_result"
    }
   ],
   "source": [
    "reg_model.fit(X_train,y_train)"
   ]
  },
  {
   "cell_type": "code",
   "execution_count": 47,
   "metadata": {},
   "outputs": [
    {
     "data": {
      "text/plain": [
       "0.03208752925077174"
      ]
     },
     "execution_count": 47,
     "metadata": {},
     "output_type": "execute_result"
    }
   ],
   "source": [
    "reg_model.score(X_train,y_train)"
   ]
  },
  {
   "cell_type": "code",
   "execution_count": 48,
   "metadata": {},
   "outputs": [
    {
     "data": {
      "text/plain": [
       "0.04210735177664693"
      ]
     },
     "execution_count": 48,
     "metadata": {},
     "output_type": "execute_result"
    }
   ],
   "source": [
    "reg_model.score(X_test,y_test)"
   ]
  },
  {
   "cell_type": "code",
   "execution_count": 49,
   "metadata": {},
   "outputs": [],
   "source": [
    "prediction = reg_model.predict(X_test)"
   ]
  },
  {
   "cell_type": "code",
   "execution_count": 50,
   "metadata": {},
   "outputs": [
    {
     "name": "stderr",
     "output_type": "stream",
     "text": [
      "c:\\Users\\adity\\anaconda3\\lib\\site-packages\\seaborn\\distributions.py:2551: FutureWarning: `distplot` is a deprecated function and will be removed in a future version. Please adapt your code to use either `displot` (a figure-level function with similar flexibility) or `histplot` (an axes-level function for histograms).\n",
      "  warnings.warn(msg, FutureWarning)\n"
     ]
    },
    {
     "data": {
      "text/plain": [
       "<AxesSubplot:ylabel='Density'>"
      ]
     },
     "execution_count": 50,
     "metadata": {},
     "output_type": "execute_result"
    },
    {
     "data": {
      "image/png": "[encoded data removed]",
      "text/plain": [
       "<Figure size 432x288 with 1 Axes>"
      ]
     },
     "metadata": {},
     "output_type": "display_data"
    }
   ],
   "source": [
    "sns.distplot(y_test-prediction)"
   ]
  },
  {
   "cell_type": "code",
   "execution_count": 51,
   "metadata": {},
   "outputs": [],
   "source": [
    "# plt.scatter(y_test,prediction)"
   ]
  },
  {
   "cell_type": "code",
   "execution_count": 52,
   "metadata": {},
   "outputs": [],
   "source": [
    "# y_pred = reg_model.predict(X_test)\n",
    "# df = pd.DataFrame({'Real Values':y_test.reshape(-1), 'Predicted Values':y_pred.reshape(-1)})"
   ]
  },
  {
   "cell_type": "code",
   "execution_count": 53,
   "metadata": {},
   "outputs": [],
   "source": [
    "# plt.scatter(X_test, y_test, color = 'red')\n",
    "# plt.scatter(X_test, y_pred, color = 'green')"
   ]
  },
  {
   "cell_type": "markdown",
   "metadata": {},
   "source": [
    "Hyperparameter tunning"
   ]
  },
  {
   "cell_type": "code",
   "execution_count": 54,
   "metadata": {},
   "outputs": [],
   "source": [
    "parameters={\"splitter\":[\"best\",\"random\"],\n",
    "            \"max_depth\" : [1,3,5,7,9,11,12],\n",
    "           \"min_samples_leaf\":[1,2,3,4,5,6,7,8,9,10],\n",
    "           \"min_weight_fraction_leaf\":[0.1,0.2,0.3,0.4,0.5,0.6,0.7,0.8,0.9],\n",
    "           \"max_features\":[\"auto\",\"log2\",\"sqrt\",None],\n",
    "           \"max_leaf_nodes\":[None,10,20,30,40,50,60,70,80,90] }"
   ]
  },
  {
   "cell_type": "code",
   "execution_count": 55,
   "metadata": {},
   "outputs": [],
   "source": [
    "from sklearn.model_selection import GridSearchCV"
   ]
  },
  {
   "cell_type": "code",
   "execution_count": 56,
   "metadata": {},
   "outputs": [],
   "source": [
    "tuning_model=GridSearchCV(reg_model,param_grid=parameters,scoring='neg_mean_squared_error',cv=3,verbose=3)"
   ]
  },
  {
   "cell_type": "code",
   "execution_count": 57,
   "metadata": {},
   "outputs": [],
   "source": [
    "def timer(start_time=None):\n",
    "    if not start_time:\n",
    "        start_time=datetime.now()\n",
    "        return start_time\n",
    "    elif start_time:\n",
    "        thour,temp_sec=divmod((datetime.now()-start_time).total_seconds(),3600)\n",
    "        tmin,tsec=divmod(temp_sec,60)\n",
    "        #print(thour,\":\",tmin,':',round(tsec,2))"
   ]
  },
  {
   "cell_type": "code",
   "execution_count": 58,
   "metadata": {},
   "outputs": [
    {
     "data": {
      "text/plain": [
       "959"
      ]
     },
     "execution_count": 58,
     "metadata": {},
     "output_type": "execute_result"
    }
   ],
   "source": [
    "x.shape[0]"
   ]
  },
  {
   "cell_type": "code",
   "execution_count": 59,
   "metadata": {},
   "outputs": [],
   "source": [
    "# from datetime import datetime\n",
    "\n",
    "# start_time=timer(None)\n",
    "\n",
    "# tuning_model.fit(x.reshape(x.shape[0],1),y.reshape(y.shape[0],1))\n",
    "\n",
    "# timer(start_time)"
   ]
  },
  {
   "cell_type": "markdown",
   "metadata": {},
   "source": [
    "Will do the above hyperparameter tunning code in the colab as our system can't handel the load "
   ]
  },
  {
   "cell_type": "code",
   "execution_count": 65,
   "metadata": {},
   "outputs": [],
   "source": [
    "# got the best tunned prediction from the above hyperparameter tuning \n",
    "tuned_hyper_model= DecisionTreeRegressor(\n",
    " max_depth= 1,\n",
    " max_features= 'auto',\n",
    " max_leaf_nodes= 50,\n",
    " min_samples_leaf= 2,\n",
    " min_weight_fraction_leaf= 0.2,\n",
    " splitter= 'random')"
   ]
  },
  {
   "cell_type": "code",
   "execution_count": 66,
   "metadata": {},
   "outputs": [
    {
     "data": {
      "text/plain": [
       "DecisionTreeRegressor(max_depth=1, max_features='auto', max_leaf_nodes=50,\n",
       "                      min_samples_leaf=2, min_weight_fraction_leaf=0.2,\n",
       "                      splitter='random')"
      ]
     },
     "execution_count": 66,
     "metadata": {},
     "output_type": "execute_result"
    }
   ],
   "source": [
    "tuned_hyper_model.fit(X_train,y_train)"
   ]
  },
  {
   "cell_type": "code",
   "execution_count": 67,
   "metadata": {},
   "outputs": [],
   "source": [
    "tuned_pred=tuned_hyper_model.predict(X_test)"
   ]
  },
  {
   "cell_type": "code",
   "execution_count": 68,
   "metadata": {},
   "outputs": [
    {
     "data": {
      "text/plain": [
       "<matplotlib.collections.PathCollection at 0x21493b26bb0>"
      ]
     },
     "execution_count": 68,
     "metadata": {},
     "output_type": "execute_result"
    },
    {
     "data": {
      "image/png": "[encoded data removed]",
      "text/plain": [
       "<Figure size 432x288 with 1 Axes>"
      ]
     },
     "metadata": {},
     "output_type": "display_data"
    }
   ],
   "source": [
    "plt.scatter(y_test,tuned_pred)"
   ]
  },
  {
   "cell_type": "code",
   "execution_count": 71,
   "metadata": {},
   "outputs": [],
   "source": [
    "from sklearn import metrics"
   ]
  },
  {
   "cell_type": "code",
   "execution_count": 72,
   "metadata": {},
   "outputs": [
    {
     "name": "stdout",
     "output_type": "stream",
     "text": [
      "MAE: 0.21353783872267534\n",
      "MSE: 0.07516914665519028\n",
      "RMSE: 0.27416992295871967\n"
     ]
    }
   ],
   "source": [
    "print('MAE:', metrics.mean_absolute_error(y_test,tuned_pred))\n",
    "print('MSE:', metrics.mean_squared_error(y_test, tuned_pred))\n",
    "print('RMSE:', np.sqrt(metrics.mean_squared_error(y_test, tuned_pred)))"
   ]
  },
  {
   "cell_type": "code",
   "execution_count": 76,
   "metadata": {},
   "outputs": [],
   "source": [
    "y_pred = tuned_hyper_model.predict(X_test)"
   ]
  },
  {
   "cell_type": "code",
   "execution_count": null,
   "metadata": {},
   "outputs": [],
   "source": []
  }
 ],
 "metadata": {
  "kernelspec": {
   "display_name": "Python 3.8.5",
   "language": "python",
   "name": "python3"
  },
  "language_info": {
   "codemirror_mode": {
    "name": "ipython",
    "version": 3
   },
   "file_extension": ".py",
   "mimetype": "text/x-python",
   "name": "python",
   "nbconvert_exporter": "python",
   "pygments_lexer": "ipython3",
   "version": "3.8.5"
  },
  "orig_nbformat": 4,
  "vscode": {
   "interpreter": {
    "hash": "8891f3cfb547db503e78f25128202364d60f1c09259e140a1bd236c27b0b7a43"
   }
  }
 },
 "nbformat": 4,
 "nbformat_minor": 2
}
