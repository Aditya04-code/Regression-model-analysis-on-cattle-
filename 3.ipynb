{
 "cells": [
  {
   "cell_type": "code",
   "execution_count": 1,
   "metadata": {},
   "outputs": [],
   "source": [
    "import numpy as np\n",
    "import pandas as pd\n",
    "import seaborn as sns\n",
    "import matplotlib.pyplot as plt"
   ]
  },
  {
   "cell_type": "code",
   "execution_count": 2,
   "metadata": {},
   "outputs": [],
   "source": [
    "#setting structure for graphs\n",
    "sns.set(style=\"whitegrid\",palette='muted',color_codes=True)"
   ]
  },
  {
   "cell_type": "code",
   "execution_count": 3,
   "metadata": {},
   "outputs": [],
   "source": [
    "df3=pd.read_csv('./DF3.csv')"
   ]
  },
  {
   "cell_type": "code",
   "execution_count": 4,
   "metadata": {},
   "outputs": [
    {
     "data": {
      "text/html": [
       "<div>\n",
       "<style scoped>\n",
       "    .dataframe tbody tr th:only-of-type {\n",
       "        vertical-align: middle;\n",
       "    }\n",
       "\n",
       "    .dataframe tbody tr th {\n",
       "        vertical-align: top;\n",
       "    }\n",
       "\n",
       "    .dataframe thead th {\n",
       "        text-align: right;\n",
       "    }\n",
       "</style>\n",
       "<table border=\"1\" class=\"dataframe\">\n",
       "  <thead>\n",
       "    <tr style=\"text-align: right;\">\n",
       "      <th></th>\n",
       "      <th>GO</th>\n",
       "      <th>Function</th>\n",
       "      <th>Proteins</th>\n",
       "      <th>Gene Name</th>\n",
       "      <th>Ontology group</th>\n",
       "      <th>Count of protein</th>\n",
       "      <th>Number of proteins detected within the genome</th>\n",
       "      <th>GO frequency within the dataset (%)</th>\n",
       "      <th>GO frequency within the genome (%)</th>\n",
       "      <th>P-Value</th>\n",
       "      <th>P-Values_BH</th>\n",
       "    </tr>\n",
       "  </thead>\n",
       "  <tbody>\n",
       "    <tr>\n",
       "      <th>0</th>\n",
       "      <td>GO:0016020</td>\n",
       "      <td>membrane</td>\n",
       "      <td>P00428(Evidence code:IEA/Database source:UniPr...</td>\n",
       "      <td>COX5B ARL6IP5 SDHA TREM1 SEC11C OSTC COPG ALD...</td>\n",
       "      <td>CC</td>\n",
       "      <td>31</td>\n",
       "      <td>31 of 1837</td>\n",
       "      <td>59.62</td>\n",
       "      <td>1.69</td>\n",
       "      <td>2.077000e-18</td>\n",
       "      <td>6.689000e-16</td>\n",
       "    </tr>\n",
       "    <tr>\n",
       "      <th>1</th>\n",
       "      <td>GO:0005739</td>\n",
       "      <td>mitochondrion</td>\n",
       "      <td>P31039(Evidence code:ISS/Database source:UniPr...</td>\n",
       "      <td>SDHA CAT UQCRC1 COX7A2 ATP5H IVD ATP5F1 NDUFA...</td>\n",
       "      <td>CC</td>\n",
       "      <td>17</td>\n",
       "      <td>17 of 380</td>\n",
       "      <td>32.69</td>\n",
       "      <td>4.47</td>\n",
       "      <td>6.309000e-18</td>\n",
       "      <td>1.016000e-15</td>\n",
       "    </tr>\n",
       "    <tr>\n",
       "      <th>2</th>\n",
       "      <td>GO:0005783</td>\n",
       "      <td>endoplasmic reticulum</td>\n",
       "      <td>Q5E9X4(Evidence code:IEA/Database source:UniPr...</td>\n",
       "      <td>LRRC59 ERP44 SEC11C DDRGK1 LRPAP1 OSTC EEF1B ...</td>\n",
       "      <td>CC</td>\n",
       "      <td>14</td>\n",
       "      <td>14 of 220</td>\n",
       "      <td>26.92</td>\n",
       "      <td>6.36</td>\n",
       "      <td>3.653000e-17</td>\n",
       "      <td>3.921000e-15</td>\n",
       "    </tr>\n",
       "    <tr>\n",
       "      <th>3</th>\n",
       "      <td>GO:0016021</td>\n",
       "      <td>integral component of membrane</td>\n",
       "      <td>Q3T133(Evidence code:IEA/Database source:UniPr...</td>\n",
       "      <td>TMED9 SYPL1 SSR1 SEC11C GPAM ABCC4 TMEM43 SUR...</td>\n",
       "      <td>CC</td>\n",
       "      <td>19</td>\n",
       "      <td>19 of 1299</td>\n",
       "      <td>36.54</td>\n",
       "      <td>1.46</td>\n",
       "      <td>2.011000e-11</td>\n",
       "      <td>1.187000e-09</td>\n",
       "    </tr>\n",
       "    <tr>\n",
       "      <th>4</th>\n",
       "      <td>GO:0005743</td>\n",
       "      <td>mitochondrial inner membrane</td>\n",
       "      <td>P31039(Evidence code:ISS/Database source:UniPr...</td>\n",
       "      <td>SDHA ATP5J ATP5J2 NDUFA5 ATP5H COX5A COX5B AT...</td>\n",
       "      <td>CC</td>\n",
       "      <td>10</td>\n",
       "      <td>10 of 215</td>\n",
       "      <td>19.23</td>\n",
       "      <td>4.65</td>\n",
       "      <td>1.591000e-11</td>\n",
       "      <td>1.187000e-09</td>\n",
       "    </tr>\n",
       "  </tbody>\n",
       "</table>\n",
       "</div>"
      ],
      "text/plain": [
       "           GO                        Function  \\\n",
       "0  GO:0016020                        membrane   \n",
       "1  GO:0005739                   mitochondrion   \n",
       "2  GO:0005783           endoplasmic reticulum   \n",
       "3  GO:0016021  integral component of membrane   \n",
       "4  GO:0005743    mitochondrial inner membrane   \n",
       "\n",
       "                                            Proteins  \\\n",
       "0  P00428(Evidence code:IEA/Database source:UniPr...   \n",
       "1  P31039(Evidence code:ISS/Database source:UniPr...   \n",
       "2  Q5E9X4(Evidence code:IEA/Database source:UniPr...   \n",
       "3  Q3T133(Evidence code:IEA/Database source:UniPr...   \n",
       "4  P31039(Evidence code:ISS/Database source:UniPr...   \n",
       "\n",
       "                                           Gene Name Ontology group  \\\n",
       "0   COX5B ARL6IP5 SDHA TREM1 SEC11C OSTC COPG ALD...             CC   \n",
       "1   SDHA CAT UQCRC1 COX7A2 ATP5H IVD ATP5F1 NDUFA...             CC   \n",
       "2   LRRC59 ERP44 SEC11C DDRGK1 LRPAP1 OSTC EEF1B ...             CC   \n",
       "3   TMED9 SYPL1 SSR1 SEC11C GPAM ABCC4 TMEM43 SUR...             CC   \n",
       "4   SDHA ATP5J ATP5J2 NDUFA5 ATP5H COX5A COX5B AT...             CC   \n",
       "\n",
       "   Count of protein Number of proteins detected within the genome  \\\n",
       "0                31                                    31 of 1837   \n",
       "1                17                                     17 of 380   \n",
       "2                14                                     14 of 220   \n",
       "3                19                                    19 of 1299   \n",
       "4                10                                     10 of 215   \n",
       "\n",
       "   GO frequency within the dataset (%)  GO frequency within the genome (%)  \\\n",
       "0                                59.62                                1.69   \n",
       "1                                32.69                                4.47   \n",
       "2                                26.92                                6.36   \n",
       "3                                36.54                                1.46   \n",
       "4                                19.23                                4.65   \n",
       "\n",
       "        P-Value   P-Values_BH  \n",
       "0  2.077000e-18  6.689000e-16  \n",
       "1  6.309000e-18  1.016000e-15  \n",
       "2  3.653000e-17  3.921000e-15  \n",
       "3  2.011000e-11  1.187000e-09  \n",
       "4  1.591000e-11  1.187000e-09  "
      ]
     },
     "execution_count": 4,
     "metadata": {},
     "output_type": "execute_result"
    }
   ],
   "source": [
    "df3.head()"
   ]
  },
  {
   "cell_type": "code",
   "execution_count": 5,
   "metadata": {},
   "outputs": [
    {
     "data": {
      "text/html": [
       "<div>\n",
       "<style scoped>\n",
       "    .dataframe tbody tr th:only-of-type {\n",
       "        vertical-align: middle;\n",
       "    }\n",
       "\n",
       "    .dataframe tbody tr th {\n",
       "        vertical-align: top;\n",
       "    }\n",
       "\n",
       "    .dataframe thead th {\n",
       "        text-align: right;\n",
       "    }\n",
       "</style>\n",
       "<table border=\"1\" class=\"dataframe\">\n",
       "  <thead>\n",
       "    <tr style=\"text-align: right;\">\n",
       "      <th></th>\n",
       "      <th>GO</th>\n",
       "      <th>Function</th>\n",
       "      <th>Proteins</th>\n",
       "      <th>Gene Name</th>\n",
       "      <th>Ontology group</th>\n",
       "      <th>Count of protein</th>\n",
       "      <th>Number of proteins detected within the genome</th>\n",
       "      <th>GO frequency within the dataset (%)</th>\n",
       "      <th>GO frequency within the genome (%)</th>\n",
       "      <th>P-Value</th>\n",
       "      <th>P-Values_BH</th>\n",
       "    </tr>\n",
       "  </thead>\n",
       "  <tbody>\n",
       "    <tr>\n",
       "      <th>317</th>\n",
       "      <td>GO:0031090</td>\n",
       "      <td>organelle membrane</td>\n",
       "      <td>Q5E9X4(Evidence code:IEA/Database source:UniPr...</td>\n",
       "      <td>LRRC59</td>\n",
       "      <td>CC</td>\n",
       "      <td>1</td>\n",
       "      <td>1 of 830</td>\n",
       "      <td>1.92</td>\n",
       "      <td>0.12</td>\n",
       "      <td>1.0</td>\n",
       "      <td>1.0</td>\n",
       "    </tr>\n",
       "    <tr>\n",
       "      <th>318</th>\n",
       "      <td>GO:0003676</td>\n",
       "      <td>nucleic acid binding</td>\n",
       "      <td>Q3T147(Evidence code:IEA/Database source:Inter...</td>\n",
       "      <td>DDX39B</td>\n",
       "      <td>MF</td>\n",
       "      <td>1</td>\n",
       "      <td>1 of 989</td>\n",
       "      <td>1.92</td>\n",
       "      <td>0.10</td>\n",
       "      <td>1.0</td>\n",
       "      <td>1.0</td>\n",
       "    </tr>\n",
       "    <tr>\n",
       "      <th>319</th>\n",
       "      <td>GO:0007165</td>\n",
       "      <td>signal transduction</td>\n",
       "      <td>Q6QUN5(Evidence code:IEA/Database source:GO:00...</td>\n",
       "      <td>TREM1</td>\n",
       "      <td>BP</td>\n",
       "      <td>1</td>\n",
       "      <td>1 of 809</td>\n",
       "      <td>1.92</td>\n",
       "      <td>0.12</td>\n",
       "      <td>1.0</td>\n",
       "      <td>1.0</td>\n",
       "    </tr>\n",
       "    <tr>\n",
       "      <th>320</th>\n",
       "      <td>GO:0000166</td>\n",
       "      <td>nucleotide binding</td>\n",
       "      <td>Q3T147(Evidence code:IEA/Database source:UniPr...</td>\n",
       "      <td>DDX39B</td>\n",
       "      <td>MF</td>\n",
       "      <td>1</td>\n",
       "      <td>1 of 677</td>\n",
       "      <td>1.92</td>\n",
       "      <td>0.15</td>\n",
       "      <td>1.0</td>\n",
       "      <td>1.0</td>\n",
       "    </tr>\n",
       "    <tr>\n",
       "      <th>321</th>\n",
       "      <td>GO:0010468</td>\n",
       "      <td>regulation of gene expression</td>\n",
       "      <td>Q3T147(Evidence code:IBA/Database source:PANTH...</td>\n",
       "      <td>DDX39B</td>\n",
       "      <td>BP</td>\n",
       "      <td>1</td>\n",
       "      <td>1 of 870</td>\n",
       "      <td>1.92</td>\n",
       "      <td>0.11</td>\n",
       "      <td>1.0</td>\n",
       "      <td>1.0</td>\n",
       "    </tr>\n",
       "  </tbody>\n",
       "</table>\n",
       "</div>"
      ],
      "text/plain": [
       "             GO                       Function  \\\n",
       "317  GO:0031090             organelle membrane   \n",
       "318  GO:0003676           nucleic acid binding   \n",
       "319  GO:0007165            signal transduction   \n",
       "320  GO:0000166             nucleotide binding   \n",
       "321  GO:0010468  regulation of gene expression   \n",
       "\n",
       "                                              Proteins Gene Name  \\\n",
       "317  Q5E9X4(Evidence code:IEA/Database source:UniPr...    LRRC59   \n",
       "318  Q3T147(Evidence code:IEA/Database source:Inter...    DDX39B   \n",
       "319  Q6QUN5(Evidence code:IEA/Database source:GO:00...     TREM1   \n",
       "320  Q3T147(Evidence code:IEA/Database source:UniPr...    DDX39B   \n",
       "321  Q3T147(Evidence code:IBA/Database source:PANTH...    DDX39B   \n",
       "\n",
       "    Ontology group  Count of protein  \\\n",
       "317             CC                 1   \n",
       "318             MF                 1   \n",
       "319             BP                 1   \n",
       "320             MF                 1   \n",
       "321             BP                 1   \n",
       "\n",
       "    Number of proteins detected within the genome  \\\n",
       "317                                      1 of 830   \n",
       "318                                      1 of 989   \n",
       "319                                      1 of 809   \n",
       "320                                      1 of 677   \n",
       "321                                      1 of 870   \n",
       "\n",
       "     GO frequency within the dataset (%)  GO frequency within the genome (%)  \\\n",
       "317                                 1.92                                0.12   \n",
       "318                                 1.92                                0.10   \n",
       "319                                 1.92                                0.12   \n",
       "320                                 1.92                                0.15   \n",
       "321                                 1.92                                0.11   \n",
       "\n",
       "     P-Value  P-Values_BH  \n",
       "317      1.0          1.0  \n",
       "318      1.0          1.0  \n",
       "319      1.0          1.0  \n",
       "320      1.0          1.0  \n",
       "321      1.0          1.0  "
      ]
     },
     "execution_count": 5,
     "metadata": {},
     "output_type": "execute_result"
    }
   ],
   "source": [
    "df3.tail()"
   ]
  },
  {
   "cell_type": "code",
   "execution_count": 6,
   "metadata": {},
   "outputs": [],
   "source": [
    "# in df3 we will be dealing with early_lactation ( early function of milk production )"
   ]
  },
  {
   "cell_type": "code",
   "execution_count": 7,
   "metadata": {},
   "outputs": [
    {
     "data": {
      "text/plain": [
       "Index(['GO', 'Function', 'Proteins', 'Gene Name', 'Ontology group',\n",
       "       'Count of protein', 'Number of proteins detected within the genome',\n",
       "       'GO frequency within the dataset (%)',\n",
       "       'GO frequency within the genome (%)', 'P-Value', 'P-Values_BH'],\n",
       "      dtype='object')"
      ]
     },
     "execution_count": 7,
     "metadata": {},
     "output_type": "execute_result"
    }
   ],
   "source": [
    "df3.columns"
   ]
  },
  {
   "cell_type": "code",
   "execution_count": 8,
   "metadata": {},
   "outputs": [
    {
     "data": {
      "text/html": [
       "<div>\n",
       "<style scoped>\n",
       "    .dataframe tbody tr th:only-of-type {\n",
       "        vertical-align: middle;\n",
       "    }\n",
       "\n",
       "    .dataframe tbody tr th {\n",
       "        vertical-align: top;\n",
       "    }\n",
       "\n",
       "    .dataframe thead th {\n",
       "        text-align: right;\n",
       "    }\n",
       "</style>\n",
       "<table border=\"1\" class=\"dataframe\">\n",
       "  <thead>\n",
       "    <tr style=\"text-align: right;\">\n",
       "      <th></th>\n",
       "      <th>GO</th>\n",
       "      <th>Function</th>\n",
       "      <th>Proteins</th>\n",
       "      <th>Gene Name</th>\n",
       "      <th>Ontology group</th>\n",
       "      <th>Count of protein</th>\n",
       "      <th>Number of proteins detected within the genome</th>\n",
       "      <th>GO frequency within the dataset (%)</th>\n",
       "      <th>GO frequency within the genome (%)</th>\n",
       "      <th>P-Value</th>\n",
       "      <th>P-Values_BH</th>\n",
       "    </tr>\n",
       "  </thead>\n",
       "  <tbody>\n",
       "    <tr>\n",
       "      <th>0</th>\n",
       "      <td>False</td>\n",
       "      <td>False</td>\n",
       "      <td>False</td>\n",
       "      <td>False</td>\n",
       "      <td>False</td>\n",
       "      <td>False</td>\n",
       "      <td>False</td>\n",
       "      <td>False</td>\n",
       "      <td>False</td>\n",
       "      <td>False</td>\n",
       "      <td>False</td>\n",
       "    </tr>\n",
       "    <tr>\n",
       "      <th>1</th>\n",
       "      <td>False</td>\n",
       "      <td>False</td>\n",
       "      <td>False</td>\n",
       "      <td>False</td>\n",
       "      <td>False</td>\n",
       "      <td>False</td>\n",
       "      <td>False</td>\n",
       "      <td>False</td>\n",
       "      <td>False</td>\n",
       "      <td>False</td>\n",
       "      <td>False</td>\n",
       "    </tr>\n",
       "    <tr>\n",
       "      <th>2</th>\n",
       "      <td>False</td>\n",
       "      <td>False</td>\n",
       "      <td>False</td>\n",
       "      <td>False</td>\n",
       "      <td>False</td>\n",
       "      <td>False</td>\n",
       "      <td>False</td>\n",
       "      <td>False</td>\n",
       "      <td>False</td>\n",
       "      <td>False</td>\n",
       "      <td>False</td>\n",
       "    </tr>\n",
       "    <tr>\n",
       "      <th>3</th>\n",
       "      <td>False</td>\n",
       "      <td>False</td>\n",
       "      <td>False</td>\n",
       "      <td>False</td>\n",
       "      <td>False</td>\n",
       "      <td>False</td>\n",
       "      <td>False</td>\n",
       "      <td>False</td>\n",
       "      <td>False</td>\n",
       "      <td>False</td>\n",
       "      <td>False</td>\n",
       "    </tr>\n",
       "    <tr>\n",
       "      <th>4</th>\n",
       "      <td>False</td>\n",
       "      <td>False</td>\n",
       "      <td>False</td>\n",
       "      <td>False</td>\n",
       "      <td>False</td>\n",
       "      <td>False</td>\n",
       "      <td>False</td>\n",
       "      <td>False</td>\n",
       "      <td>False</td>\n",
       "      <td>False</td>\n",
       "      <td>False</td>\n",
       "    </tr>\n",
       "    <tr>\n",
       "      <th>...</th>\n",
       "      <td>...</td>\n",
       "      <td>...</td>\n",
       "      <td>...</td>\n",
       "      <td>...</td>\n",
       "      <td>...</td>\n",
       "      <td>...</td>\n",
       "      <td>...</td>\n",
       "      <td>...</td>\n",
       "      <td>...</td>\n",
       "      <td>...</td>\n",
       "      <td>...</td>\n",
       "    </tr>\n",
       "    <tr>\n",
       "      <th>317</th>\n",
       "      <td>False</td>\n",
       "      <td>False</td>\n",
       "      <td>False</td>\n",
       "      <td>False</td>\n",
       "      <td>False</td>\n",
       "      <td>False</td>\n",
       "      <td>False</td>\n",
       "      <td>False</td>\n",
       "      <td>False</td>\n",
       "      <td>False</td>\n",
       "      <td>False</td>\n",
       "    </tr>\n",
       "    <tr>\n",
       "      <th>318</th>\n",
       "      <td>False</td>\n",
       "      <td>False</td>\n",
       "      <td>False</td>\n",
       "      <td>False</td>\n",
       "      <td>False</td>\n",
       "      <td>False</td>\n",
       "      <td>False</td>\n",
       "      <td>False</td>\n",
       "      <td>False</td>\n",
       "      <td>False</td>\n",
       "      <td>False</td>\n",
       "    </tr>\n",
       "    <tr>\n",
       "      <th>319</th>\n",
       "      <td>False</td>\n",
       "      <td>False</td>\n",
       "      <td>False</td>\n",
       "      <td>False</td>\n",
       "      <td>False</td>\n",
       "      <td>False</td>\n",
       "      <td>False</td>\n",
       "      <td>False</td>\n",
       "      <td>False</td>\n",
       "      <td>False</td>\n",
       "      <td>False</td>\n",
       "    </tr>\n",
       "    <tr>\n",
       "      <th>320</th>\n",
       "      <td>False</td>\n",
       "      <td>False</td>\n",
       "      <td>False</td>\n",
       "      <td>False</td>\n",
       "      <td>False</td>\n",
       "      <td>False</td>\n",
       "      <td>False</td>\n",
       "      <td>False</td>\n",
       "      <td>False</td>\n",
       "      <td>False</td>\n",
       "      <td>False</td>\n",
       "    </tr>\n",
       "    <tr>\n",
       "      <th>321</th>\n",
       "      <td>False</td>\n",
       "      <td>False</td>\n",
       "      <td>False</td>\n",
       "      <td>False</td>\n",
       "      <td>False</td>\n",
       "      <td>False</td>\n",
       "      <td>False</td>\n",
       "      <td>False</td>\n",
       "      <td>False</td>\n",
       "      <td>False</td>\n",
       "      <td>False</td>\n",
       "    </tr>\n",
       "  </tbody>\n",
       "</table>\n",
       "<p>322 rows × 11 columns</p>\n",
       "</div>"
      ],
      "text/plain": [
       "        GO  Function  Proteins  Gene Name  Ontology group  Count of protein  \\\n",
       "0    False     False     False      False           False             False   \n",
       "1    False     False     False      False           False             False   \n",
       "2    False     False     False      False           False             False   \n",
       "3    False     False     False      False           False             False   \n",
       "4    False     False     False      False           False             False   \n",
       "..     ...       ...       ...        ...             ...               ...   \n",
       "317  False     False     False      False           False             False   \n",
       "318  False     False     False      False           False             False   \n",
       "319  False     False     False      False           False             False   \n",
       "320  False     False     False      False           False             False   \n",
       "321  False     False     False      False           False             False   \n",
       "\n",
       "     Number of proteins detected within the genome  \\\n",
       "0                                            False   \n",
       "1                                            False   \n",
       "2                                            False   \n",
       "3                                            False   \n",
       "4                                            False   \n",
       "..                                             ...   \n",
       "317                                          False   \n",
       "318                                          False   \n",
       "319                                          False   \n",
       "320                                          False   \n",
       "321                                          False   \n",
       "\n",
       "     GO frequency within the dataset (%)  GO frequency within the genome (%)  \\\n",
       "0                                  False                               False   \n",
       "1                                  False                               False   \n",
       "2                                  False                               False   \n",
       "3                                  False                               False   \n",
       "4                                  False                               False   \n",
       "..                                   ...                                 ...   \n",
       "317                                False                               False   \n",
       "318                                False                               False   \n",
       "319                                False                               False   \n",
       "320                                False                               False   \n",
       "321                                False                               False   \n",
       "\n",
       "     P-Value  P-Values_BH  \n",
       "0      False        False  \n",
       "1      False        False  \n",
       "2      False        False  \n",
       "3      False        False  \n",
       "4      False        False  \n",
       "..       ...          ...  \n",
       "317    False        False  \n",
       "318    False        False  \n",
       "319    False        False  \n",
       "320    False        False  \n",
       "321    False        False  \n",
       "\n",
       "[322 rows x 11 columns]"
      ]
     },
     "execution_count": 8,
     "metadata": {},
     "output_type": "execute_result"
    }
   ],
   "source": [
    "df3.isnull()"
   ]
  },
  {
   "cell_type": "code",
   "execution_count": 9,
   "metadata": {},
   "outputs": [
    {
     "name": "stdout",
     "output_type": "stream",
     "text": [
      "<class 'pandas.core.frame.DataFrame'>\n",
      "RangeIndex: 322 entries, 0 to 321\n",
      "Data columns (total 11 columns):\n",
      " #   Column                                         Non-Null Count  Dtype  \n",
      "---  ------                                         --------------  -----  \n",
      " 0   GO                                             322 non-null    object \n",
      " 1   Function                                       322 non-null    object \n",
      " 2   Proteins                                       322 non-null    object \n",
      " 3   Gene Name                                      322 non-null    object \n",
      " 4   Ontology group                                 322 non-null    object \n",
      " 5   Count of protein                               322 non-null    int64  \n",
      " 6   Number of proteins detected within the genome  322 non-null    object \n",
      " 7   GO frequency within the dataset (%)            322 non-null    float64\n",
      " 8   GO frequency within the genome (%)             322 non-null    float64\n",
      " 9   P-Value                                        322 non-null    float64\n",
      " 10  P-Values_BH                                    322 non-null    float64\n",
      "dtypes: float64(4), int64(1), object(6)\n",
      "memory usage: 27.8+ KB\n"
     ]
    }
   ],
   "source": [
    "df3.info()"
   ]
  },
  {
   "cell_type": "code",
   "execution_count": 10,
   "metadata": {},
   "outputs": [
    {
     "data": {
      "text/html": [
       "<div>\n",
       "<style scoped>\n",
       "    .dataframe tbody tr th:only-of-type {\n",
       "        vertical-align: middle;\n",
       "    }\n",
       "\n",
       "    .dataframe tbody tr th {\n",
       "        vertical-align: top;\n",
       "    }\n",
       "\n",
       "    .dataframe thead th {\n",
       "        text-align: right;\n",
       "    }\n",
       "</style>\n",
       "<table border=\"1\" class=\"dataframe\">\n",
       "  <thead>\n",
       "    <tr style=\"text-align: right;\">\n",
       "      <th></th>\n",
       "      <th>Count of protein</th>\n",
       "      <th>GO frequency within the dataset (%)</th>\n",
       "      <th>GO frequency within the genome (%)</th>\n",
       "      <th>P-Value</th>\n",
       "      <th>P-Values_BH</th>\n",
       "    </tr>\n",
       "  </thead>\n",
       "  <tbody>\n",
       "    <tr>\n",
       "      <th>count</th>\n",
       "      <td>322.000000</td>\n",
       "      <td>322.000000</td>\n",
       "      <td>322.000000</td>\n",
       "      <td>3.220000e+02</td>\n",
       "      <td>3.220000e+02</td>\n",
       "    </tr>\n",
       "    <tr>\n",
       "      <th>mean</th>\n",
       "      <td>1.763975</td>\n",
       "      <td>3.390466</td>\n",
       "      <td>17.905870</td>\n",
       "      <td>7.891071e-02</td>\n",
       "      <td>9.348469e-02</td>\n",
       "    </tr>\n",
       "    <tr>\n",
       "      <th>std</th>\n",
       "      <td>2.578404</td>\n",
       "      <td>4.959328</td>\n",
       "      <td>27.894838</td>\n",
       "      <td>1.673491e-01</td>\n",
       "      <td>1.681672e-01</td>\n",
       "    </tr>\n",
       "    <tr>\n",
       "      <th>min</th>\n",
       "      <td>1.000000</td>\n",
       "      <td>1.920000</td>\n",
       "      <td>0.060000</td>\n",
       "      <td>2.077000e-18</td>\n",
       "      <td>6.689000e-16</td>\n",
       "    </tr>\n",
       "    <tr>\n",
       "      <th>25%</th>\n",
       "      <td>1.000000</td>\n",
       "      <td>1.920000</td>\n",
       "      <td>1.727500</td>\n",
       "      <td>3.939000e-03</td>\n",
       "      <td>1.495250e-02</td>\n",
       "    </tr>\n",
       "    <tr>\n",
       "      <th>50%</th>\n",
       "      <td>1.000000</td>\n",
       "      <td>1.920000</td>\n",
       "      <td>5.635000</td>\n",
       "      <td>1.787000e-02</td>\n",
       "      <td>3.373000e-02</td>\n",
       "    </tr>\n",
       "    <tr>\n",
       "      <th>75%</th>\n",
       "      <td>1.000000</td>\n",
       "      <td>1.920000</td>\n",
       "      <td>20.000000</td>\n",
       "      <td>6.345000e-02</td>\n",
       "      <td>8.443000e-02</td>\n",
       "    </tr>\n",
       "    <tr>\n",
       "      <th>max</th>\n",
       "      <td>31.000000</td>\n",
       "      <td>59.620000</td>\n",
       "      <td>100.000000</td>\n",
       "      <td>1.000000e+00</td>\n",
       "      <td>1.000000e+00</td>\n",
       "    </tr>\n",
       "  </tbody>\n",
       "</table>\n",
       "</div>"
      ],
      "text/plain": [
       "       Count of protein  GO frequency within the dataset (%)  \\\n",
       "count        322.000000                           322.000000   \n",
       "mean           1.763975                             3.390466   \n",
       "std            2.578404                             4.959328   \n",
       "min            1.000000                             1.920000   \n",
       "25%            1.000000                             1.920000   \n",
       "50%            1.000000                             1.920000   \n",
       "75%            1.000000                             1.920000   \n",
       "max           31.000000                            59.620000   \n",
       "\n",
       "       GO frequency within the genome (%)       P-Value   P-Values_BH  \n",
       "count                          322.000000  3.220000e+02  3.220000e+02  \n",
       "mean                            17.905870  7.891071e-02  9.348469e-02  \n",
       "std                             27.894838  1.673491e-01  1.681672e-01  \n",
       "min                              0.060000  2.077000e-18  6.689000e-16  \n",
       "25%                              1.727500  3.939000e-03  1.495250e-02  \n",
       "50%                              5.635000  1.787000e-02  3.373000e-02  \n",
       "75%                             20.000000  6.345000e-02  8.443000e-02  \n",
       "max                            100.000000  1.000000e+00  1.000000e+00  "
      ]
     },
     "execution_count": 10,
     "metadata": {},
     "output_type": "execute_result"
    }
   ],
   "source": [
    "#Go gene antology \n",
    "df3.describe()"
   ]
  },
  {
   "cell_type": "code",
   "execution_count": 11,
   "metadata": {},
   "outputs": [
    {
     "data": {
      "text/plain": [
       "array(['membrane', 'mitochondrion', 'endoplasmic reticulum',\n",
       "       'integral component of membrane', 'mitochondrial inner membrane',\n",
       "       'ribosome', 'oxidation-reduction process',\n",
       "       'proton-transporting ATP synthase complex, coupling factor F(o)',\n",
       "       'endoplasmic reticulum membrane',\n",
       "       'cytosolic large ribosomal subunit', 'cytoplasmic translation',\n",
       "       'mitochondrial proton-transporting ATP synthase complex',\n",
       "       'translation',\n",
       "       'mitochondrial proton-transporting ATP synthase complex, coupling factor F(o)',\n",
       "       'respiratory chain', 'oxidoreductase activity',\n",
       "       'structural constituent of ribosome',\n",
       "       'ATP synthesis coupled proton transport',\n",
       "       'cytochrome-c oxidase activity', 'ATPase activity',\n",
       "       'cotranslational protein targeting to membrane', 'cytoplasm',\n",
       "       'ion transport', 'proton transmembrane transporter activity',\n",
       "       'proton-transporting ATP synthase activity, rotational mechanism',\n",
       "       'ribosome biogenesis',\n",
       "       'mitochondrial respiratory chain complex I assembly',\n",
       "       'mitochondrial electron transport, cytochrome c to oxygen',\n",
       "       'rough endoplasmic reticulum',\n",
       "       'mitochondrial respiratory chain complex IV', 'RNA binding',\n",
       "       'maturation of LSU-rRNA',\n",
       "       'endoplasmic reticulum-Golgi intermediate compartment membrane',\n",
       "       'endoplasmic reticulum-Golgi intermediate compartment',\n",
       "       'collagen binding', 'aerobic respiration',\n",
       "       'respiratory chain complex IV', 'intracellular', 'nucleolus',\n",
       "       'ATP hydrolysis coupled cation transmembrane transport',\n",
       "       'plasma membrane', 'mitochondrial matrix',\n",
       "       'NADH dehydrogenase (ubiquinone) activity',\n",
       "       'oxidoreductase activity, acting on the CH-CH group of donors',\n",
       "       'flavin adenine dinucleotide binding',\n",
       "       'endoplasmic reticulum lumen',\n",
       "       'positive regulation of NF-kappaB transcription factor activity',\n",
       "       'extracellular region', 'cytosol',\n",
       "       'proton transmembrane transport', 'electron transfer activity',\n",
       "       'mitochondrial respiratory chain complex I',\n",
       "       'anaerobic respiration', 'phospholipid scrambling',\n",
       "       'acetyl-CoA catabolic process',\n",
       "       'propionyl-CoA biosynthetic process',\n",
       "       'extracellular negative regulation of signal transduction',\n",
       "       'pronephric nephron development', 'ketone body catabolic process',\n",
       "       'lipid A biosynthetic process',\n",
       "       'viral mRNA export from host cell nucleus',\n",
       "       'COPI coating of Golgi vesicle',\n",
       "       'acetyl-CoA C-acetyltransferase activity',\n",
       "       'negative regulation of L-glutamate import across plasma membrane',\n",
       "       'intrinsic apoptotic signaling pathway in response to oxidative stress',\n",
       "       'positive regulation of I-kappaB phosphorylation',\n",
       "       'negative regulation of RIG-I signaling pathway',\n",
       "       'positive regulation of trophoblast cell migration',\n",
       "       'leucine catabolic process', 'nuclear membrane organization',\n",
       "       'negative regulation of DNA damage checkpoint',\n",
       "       'arachidonate 12-lipoxygenase activity', 'aminoacylase activity',\n",
       "       'kininogen binding',\n",
       "       'integral component of nuclear inner membrane',\n",
       "       'phosphoenolpyruvate carboxykinase activity',\n",
       "       'mitochondrial envelope',\n",
       "       'phosphoenolpyruvate carboxykinase (GTP) activity',\n",
       "       'mitochondrial proton-transporting ATP synthase, stator stalk',\n",
       "       'metal ion binding', 'heparin binding', 'electron transport chain',\n",
       "       'acyl binding',\n",
       "       'negative regulation of mitochondrial membrane potential',\n",
       "       'platelet-activating factor acetyltransferase activity',\n",
       "       'negative regulation of interleukin-12 production',\n",
       "       'phospholipid scramblase activity', 'isoleucine catabolic process',\n",
       "       'positive regulation of dendritic cell chemotaxis',\n",
       "       'posttranslational protein targeting to endoplasmic reticulum membrane',\n",
       "       'mitochondrial ribosome binding', 'phosphopantetheine binding',\n",
       "       'glycerol-3-phosphate O-acyltransferase activity',\n",
       "       'catalase activity', 'complement component C1q binding',\n",
       "       'integral component of synaptic vesicle membrane',\n",
       "       'receptor antagonist activity',\n",
       "       'aldehyde dehydrogenase [NAD(P)+] activity',\n",
       "       'ATP-dependent protein binding',\n",
       "       'succinate dehydrogenase (ubiquinone) activity', 'Golgi apparatus',\n",
       "       'response to endoplasmic reticulum stress',\n",
       "       'signal peptidase complex',\n",
       "       'negative regulation of MDA-5 signaling pathway',\n",
       "       'coenzyme A biosynthetic process',\n",
       "       'mitochondrial ATP synthesis coupled proton transport',\n",
       "       'transcription export complex', 'U4 snRNA binding',\n",
       "       'eukaryotic translation elongation factor 1 complex',\n",
       "       'succinate dehydrogenase activity', 'myelin sheath',\n",
       "       '1-alkyl-2-acetylglycerophosphocholine esterase activity',\n",
       "       'ligase activity, forming carbon-carbon bonds',\n",
       "       'fibronectin binding', 'MHC class I protein complex',\n",
       "       'positive chemotaxis',\n",
       "       'maturation of LSU-rRNA from tricistronic rRNA transcript (SSU-rRNA, 5.8S rRNA, LSU-rRNA)',\n",
       "       'U6 snRNA binding', 'ethanol catabolic process', 'UV protection',\n",
       "       'mitochondrial electron transport, succinate to ubiquinone',\n",
       "       'mature ribosome assembly',\n",
       "       'mitochondrial respiratory chain complex II, succinate dehydrogenase complex (ubiquinone)',\n",
       "       'transferase activity, transferring acyl groups', 'U6 snRNP',\n",
       "       'signal peptide processing',\n",
       "       'SRP-dependent cotranslational protein targeting to membrane',\n",
       "       'coenzyme A metabolic process', 'protein K69-linked ufmylation',\n",
       "       'acetyl-CoA biosynthetic process',\n",
       "       'cellular oxidant detoxification',\n",
       "       'hydrogen peroxide catabolic process',\n",
       "       'L-glutamate transmembrane transport',\n",
       "       'regulation of complement activation',\n",
       "       'mitochondrial respiratory chain', 'cell surface',\n",
       "       'acyl carrier activity',\n",
       "       'negative regulation of interferon-gamma production',\n",
       "       'CDP-diacylglycerol biosynthetic process',\n",
       "       'positive regulation of mitochondrial translation',\n",
       "       'hemoglobin metabolic process',\n",
       "       'small ribosomal subunit rRNA binding',\n",
       "       'low-density lipoprotein particle receptor binding',\n",
       "       'spliceosomal complex assembly',\n",
       "       'positive regulation of substrate adhesion-dependent cell spreading',\n",
       "       'antigen processing and presentation of peptide antigen via MHC class I',\n",
       "       'negative regulation of defense response to virus', 'RNA splicing',\n",
       "       'acyl-CoA dehydrogenase activity',\n",
       "       'oligosaccharyltransferase complex',\n",
       "       'phosphatidylinositol 3-kinase signaling',\n",
       "       'hyaluronic acid binding', 'U4 snRNP',\n",
       "       'adrenergic receptor binding',\n",
       "       'protein disulfide isomerase activity',\n",
       "       'aldehyde dehydrogenase (NAD) activity',\n",
       "       'positive regulation of DNA-templated transcription, elongation',\n",
       "       'positive regulation of macroautophagy',\n",
       "       'aldehyde catabolic process', 'mannose binding',\n",
       "       'lipid metabolic process',\n",
       "       'positive regulation of apoptotic process',\n",
       "       'chloride transmembrane transport', 'protein targeting to ER',\n",
       "       'regulation of intracellular estrogen receptor signaling pathway',\n",
       "       'negative regulation of mRNA splicing, via spliceosome',\n",
       "       'positive regulation of neutrophil chemotaxis',\n",
       "       'translation elongation factor activity',\n",
       "       'mitochondrial respiratory chain complex III',\n",
       "       'oxidoreductase activity, acting on single donors with incorporation of molecular oxygen, incorporation of two atoms of oxygen',\n",
       "       'chemoattractant activity', 'mRNA processing',\n",
       "       'mitochondrial electron transport, ubiquinol to cytochrome c',\n",
       "       'extracellular matrix binding',\n",
       "       'mitochondrial electron transport, NADH to ubiquinone',\n",
       "       'endoplasmic reticulum organization',\n",
       "       'RNA secondary structure unwinding',\n",
       "       'high-density lipoprotein particle', 'O-acyltransferase activity',\n",
       "       'Golgi membrane', 'complement activation, classical pathway',\n",
       "       'protein transport', 'ATP-dependent RNA helicase activity',\n",
       "       'fatty acid binding', 'RNA-dependent ATPase activity',\n",
       "       'peroxisomal membrane', 'syntaxin binding',\n",
       "       'response to unfolded protein', 'acute-phase response',\n",
       "       'gluconeogenesis', 'response to hydrogen peroxide',\n",
       "       'positive regulation of cell-substrate adhesion',\n",
       "       'acute inflammatory response', 'mRNA export from nucleus',\n",
       "       'glycoprotein metabolic process', 'integrin binding',\n",
       "       'nuclear inner membrane', 'protein self-association',\n",
       "       'positive regulation of phosphatidylinositol 3-kinase signaling',\n",
       "       'triglyceride metabolic process', 'fatty acid beta-oxidation',\n",
       "       'negative regulation of NF-kappaB transcription factor activity',\n",
       "       'NADP binding', 'peroxidase activity', 'mitochondrial nucleoid',\n",
       "       'antigen processing and presentation', 'ribosome binding',\n",
       "       'oxidoreductase activity, acting on the aldehyde or oxo group of donors, NAD or NADP as acceptor',\n",
       "       'oxidoreductase activity, acting on peroxide as acceptor',\n",
       "       'fibrillar center', 'cellular aldehyde metabolic process',\n",
       "       'positive regulation of protein kinase B signaling',\n",
       "       'positive regulation of stress-activated MAPK cascade',\n",
       "       'positive regulation of proteasomal protein catabolic process',\n",
       "       'transmembrane transport', 'Golgi organization',\n",
       "       'tricarboxylic acid cycle', 'membrane coat',\n",
       "       'positive regulation of cysteine-type endopeptidase activity involved in apoptotic process',\n",
       "       'ATP biosynthetic process', 'metalloendopeptidase activity',\n",
       "       'carbon-carbon lyase activity',\n",
       "       'positive regulation of cell division', 'nuclear envelope',\n",
       "       'brain development', 'chloride channel activity',\n",
       "       'dioxygenase activity', 'cell redox homeostasis',\n",
       "       'synaptic vesicle', 'protein homotetramerization',\n",
       "       'ribosomal large subunit assembly',\n",
       "       'ER to Golgi vesicle-mediated transport',\n",
       "       'cytosolic small ribosomal subunit',\n",
       "       'transcription corepressor activity',\n",
       "       'cholesterol metabolic process',\n",
       "       'ATPase activity, coupled to transmembrane movement of substances',\n",
       "       'integral component of endoplasmic reticulum membrane',\n",
       "       'response to reactive oxygen species', 'peroxisome',\n",
       "       'antioxidant activity', 'cellular response to oxidative stress',\n",
       "       'extracellular matrix organization', 'mRNA transport',\n",
       "       'helicase activity', 'cell chemotaxis', 'protein tetramerization',\n",
       "       'mRNA splicing, via spliceosome',\n",
       "       'fatty acid biosynthetic process', 'protein processing',\n",
       "       'respiratory chain complex I', 'phospholipid biosynthetic process',\n",
       "       'heme binding', 'mitochondrial outer membrane',\n",
       "       'oxidoreductase activity, acting on NAD(P)H',\n",
       "       'adaptive immune response', 'respiratory electron transport chain',\n",
       "       'iron ion binding', 'nucleoplasm', 'mRNA binding',\n",
       "       'transcription coactivator activity',\n",
       "       'transferase activity, transferring acyl groups other than amino-acyl groups',\n",
       "       'protein glycosylation', 'serine-type peptidase activity',\n",
       "       'immune system process',\n",
       "       'transferase activity, transferring glycosyl groups',\n",
       "       'spermatogenesis', 'spliceosomal complex',\n",
       "       'positive regulation of cell adhesion', 'translational elongation',\n",
       "       'lipid catabolic process', 'identical protein binding',\n",
       "       'ubiquitin-like protein ligase binding', 'nucleus',\n",
       "       'response to oxidative stress', 'fatty acid metabolic process',\n",
       "       'large ribosomal subunit', 'ATP binding', 'protein folding',\n",
       "       'transcription factor binding', 'nuclear speck',\n",
       "       'hydrolase activity', 'transcription, DNA-templated',\n",
       "       'negative regulation of transcription by RNA polymerase II',\n",
       "       'cell proliferation', 'innate immune response',\n",
       "       'extracellular matrix',\n",
       "       'positive regulation of organelle organization',\n",
       "       'multicellular organism development', 'apoptotic process',\n",
       "       'cytoskeleton', 'GTP binding', 'cell adhesion',\n",
       "       'negative regulation of apoptotic process',\n",
       "       'cellular response to DNA damage stimulus',\n",
       "       'intracellular protein transport', 'transferase activity',\n",
       "       'signaling receptor activity', 'peptidase activity',\n",
       "       'zinc ion binding', 'protein homodimerization activity',\n",
       "       'regulation of transcription, DNA-templated', 'immune response',\n",
       "       'proteolysis', 'cellular lipid metabolic process',\n",
       "       'positive regulation of nucleic acid-templated transcription',\n",
       "       'vesicle-mediated transport', 'mitochondrial membrane',\n",
       "       'transmembrane transporter activity', 'ribonucleoprotein complex',\n",
       "       'signaling receptor binding', 'enzyme binding',\n",
       "       'extracellular space', 'protein-containing complex',\n",
       "       'purine nucleotide binding',\n",
       "       'intracellular membrane-bounded organelle', 'catalytic activity',\n",
       "       'metabolic process', 'organelle membrane', 'nucleic acid binding',\n",
       "       'signal transduction', 'nucleotide binding',\n",
       "       'regulation of gene expression'], dtype=object)"
      ]
     },
     "execution_count": 11,
     "metadata": {},
     "output_type": "execute_result"
    }
   ],
   "source": [
    "df3['Function'].unique()"
   ]
  },
  {
   "cell_type": "code",
   "execution_count": 12,
   "metadata": {},
   "outputs": [
    {
     "data": {
      "text/plain": [
       "0      P00428(Evidence code:IEA/Database source:UniPr...\n",
       "1      P31039(Evidence code:ISS/Database source:UniPr...\n",
       "2      Q5E9X4(Evidence code:IEA/Database source:UniPr...\n",
       "3      Q3T133(Evidence code:IEA/Database source:UniPr...\n",
       "4      P31039(Evidence code:ISS/Database source:UniPr...\n",
       "                             ...                        \n",
       "317    Q5E9X4(Evidence code:IEA/Database source:UniPr...\n",
       "318    Q3T147(Evidence code:IEA/Database source:Inter...\n",
       "319    Q6QUN5(Evidence code:IEA/Database source:GO:00...\n",
       "320    Q3T147(Evidence code:IEA/Database source:UniPr...\n",
       "321    Q3T147(Evidence code:IBA/Database source:PANTH...\n",
       "Name: Proteins, Length: 322, dtype: object"
      ]
     },
     "execution_count": 12,
     "metadata": {},
     "output_type": "execute_result"
    }
   ],
   "source": [
    "df3['Proteins']"
   ]
  },
  {
   "cell_type": "code",
   "execution_count": 13,
   "metadata": {},
   "outputs": [
    {
     "data": {
      "text/plain": [
       "<seaborn.axisgrid.PairGrid at 0x156517c9c70>"
      ]
     },
     "execution_count": 13,
     "metadata": {},
     "output_type": "execute_result"
    },
    {
     "data": {
      "image/png": "[encoded data removed]",
      "text/plain": [
       "<Figure size 900x900 with 30 Axes>"
      ]
     },
     "metadata": {},
     "output_type": "display_data"
    }
   ],
   "source": [
    "sns.pairplot(data=df3)  "
   ]
  },
  {
   "cell_type": "code",
   "execution_count": 14,
   "metadata": {},
   "outputs": [],
   "source": [
    "#setting structure for graphs\n",
    "sns.set(style=\"whitegrid\",palette='muted',color_codes=True)"
   ]
  },
  {
   "cell_type": "code",
   "execution_count": 15,
   "metadata": {},
   "outputs": [
    {
     "name": "stderr",
     "output_type": "stream",
     "text": [
      "c:\\Users\\adity\\anaconda3\\lib\\site-packages\\seaborn\\distributions.py:2551: FutureWarning: `distplot` is a deprecated function and will be removed in a future version. Please adapt your code to use either `displot` (a figure-level function with similar flexibility) or `histplot` (an axes-level function for histograms).\n",
      "  warnings.warn(msg, FutureWarning)\n",
      "c:\\Users\\adity\\anaconda3\\lib\\site-packages\\seaborn\\_decorators.py:36: FutureWarning: Pass the following variable as a keyword arg: x. From version 0.12, the only valid positional argument will be `data`, and passing other arguments without an explicit keyword will result in an error or misinterpretation.\n",
      "  warnings.warn(\n"
     ]
    },
    {
     "data": {
      "image/png": "[encoded data removed]",
      "text/plain": [
       "<Figure size 864x432 with 2 Axes>"
      ]
     },
     "metadata": {},
     "output_type": "display_data"
    }
   ],
   "source": [
    "fig3, axes3 = plt.subplots(1,2, figsize=(12,6))\n",
    "sns.distplot(x=df3['Count of protein'],kde=True,ax=axes3[0])\n",
    "sns.boxplot(df3['Count of protein'],color='b',ax=axes3[1])\n",
    "axes3[0].set_title('Ditribution of Count of proteins')\n",
    "axes3[1].set_title('Count of proteins range')\n",
    "plt.show()"
   ]
  },
  {
   "cell_type": "code",
   "execution_count": 16,
   "metadata": {},
   "outputs": [
    {
     "name": "stderr",
     "output_type": "stream",
     "text": [
      "c:\\Users\\adity\\anaconda3\\lib\\site-packages\\seaborn\\distributions.py:2551: FutureWarning: `distplot` is a deprecated function and will be removed in a future version. Please adapt your code to use either `displot` (a figure-level function with similar flexibility) or `histplot` (an axes-level function for histograms).\n",
      "  warnings.warn(msg, FutureWarning)\n",
      "c:\\Users\\adity\\anaconda3\\lib\\site-packages\\seaborn\\_decorators.py:36: FutureWarning: Pass the following variable as a keyword arg: x. From version 0.12, the only valid positional argument will be `data`, and passing other arguments without an explicit keyword will result in an error or misinterpretation.\n",
      "  warnings.warn(\n"
     ]
    },
    {
     "data": {
      "image/png": "[encoded data removed]",
      "text/plain": [
       "<Figure size 864x432 with 2 Axes>"
      ]
     },
     "metadata": {},
     "output_type": "display_data"
    }
   ],
   "source": [
    "fig3, axes3 = plt.subplots(1,2, figsize=(12,6))\n",
    "sns.distplot(x=df3['GO frequency within the dataset (%)'],kde=True,ax=axes3[0])\n",
    "sns.boxplot(df3['GO frequency within the dataset (%)'],color='b',ax=axes3[1])\n",
    "axes3[0].set_title('Ditribution of GO frequency within the dataset (%)')\n",
    "axes3[1].set_title('GO frequency within the dataset (%) range')\n",
    "plt.show()"
   ]
  },
  {
   "cell_type": "code",
   "execution_count": 17,
   "metadata": {},
   "outputs": [
    {
     "name": "stderr",
     "output_type": "stream",
     "text": [
      "c:\\Users\\adity\\anaconda3\\lib\\site-packages\\seaborn\\distributions.py:2551: FutureWarning: `distplot` is a deprecated function and will be removed in a future version. Please adapt your code to use either `displot` (a figure-level function with similar flexibility) or `histplot` (an axes-level function for histograms).\n",
      "  warnings.warn(msg, FutureWarning)\n",
      "c:\\Users\\adity\\anaconda3\\lib\\site-packages\\seaborn\\_decorators.py:36: FutureWarning: Pass the following variable as a keyword arg: x. From version 0.12, the only valid positional argument will be `data`, and passing other arguments without an explicit keyword will result in an error or misinterpretation.\n",
      "  warnings.warn(\n"
     ]
    },
    {
     "data": {
      "image/png": "[encoded data removed]",
      "text/plain": [
       "<Figure size 864x432 with 2 Axes>"
      ]
     },
     "metadata": {},
     "output_type": "display_data"
    }
   ],
   "source": [
    "fig3, axes3 = plt.subplots(1,2, figsize=(12,6))\n",
    "sns.distplot(x=df3['GO frequency within the genome (%)'],kde=True,ax=axes3[0])\n",
    "sns.boxplot(df3['GO frequency within the genome (%)'],color='b',ax=axes3[1])\n",
    "axes3[0].set_title('Ditribution of GO frequency within the genome (%)')\n",
    "axes3[1].set_title('GO frequency within the genome (%) range')\n",
    "plt.show()"
   ]
  },
  {
   "cell_type": "code",
   "execution_count": 18,
   "metadata": {},
   "outputs": [
    {
     "data": {
      "text/html": [
       "<div>\n",
       "<style scoped>\n",
       "    .dataframe tbody tr th:only-of-type {\n",
       "        vertical-align: middle;\n",
       "    }\n",
       "\n",
       "    .dataframe tbody tr th {\n",
       "        vertical-align: top;\n",
       "    }\n",
       "\n",
       "    .dataframe thead th {\n",
       "        text-align: right;\n",
       "    }\n",
       "</style>\n",
       "<table border=\"1\" class=\"dataframe\">\n",
       "  <thead>\n",
       "    <tr style=\"text-align: right;\">\n",
       "      <th></th>\n",
       "      <th>Count of protein</th>\n",
       "      <th>GO frequency within the dataset (%)</th>\n",
       "      <th>GO frequency within the genome (%)</th>\n",
       "      <th>P-Value</th>\n",
       "      <th>P-Values_BH</th>\n",
       "    </tr>\n",
       "  </thead>\n",
       "  <tbody>\n",
       "    <tr>\n",
       "      <th>Count of protein</th>\n",
       "      <td>1.000000</td>\n",
       "      <td>1.000000</td>\n",
       "      <td>-0.132193</td>\n",
       "      <td>-0.101126</td>\n",
       "      <td>-0.119453</td>\n",
       "    </tr>\n",
       "    <tr>\n",
       "      <th>GO frequency within the dataset (%)</th>\n",
       "      <td>1.000000</td>\n",
       "      <td>1.000000</td>\n",
       "      <td>-0.132271</td>\n",
       "      <td>-0.101139</td>\n",
       "      <td>-0.119472</td>\n",
       "    </tr>\n",
       "    <tr>\n",
       "      <th>GO frequency within the genome (%)</th>\n",
       "      <td>-0.132193</td>\n",
       "      <td>-0.132271</td>\n",
       "      <td>1.000000</td>\n",
       "      <td>-0.271637</td>\n",
       "      <td>-0.284284</td>\n",
       "    </tr>\n",
       "    <tr>\n",
       "      <th>P-Value</th>\n",
       "      <td>-0.101126</td>\n",
       "      <td>-0.101139</td>\n",
       "      <td>-0.271637</td>\n",
       "      <td>1.000000</td>\n",
       "      <td>0.999139</td>\n",
       "    </tr>\n",
       "    <tr>\n",
       "      <th>P-Values_BH</th>\n",
       "      <td>-0.119453</td>\n",
       "      <td>-0.119472</td>\n",
       "      <td>-0.284284</td>\n",
       "      <td>0.999139</td>\n",
       "      <td>1.000000</td>\n",
       "    </tr>\n",
       "  </tbody>\n",
       "</table>\n",
       "</div>"
      ],
      "text/plain": [
       "                                     Count of protein  \\\n",
       "Count of protein                             1.000000   \n",
       "GO frequency within the dataset (%)          1.000000   \n",
       "GO frequency within the genome (%)          -0.132193   \n",
       "P-Value                                     -0.101126   \n",
       "P-Values_BH                                 -0.119453   \n",
       "\n",
       "                                     GO frequency within the dataset (%)  \\\n",
       "Count of protein                                                1.000000   \n",
       "GO frequency within the dataset (%)                             1.000000   \n",
       "GO frequency within the genome (%)                             -0.132271   \n",
       "P-Value                                                        -0.101139   \n",
       "P-Values_BH                                                    -0.119472   \n",
       "\n",
       "                                     GO frequency within the genome (%)  \\\n",
       "Count of protein                                              -0.132193   \n",
       "GO frequency within the dataset (%)                           -0.132271   \n",
       "GO frequency within the genome (%)                             1.000000   \n",
       "P-Value                                                       -0.271637   \n",
       "P-Values_BH                                                   -0.284284   \n",
       "\n",
       "                                      P-Value  P-Values_BH  \n",
       "Count of protein                    -0.101126    -0.119453  \n",
       "GO frequency within the dataset (%) -0.101139    -0.119472  \n",
       "GO frequency within the genome (%)  -0.271637    -0.284284  \n",
       "P-Value                              1.000000     0.999139  \n",
       "P-Values_BH                          0.999139     1.000000  "
      ]
     },
     "execution_count": 18,
     "metadata": {},
     "output_type": "execute_result"
    }
   ],
   "source": [
    "df3.corr()"
   ]
  },
  {
   "cell_type": "code",
   "execution_count": 19,
   "metadata": {},
   "outputs": [
    {
     "data": {
      "text/plain": [
       "<AxesSubplot:>"
      ]
     },
     "execution_count": 19,
     "metadata": {},
     "output_type": "execute_result"
    },
    {
     "data": {
      "image/png": "[encoded data removed]",
      "text/plain": [
       "<Figure size 432x288 with 2 Axes>"
      ]
     },
     "metadata": {},
     "output_type": "display_data"
    }
   ],
   "source": [
    "sns.heatmap(df3.corr(),annot=True)"
   ]
  },
  {
   "cell_type": "code",
   "execution_count": 20,
   "metadata": {},
   "outputs": [
    {
     "name": "stdout",
     "output_type": "stream",
     "text": [
      "GO frequency within the dataset (%) : skewness %f 6.943689430642537\n",
      "GO frequency within the dataset (%) : kurtosis %f 62.47115955544726\n",
      "Count of protein : skewness %f 6.94536194802562\n",
      "Count of protein : kurtosis %f 62.4900371542568\n",
      "GO frequency within the genome (%) : skewness %f 2.148883718662634\n",
      "GO frequency within the genome (%) : kurtosis %f 3.563208008762834\n"
     ]
    }
   ],
   "source": [
    "print(\"GO frequency within the dataset (%) : skewness %f\",df3['GO frequency within the dataset (%)'].skew())\n",
    "print(\"GO frequency within the dataset (%) : kurtosis %f\",df3['GO frequency within the dataset (%)'].kurt())\n",
    "print(\"Count of protein : skewness %f\",df3['Count of protein'].skew())\n",
    "print(\"Count of protein : kurtosis %f\",df3['Count of protein'].kurt())\n",
    "print(\"GO frequency within the genome (%) : skewness %f\",df3['GO frequency within the genome (%)'].skew())\n",
    "print(\"GO frequency within the genome (%) : kurtosis %f\",df3['GO frequency within the genome (%)'].kurt())"
   ]
  },
  {
   "cell_type": "code",
   "execution_count": 21,
   "metadata": {},
   "outputs": [],
   "source": [
    "# so df3 has high corelation with go freq within the genome %"
   ]
  },
  {
   "cell_type": "code",
   "execution_count": 22,
   "metadata": {},
   "outputs": [],
   "source": [
    "df3.drop(columns=['GO','Function','Gene Name','Ontology group','Number of proteins detected within the genome','P-Value','P-Values_BH'],inplace=True)"
   ]
  },
  {
   "cell_type": "code",
   "execution_count": 23,
   "metadata": {},
   "outputs": [
    {
     "name": "stdout",
     "output_type": "stream",
     "text": [
      "<class 'pandas.core.frame.DataFrame'>\n",
      "RangeIndex: 322 entries, 0 to 321\n",
      "Data columns (total 4 columns):\n",
      " #   Column                               Non-Null Count  Dtype  \n",
      "---  ------                               --------------  -----  \n",
      " 0   Proteins                             322 non-null    object \n",
      " 1   Count of protein                     322 non-null    int64  \n",
      " 2   GO frequency within the dataset (%)  322 non-null    float64\n",
      " 3   GO frequency within the genome (%)   322 non-null    float64\n",
      "dtypes: float64(2), int64(1), object(1)\n",
      "memory usage: 10.2+ KB\n"
     ]
    }
   ],
   "source": [
    "df3.info()"
   ]
  },
  {
   "cell_type": "code",
   "execution_count": 24,
   "metadata": {},
   "outputs": [],
   "source": [
    "from sklearn.model_selection import train_test_split"
   ]
  },
  {
   "cell_type": "code",
   "execution_count": 26,
   "metadata": {},
   "outputs": [],
   "source": [
    "x = (df3['Count of protein']).to_numpy()\n",
    "y = (df3['GO frequency within the genome (%)']).to_numpy()"
   ]
  },
  {
   "cell_type": "code",
   "execution_count": 27,
   "metadata": {},
   "outputs": [],
   "source": [
    "from sklearn.preprocessing import MinMaxScaler\n",
    "s= MinMaxScaler(feature_range=(0,1))"
   ]
  },
  {
   "cell_type": "code",
   "execution_count": 28,
   "metadata": {},
   "outputs": [],
   "source": [
    "x_new =s.fit_transform(x.reshape(-1,1))\n",
    "y_new=s.fit_transform(y.reshape(-1,1))"
   ]
  },
  {
   "cell_type": "code",
   "execution_count": 29,
   "metadata": {},
   "outputs": [],
   "source": [
    "X_train, X_test, y_train, y_test = train_test_split(x_new,y_new, test_size=0.33, random_state=100)"
   ]
  },
  {
   "cell_type": "code",
   "execution_count": 30,
   "metadata": {},
   "outputs": [],
   "source": [
    "from sklearn.ensemble import ExtraTreesRegressor\n",
    "reg = ExtraTreesRegressor()"
   ]
  },
  {
   "cell_type": "code",
   "execution_count": 31,
   "metadata": {},
   "outputs": [
    {
     "name": "stderr",
     "output_type": "stream",
     "text": [
      "<ipython-input-31-76dcf3f49433>:1: DataConversionWarning: A column-vector y was passed when a 1d array was expected. Please change the shape of y to (n_samples,), for example using ravel().\n",
      "  reg.fit(X_train,y_train)\n"
     ]
    },
    {
     "data": {
      "text/plain": [
       "ExtraTreesRegressor()"
      ]
     },
     "execution_count": 31,
     "metadata": {},
     "output_type": "execute_result"
    }
   ],
   "source": [
    "reg.fit(X_train,y_train)"
   ]
  },
  {
   "cell_type": "code",
   "execution_count": 32,
   "metadata": {},
   "outputs": [],
   "source": [
    "from sklearn.tree import DecisionTreeRegressor"
   ]
  },
  {
   "cell_type": "code",
   "execution_count": 33,
   "metadata": {},
   "outputs": [
    {
     "data": {
      "text/plain": [
       "DecisionTreeRegressor()"
      ]
     },
     "execution_count": 33,
     "metadata": {},
     "output_type": "execute_result"
    }
   ],
   "source": [
    "reg_model = DecisionTreeRegressor()\n",
    "reg_model.fit(X_train,y_train)"
   ]
  },
  {
   "cell_type": "code",
   "execution_count": 34,
   "metadata": {},
   "outputs": [
    {
     "name": "stdout",
     "output_type": "stream",
     "text": [
      "0.059707673982555165\n",
      "0.027662521968697784\n"
     ]
    }
   ],
   "source": [
    "print(reg_model.score(X_train,y_train))\n",
    "print(reg_model.score(X_test,y_test))"
   ]
  },
  {
   "cell_type": "code",
   "execution_count": 35,
   "metadata": {},
   "outputs": [],
   "source": [
    "prediction = reg_model.predict(X_test)"
   ]
  },
  {
   "cell_type": "code",
   "execution_count": 36,
   "metadata": {},
   "outputs": [
    {
     "name": "stderr",
     "output_type": "stream",
     "text": [
      "c:\\Users\\adity\\anaconda3\\lib\\site-packages\\seaborn\\distributions.py:2551: FutureWarning: `distplot` is a deprecated function and will be removed in a future version. Please adapt your code to use either `displot` (a figure-level function with similar flexibility) or `histplot` (an axes-level function for histograms).\n",
      "  warnings.warn(msg, FutureWarning)\n"
     ]
    },
    {
     "data": {
      "text/plain": [
       "<AxesSubplot:ylabel='Density'>"
      ]
     },
     "execution_count": 36,
     "metadata": {},
     "output_type": "execute_result"
    },
    {
     "data": {
      "image/png": "[encoded data removed]",
      "text/plain": [
       "<Figure size 432x288 with 1 Axes>"
      ]
     },
     "metadata": {},
     "output_type": "display_data"
    }
   ],
   "source": [
    "sns.distplot(y_test-prediction)"
   ]
  },
  {
   "cell_type": "code",
   "execution_count": 37,
   "metadata": {},
   "outputs": [],
   "source": [
    "parameters={\"splitter\":[\"best\",\"random\"],\n",
    "            \"max_depth\" : [1,3,5,7,9,11,12],\n",
    "           \"min_samples_leaf\":[1,2,3,4,5,6,7,8,9,10],\n",
    "           \"min_weight_fraction_leaf\":[0.1,0.2,0.3,0.4,0.5,0.6,0.7,0.8,0.9],\n",
    "           \"max_features\":[\"auto\",\"log2\",\"sqrt\",None],\n",
    "           \"max_leaf_nodes\":[None,10,20,30,40,50,60,70,80,90] }"
   ]
  },
  {
   "cell_type": "code",
   "execution_count": 38,
   "metadata": {},
   "outputs": [],
   "source": [
    "from sklearn.model_selection import GridSearchCV"
   ]
  },
  {
   "cell_type": "code",
   "execution_count": 39,
   "metadata": {},
   "outputs": [],
   "source": [
    "tuning_model=GridSearchCV(reg_model,param_grid=parameters,scoring='neg_mean_squared_error',cv=3,verbose=3)"
   ]
  },
  {
   "cell_type": "code",
   "execution_count": 40,
   "metadata": {},
   "outputs": [],
   "source": [
    "def timer(start_time=None):\n",
    "    if not start_time:\n",
    "        start_time=datetime.now()\n",
    "        return start_time\n",
    "    elif start_time:\n",
    "        thour,temp_sec=divmod((datetime.now()-start_time).total_seconds(),3600)\n",
    "        tmin,tsec=divmod(temp_sec,60)\n",
    "        #print(thour,\":\",tmin,':',round(tsec,2))"
   ]
  },
  {
   "cell_type": "code",
   "execution_count": 41,
   "metadata": {},
   "outputs": [],
   "source": [
    "# got the best tunned prediction from the above hyperparameter tuning \n",
    "tuned_hyper_model= DecisionTreeRegressor(\n",
    " max_depth= 1,\n",
    " max_features= 'auto',\n",
    " max_leaf_nodes= None,\n",
    " min_samples_leaf= 3,\n",
    " min_weight_fraction_leaf= 0.1,\n",
    " splitter= 'random')\n",
    " "
   ]
  },
  {
   "cell_type": "code",
   "execution_count": 42,
   "metadata": {},
   "outputs": [],
   "source": [
    "tuned_hyper_model.fit(X_train,y_train)\n",
    "tuned_pred=tuned_hyper_model.predict(X_test)"
   ]
  },
  {
   "cell_type": "code",
   "execution_count": 43,
   "metadata": {},
   "outputs": [
    {
     "data": {
      "text/plain": [
       "<matplotlib.collections.PathCollection at 0x15670da0190>"
      ]
     },
     "execution_count": 43,
     "metadata": {},
     "output_type": "execute_result"
    },
    {
     "data": {
      "image/png": "[encoded data removed]",
      "text/plain": [
       "<Figure size 432x288 with 1 Axes>"
      ]
     },
     "metadata": {},
     "output_type": "display_data"
    }
   ],
   "source": [
    "plt.scatter(y_test,tuned_pred)"
   ]
  },
  {
   "cell_type": "code",
   "execution_count": 44,
   "metadata": {},
   "outputs": [],
   "source": [
    "from sklearn import metrics"
   ]
  },
  {
   "cell_type": "code",
   "execution_count": 45,
   "metadata": {},
   "outputs": [
    {
     "name": "stdout",
     "output_type": "stream",
     "text": [
      "MAE: 0.20414428618048897\n",
      "MSE: 0.08836021320344056\n",
      "RMSE: 0.29725445867714173\n"
     ]
    }
   ],
   "source": [
    "print('MAE:', metrics.mean_absolute_error(y_test,tuned_pred))\n",
    "print('MSE:', metrics.mean_squared_error(y_test, tuned_pred))\n",
    "print('RMSE:', np.sqrt(metrics.mean_squared_error(y_test, tuned_pred)))"
   ]
  },
  {
   "cell_type": "code",
   "execution_count": null,
   "metadata": {},
   "outputs": [],
   "source": []
  },
  {
   "cell_type": "code",
   "execution_count": null,
   "metadata": {},
   "outputs": [],
   "source": []
  },
  {
   "cell_type": "code",
   "execution_count": null,
   "metadata": {},
   "outputs": [],
   "source": []
  },
  {
   "cell_type": "code",
   "execution_count": null,
   "metadata": {},
   "outputs": [],
   "source": []
  },
  {
   "cell_type": "code",
   "execution_count": null,
   "metadata": {},
   "outputs": [],
   "source": []
  },
  {
   "cell_type": "code",
   "execution_count": null,
   "metadata": {},
   "outputs": [],
   "source": []
  },
  {
   "cell_type": "code",
   "execution_count": null,
   "metadata": {},
   "outputs": [],
   "source": []
  },
  {
   "cell_type": "code",
   "execution_count": null,
   "metadata": {},
   "outputs": [],
   "source": []
  },
  {
   "cell_type": "code",
   "execution_count": null,
   "metadata": {},
   "outputs": [],
   "source": []
  },
  {
   "cell_type": "code",
   "execution_count": null,
   "metadata": {},
   "outputs": [],
   "source": []
  },
  {
   "cell_type": "code",
   "execution_count": null,
   "metadata": {},
   "outputs": [],
   "source": []
  },
  {
   "cell_type": "code",
   "execution_count": null,
   "metadata": {},
   "outputs": [],
   "source": []
  },
  {
   "cell_type": "code",
   "execution_count": null,
   "metadata": {},
   "outputs": [],
   "source": []
  },
  {
   "cell_type": "code",
   "execution_count": null,
   "metadata": {},
   "outputs": [],
   "source": []
  },
  {
   "cell_type": "code",
   "execution_count": null,
   "metadata": {},
   "outputs": [],
   "source": []
  },
  {
   "cell_type": "code",
   "execution_count": null,
   "metadata": {},
   "outputs": [],
   "source": []
  },
  {
   "cell_type": "code",
   "execution_count": null,
   "metadata": {},
   "outputs": [],
   "source": []
  },
  {
   "cell_type": "code",
   "execution_count": null,
   "metadata": {},
   "outputs": [],
   "source": []
  },
  {
   "cell_type": "code",
   "execution_count": null,
   "metadata": {},
   "outputs": [],
   "source": []
  },
  {
   "cell_type": "code",
   "execution_count": null,
   "metadata": {},
   "outputs": [],
   "source": []
  },
  {
   "cell_type": "code",
   "execution_count": null,
   "metadata": {},
   "outputs": [],
   "source": []
  },
  {
   "cell_type": "code",
   "execution_count": null,
   "metadata": {},
   "outputs": [],
   "source": []
  },
  {
   "cell_type": "code",
   "execution_count": null,
   "metadata": {},
   "outputs": [],
   "source": []
  },
  {
   "cell_type": "code",
   "execution_count": null,
   "metadata": {},
   "outputs": [],
   "source": []
  },
  {
   "cell_type": "code",
   "execution_count": null,
   "metadata": {},
   "outputs": [],
   "source": []
  },
  {
   "cell_type": "code",
   "execution_count": null,
   "metadata": {},
   "outputs": [],
   "source": []
  },
  {
   "cell_type": "code",
   "execution_count": null,
   "metadata": {},
   "outputs": [],
   "source": []
  },
  {
   "cell_type": "code",
   "execution_count": null,
   "metadata": {},
   "outputs": [],
   "source": []
  },
  {
   "cell_type": "code",
   "execution_count": null,
   "metadata": {},
   "outputs": [],
   "source": []
  },
  {
   "cell_type": "code",
   "execution_count": null,
   "metadata": {},
   "outputs": [],
   "source": []
  },
  {
   "cell_type": "code",
   "execution_count": null,
   "metadata": {},
   "outputs": [],
   "source": []
  }
 ],
 "metadata": {
  "kernelspec": {
   "display_name": "Python 3.8.5",
   "language": "python",
   "name": "python3"
  },
  "language_info": {
   "codemirror_mode": {
    "name": "ipython",
    "version": 3
   },
   "file_extension": ".py",
   "mimetype": "text/x-python",
   "name": "python",
   "nbconvert_exporter": "python",
   "pygments_lexer": "ipython3",
   "version": "3.8.5"
  },
  "orig_nbformat": 4,
  "vscode": {
   "interpreter": {
    "hash": "8891f3cfb547db503e78f25128202364d60f1c09259e140a1bd236c27b0b7a43"
   }
  }
 },
 "nbformat": 4,
 "nbformat_minor": 2
}
