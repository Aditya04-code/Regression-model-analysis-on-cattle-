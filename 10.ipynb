{
 "cells": [
  {
   "cell_type": "code",
   "execution_count": 1,
   "metadata": {},
   "outputs": [],
   "source": [
    "import numpy as np\n",
    "import pandas as pd\n",
    "import seaborn as sns   \n",
    "import matplotlib.pyplot as plt"
   ]
  },
  {
   "cell_type": "code",
   "execution_count": 2,
   "metadata": {},
   "outputs": [],
   "source": [
    "df10=pd.read_csv('./DF10.csv')    "
   ]
  },
  {
   "cell_type": "code",
   "execution_count": 3,
   "metadata": {},
   "outputs": [
    {
     "data": {
      "text/html": [
       "<div>\n",
       "<style scoped>\n",
       "    .dataframe tbody tr th:only-of-type {\n",
       "        vertical-align: middle;\n",
       "    }\n",
       "\n",
       "    .dataframe tbody tr th {\n",
       "        vertical-align: top;\n",
       "    }\n",
       "\n",
       "    .dataframe thead th {\n",
       "        text-align: right;\n",
       "    }\n",
       "</style>\n",
       "<table border=\"1\" class=\"dataframe\">\n",
       "  <thead>\n",
       "    <tr style=\"text-align: right;\">\n",
       "      <th></th>\n",
       "      <th>GO</th>\n",
       "      <th>Function</th>\n",
       "      <th>Proteins</th>\n",
       "      <th>Gene Name</th>\n",
       "      <th>Ontology group</th>\n",
       "      <th>Count of protein</th>\n",
       "      <th>Number of proteins detected within the genome</th>\n",
       "      <th>GO frequency within the dataset (%)</th>\n",
       "      <th>GO frequency within the genome (%)</th>\n",
       "      <th>P-Value</th>\n",
       "      <th>P-Values_BH</th>\n",
       "    </tr>\n",
       "  </thead>\n",
       "  <tbody>\n",
       "    <tr>\n",
       "      <th>0</th>\n",
       "      <td>GO:0005739</td>\n",
       "      <td>mitochondrion</td>\n",
       "      <td>P23004(Evidence code:IEA/Database source:UniPr...</td>\n",
       "      <td>UQCRC2 CS IVD HSD17B10 COX4I1 CYC1 COX5B UQCR...</td>\n",
       "      <td>CC</td>\n",
       "      <td>36</td>\n",
       "      <td>36 of 380</td>\n",
       "      <td>40.45</td>\n",
       "      <td>9.47</td>\n",
       "      <td>1.223000e-38</td>\n",
       "      <td>6.801000e-36</td>\n",
       "    </tr>\n",
       "    <tr>\n",
       "      <th>1</th>\n",
       "      <td>GO:0016020</td>\n",
       "      <td>membrane</td>\n",
       "      <td>P23004(Evidence code:IEA/Database source:UniPr...</td>\n",
       "      <td>UQCRC2 M6PR MGST1 ATP5C1 SSR1 SDHA COX5B CD1B...</td>\n",
       "      <td>CC</td>\n",
       "      <td>46</td>\n",
       "      <td>46 of 1837</td>\n",
       "      <td>51.69</td>\n",
       "      <td>2.50</td>\n",
       "      <td>1.545000e-24</td>\n",
       "      <td>4.294000e-22</td>\n",
       "    </tr>\n",
       "    <tr>\n",
       "      <th>2</th>\n",
       "      <td>GO:0005743</td>\n",
       "      <td>mitochondrial inner membrane</td>\n",
       "      <td>P13184(Evidence code:IEA/Database source:UniPr...</td>\n",
       "      <td>COX7A2 SDHA CYC1 ATP5J2 UQCRC1 ATP5C1 GLUD1 N...</td>\n",
       "      <td>CC</td>\n",
       "      <td>20</td>\n",
       "      <td>20 of 215</td>\n",
       "      <td>22.47</td>\n",
       "      <td>9.30</td>\n",
       "      <td>1.263000e-22</td>\n",
       "      <td>2.340000e-20</td>\n",
       "    </tr>\n",
       "    <tr>\n",
       "      <th>3</th>\n",
       "      <td>GO:0055114</td>\n",
       "      <td>oxidation-reduction process</td>\n",
       "      <td>Q3SZI8(Evidence code:IEA/Database source:Inter...</td>\n",
       "      <td>IVD ALDH2 NDUFAB1 CYC1 LOC789567 GLUD1 SDHA N...</td>\n",
       "      <td>BP</td>\n",
       "      <td>16</td>\n",
       "      <td>16 of 162</td>\n",
       "      <td>17.98</td>\n",
       "      <td>9.88</td>\n",
       "      <td>6.520000e-19</td>\n",
       "      <td>9.062000e-17</td>\n",
       "    </tr>\n",
       "    <tr>\n",
       "      <th>4</th>\n",
       "      <td>GO:0005783</td>\n",
       "      <td>endoplasmic reticulum</td>\n",
       "      <td>Q5E9X4(Evidence code:IEA/Database source:UniPr...</td>\n",
       "      <td>LRRC59 EEF1B DDRGK1 SURF4 SEC61A1 ARL6IP5 SEC...</td>\n",
       "      <td>CC</td>\n",
       "      <td>16</td>\n",
       "      <td>16 of 220</td>\n",
       "      <td>17.98</td>\n",
       "      <td>7.27</td>\n",
       "      <td>5.928000e-17</td>\n",
       "      <td>6.592000e-15</td>\n",
       "    </tr>\n",
       "  </tbody>\n",
       "</table>\n",
       "</div>"
      ],
      "text/plain": [
       "           GO                      Function  \\\n",
       "0  GO:0005739                 mitochondrion   \n",
       "1  GO:0016020                      membrane   \n",
       "2  GO:0005743  mitochondrial inner membrane   \n",
       "3  GO:0055114   oxidation-reduction process   \n",
       "4  GO:0005783         endoplasmic reticulum   \n",
       "\n",
       "                                            Proteins  \\\n",
       "0  P23004(Evidence code:IEA/Database source:UniPr...   \n",
       "1  P23004(Evidence code:IEA/Database source:UniPr...   \n",
       "2  P13184(Evidence code:IEA/Database source:UniPr...   \n",
       "3  Q3SZI8(Evidence code:IEA/Database source:Inter...   \n",
       "4  Q5E9X4(Evidence code:IEA/Database source:UniPr...   \n",
       "\n",
       "                                           Gene Name Ontology group  \\\n",
       "0   UQCRC2 CS IVD HSD17B10 COX4I1 CYC1 COX5B UQCR...             CC   \n",
       "1   UQCRC2 M6PR MGST1 ATP5C1 SSR1 SDHA COX5B CD1B...             CC   \n",
       "2   COX7A2 SDHA CYC1 ATP5J2 UQCRC1 ATP5C1 GLUD1 N...             CC   \n",
       "3   IVD ALDH2 NDUFAB1 CYC1 LOC789567 GLUD1 SDHA N...             BP   \n",
       "4   LRRC59 EEF1B DDRGK1 SURF4 SEC61A1 ARL6IP5 SEC...             CC   \n",
       "\n",
       "   Count of protein Number of proteins detected within the genome  \\\n",
       "0                36                                     36 of 380   \n",
       "1                46                                    46 of 1837   \n",
       "2                20                                     20 of 215   \n",
       "3                16                                     16 of 162   \n",
       "4                16                                     16 of 220   \n",
       "\n",
       "   GO frequency within the dataset (%)  GO frequency within the genome (%)  \\\n",
       "0                                40.45                                9.47   \n",
       "1                                51.69                                2.50   \n",
       "2                                22.47                                9.30   \n",
       "3                                17.98                                9.88   \n",
       "4                                17.98                                7.27   \n",
       "\n",
       "        P-Value   P-Values_BH  \n",
       "0  1.223000e-38  6.801000e-36  \n",
       "1  1.545000e-24  4.294000e-22  \n",
       "2  1.263000e-22  2.340000e-20  \n",
       "3  6.520000e-19  9.062000e-17  \n",
       "4  5.928000e-17  6.592000e-15  "
      ]
     },
     "execution_count": 3,
     "metadata": {},
     "output_type": "execute_result"
    }
   ],
   "source": [
    "df10.head()"
   ]
  },
  {
   "cell_type": "code",
   "execution_count": 4,
   "metadata": {},
   "outputs": [
    {
     "data": {
      "text/html": [
       "<div>\n",
       "<style scoped>\n",
       "    .dataframe tbody tr th:only-of-type {\n",
       "        vertical-align: middle;\n",
       "    }\n",
       "\n",
       "    .dataframe tbody tr th {\n",
       "        vertical-align: top;\n",
       "    }\n",
       "\n",
       "    .dataframe thead th {\n",
       "        text-align: right;\n",
       "    }\n",
       "</style>\n",
       "<table border=\"1\" class=\"dataframe\">\n",
       "  <thead>\n",
       "    <tr style=\"text-align: right;\">\n",
       "      <th></th>\n",
       "      <th>GO</th>\n",
       "      <th>Function</th>\n",
       "      <th>Proteins</th>\n",
       "      <th>Gene Name</th>\n",
       "      <th>Ontology group</th>\n",
       "      <th>Count of protein</th>\n",
       "      <th>Number of proteins detected within the genome</th>\n",
       "      <th>GO frequency within the dataset (%)</th>\n",
       "      <th>GO frequency within the genome (%)</th>\n",
       "      <th>P-Value</th>\n",
       "      <th>P-Values_BH</th>\n",
       "    </tr>\n",
       "  </thead>\n",
       "  <tbody>\n",
       "    <tr>\n",
       "      <th>551</th>\n",
       "      <td>GO:0031090</td>\n",
       "      <td>organelle membrane</td>\n",
       "      <td>Q5E9X4(Evidence code:IEA/Database source:UniPr...</td>\n",
       "      <td>LRRC59</td>\n",
       "      <td>CC</td>\n",
       "      <td>1</td>\n",
       "      <td>1 of 830</td>\n",
       "      <td>1.12</td>\n",
       "      <td>0.12</td>\n",
       "      <td>0.7300</td>\n",
       "      <td>0.7353</td>\n",
       "    </tr>\n",
       "    <tr>\n",
       "      <th>552</th>\n",
       "      <td>GO:0010468</td>\n",
       "      <td>regulation of gene expression</td>\n",
       "      <td>Q3T147(Evidence code:IBA/Database source:PANTH...</td>\n",
       "      <td>DDX39B</td>\n",
       "      <td>BP</td>\n",
       "      <td>1</td>\n",
       "      <td>1 of 870</td>\n",
       "      <td>1.12</td>\n",
       "      <td>0.11</td>\n",
       "      <td>0.7338</td>\n",
       "      <td>0.7378</td>\n",
       "    </tr>\n",
       "    <tr>\n",
       "      <th>553</th>\n",
       "      <td>GO:0017076</td>\n",
       "      <td>purine nucleotide binding</td>\n",
       "      <td>F1MDS3(Evidence code:IEA/Database source:Inter...</td>\n",
       "      <td>PCK2</td>\n",
       "      <td>MF</td>\n",
       "      <td>1</td>\n",
       "      <td>1 of 576</td>\n",
       "      <td>1.12</td>\n",
       "      <td>0.17</td>\n",
       "      <td>1.0000</td>\n",
       "      <td>1.0000</td>\n",
       "    </tr>\n",
       "    <tr>\n",
       "      <th>554</th>\n",
       "      <td>GO:0005615</td>\n",
       "      <td>extracellular space</td>\n",
       "      <td>Q2KIE5(Evidence code:IEA/Database source:UniPr...</td>\n",
       "      <td>CXCL2</td>\n",
       "      <td>CC</td>\n",
       "      <td>1</td>\n",
       "      <td>1 of 426</td>\n",
       "      <td>1.12</td>\n",
       "      <td>0.23</td>\n",
       "      <td>1.0000</td>\n",
       "      <td>1.0000</td>\n",
       "    </tr>\n",
       "    <tr>\n",
       "      <th>555</th>\n",
       "      <td>GO:0030154</td>\n",
       "      <td>cell differentiation</td>\n",
       "      <td>Q0VD32(Evidence code:IEA/Database source:UniPr...</td>\n",
       "      <td>CREBL2</td>\n",
       "      <td>BP</td>\n",
       "      <td>1</td>\n",
       "      <td>1 of 434</td>\n",
       "      <td>1.12</td>\n",
       "      <td>0.23</td>\n",
       "      <td>1.0000</td>\n",
       "      <td>1.0000</td>\n",
       "    </tr>\n",
       "  </tbody>\n",
       "</table>\n",
       "</div>"
      ],
      "text/plain": [
       "             GO                       Function  \\\n",
       "551  GO:0031090             organelle membrane   \n",
       "552  GO:0010468  regulation of gene expression   \n",
       "553  GO:0017076      purine nucleotide binding   \n",
       "554  GO:0005615            extracellular space   \n",
       "555  GO:0030154           cell differentiation   \n",
       "\n",
       "                                              Proteins Gene Name  \\\n",
       "551  Q5E9X4(Evidence code:IEA/Database source:UniPr...    LRRC59   \n",
       "552  Q3T147(Evidence code:IBA/Database source:PANTH...    DDX39B   \n",
       "553  F1MDS3(Evidence code:IEA/Database source:Inter...      PCK2   \n",
       "554  Q2KIE5(Evidence code:IEA/Database source:UniPr...     CXCL2   \n",
       "555  Q0VD32(Evidence code:IEA/Database source:UniPr...    CREBL2   \n",
       "\n",
       "    Ontology group  Count of protein  \\\n",
       "551             CC                 1   \n",
       "552             BP                 1   \n",
       "553             MF                 1   \n",
       "554             CC                 1   \n",
       "555             BP                 1   \n",
       "\n",
       "    Number of proteins detected within the genome  \\\n",
       "551                                      1 of 830   \n",
       "552                                      1 of 870   \n",
       "553                                      1 of 576   \n",
       "554                                      1 of 426   \n",
       "555                                      1 of 434   \n",
       "\n",
       "     GO frequency within the dataset (%)  GO frequency within the genome (%)  \\\n",
       "551                                 1.12                                0.12   \n",
       "552                                 1.12                                0.11   \n",
       "553                                 1.12                                0.17   \n",
       "554                                 1.12                                0.23   \n",
       "555                                 1.12                                0.23   \n",
       "\n",
       "     P-Value  P-Values_BH  \n",
       "551   0.7300       0.7353  \n",
       "552   0.7338       0.7378  \n",
       "553   1.0000       1.0000  \n",
       "554   1.0000       1.0000  \n",
       "555   1.0000       1.0000  "
      ]
     },
     "execution_count": 4,
     "metadata": {},
     "output_type": "execute_result"
    }
   ],
   "source": [
    "df10.tail()"
   ]
  },
  {
   "cell_type": "code",
   "execution_count": 5,
   "metadata": {},
   "outputs": [
    {
     "data": {
      "text/plain": [
       "Index(['GO', 'Function', 'Proteins', 'Gene Name', 'Ontology group',\n",
       "       'Count of protein', 'Number of proteins detected within the genome',\n",
       "       'GO frequency within the dataset (%)',\n",
       "       'GO frequency within the genome (%)', 'P-Value', 'P-Values_BH'],\n",
       "      dtype='object')"
      ]
     },
     "execution_count": 5,
     "metadata": {},
     "output_type": "execute_result"
    }
   ],
   "source": [
    "df10.columns"
   ]
  },
  {
   "cell_type": "code",
   "execution_count": 6,
   "metadata": {},
   "outputs": [
    {
     "data": {
      "text/html": [
       "<div>\n",
       "<style scoped>\n",
       "    .dataframe tbody tr th:only-of-type {\n",
       "        vertical-align: middle;\n",
       "    }\n",
       "\n",
       "    .dataframe tbody tr th {\n",
       "        vertical-align: top;\n",
       "    }\n",
       "\n",
       "    .dataframe thead th {\n",
       "        text-align: right;\n",
       "    }\n",
       "</style>\n",
       "<table border=\"1\" class=\"dataframe\">\n",
       "  <thead>\n",
       "    <tr style=\"text-align: right;\">\n",
       "      <th></th>\n",
       "      <th>GO</th>\n",
       "      <th>Function</th>\n",
       "      <th>Proteins</th>\n",
       "      <th>Gene Name</th>\n",
       "      <th>Ontology group</th>\n",
       "      <th>Count of protein</th>\n",
       "      <th>Number of proteins detected within the genome</th>\n",
       "      <th>GO frequency within the dataset (%)</th>\n",
       "      <th>GO frequency within the genome (%)</th>\n",
       "      <th>P-Value</th>\n",
       "      <th>P-Values_BH</th>\n",
       "    </tr>\n",
       "  </thead>\n",
       "  <tbody>\n",
       "    <tr>\n",
       "      <th>0</th>\n",
       "      <td>False</td>\n",
       "      <td>False</td>\n",
       "      <td>False</td>\n",
       "      <td>False</td>\n",
       "      <td>False</td>\n",
       "      <td>False</td>\n",
       "      <td>False</td>\n",
       "      <td>False</td>\n",
       "      <td>False</td>\n",
       "      <td>False</td>\n",
       "      <td>False</td>\n",
       "    </tr>\n",
       "    <tr>\n",
       "      <th>1</th>\n",
       "      <td>False</td>\n",
       "      <td>False</td>\n",
       "      <td>False</td>\n",
       "      <td>False</td>\n",
       "      <td>False</td>\n",
       "      <td>False</td>\n",
       "      <td>False</td>\n",
       "      <td>False</td>\n",
       "      <td>False</td>\n",
       "      <td>False</td>\n",
       "      <td>False</td>\n",
       "    </tr>\n",
       "    <tr>\n",
       "      <th>2</th>\n",
       "      <td>False</td>\n",
       "      <td>False</td>\n",
       "      <td>False</td>\n",
       "      <td>False</td>\n",
       "      <td>False</td>\n",
       "      <td>False</td>\n",
       "      <td>False</td>\n",
       "      <td>False</td>\n",
       "      <td>False</td>\n",
       "      <td>False</td>\n",
       "      <td>False</td>\n",
       "    </tr>\n",
       "    <tr>\n",
       "      <th>3</th>\n",
       "      <td>False</td>\n",
       "      <td>False</td>\n",
       "      <td>False</td>\n",
       "      <td>False</td>\n",
       "      <td>False</td>\n",
       "      <td>False</td>\n",
       "      <td>False</td>\n",
       "      <td>False</td>\n",
       "      <td>False</td>\n",
       "      <td>False</td>\n",
       "      <td>False</td>\n",
       "    </tr>\n",
       "    <tr>\n",
       "      <th>4</th>\n",
       "      <td>False</td>\n",
       "      <td>False</td>\n",
       "      <td>False</td>\n",
       "      <td>False</td>\n",
       "      <td>False</td>\n",
       "      <td>False</td>\n",
       "      <td>False</td>\n",
       "      <td>False</td>\n",
       "      <td>False</td>\n",
       "      <td>False</td>\n",
       "      <td>False</td>\n",
       "    </tr>\n",
       "    <tr>\n",
       "      <th>...</th>\n",
       "      <td>...</td>\n",
       "      <td>...</td>\n",
       "      <td>...</td>\n",
       "      <td>...</td>\n",
       "      <td>...</td>\n",
       "      <td>...</td>\n",
       "      <td>...</td>\n",
       "      <td>...</td>\n",
       "      <td>...</td>\n",
       "      <td>...</td>\n",
       "      <td>...</td>\n",
       "    </tr>\n",
       "    <tr>\n",
       "      <th>551</th>\n",
       "      <td>False</td>\n",
       "      <td>False</td>\n",
       "      <td>False</td>\n",
       "      <td>False</td>\n",
       "      <td>False</td>\n",
       "      <td>False</td>\n",
       "      <td>False</td>\n",
       "      <td>False</td>\n",
       "      <td>False</td>\n",
       "      <td>False</td>\n",
       "      <td>False</td>\n",
       "    </tr>\n",
       "    <tr>\n",
       "      <th>552</th>\n",
       "      <td>False</td>\n",
       "      <td>False</td>\n",
       "      <td>False</td>\n",
       "      <td>False</td>\n",
       "      <td>False</td>\n",
       "      <td>False</td>\n",
       "      <td>False</td>\n",
       "      <td>False</td>\n",
       "      <td>False</td>\n",
       "      <td>False</td>\n",
       "      <td>False</td>\n",
       "    </tr>\n",
       "    <tr>\n",
       "      <th>553</th>\n",
       "      <td>False</td>\n",
       "      <td>False</td>\n",
       "      <td>False</td>\n",
       "      <td>False</td>\n",
       "      <td>False</td>\n",
       "      <td>False</td>\n",
       "      <td>False</td>\n",
       "      <td>False</td>\n",
       "      <td>False</td>\n",
       "      <td>False</td>\n",
       "      <td>False</td>\n",
       "    </tr>\n",
       "    <tr>\n",
       "      <th>554</th>\n",
       "      <td>False</td>\n",
       "      <td>False</td>\n",
       "      <td>False</td>\n",
       "      <td>False</td>\n",
       "      <td>False</td>\n",
       "      <td>False</td>\n",
       "      <td>False</td>\n",
       "      <td>False</td>\n",
       "      <td>False</td>\n",
       "      <td>False</td>\n",
       "      <td>False</td>\n",
       "    </tr>\n",
       "    <tr>\n",
       "      <th>555</th>\n",
       "      <td>False</td>\n",
       "      <td>False</td>\n",
       "      <td>False</td>\n",
       "      <td>False</td>\n",
       "      <td>False</td>\n",
       "      <td>False</td>\n",
       "      <td>False</td>\n",
       "      <td>False</td>\n",
       "      <td>False</td>\n",
       "      <td>False</td>\n",
       "      <td>False</td>\n",
       "    </tr>\n",
       "  </tbody>\n",
       "</table>\n",
       "<p>556 rows × 11 columns</p>\n",
       "</div>"
      ],
      "text/plain": [
       "        GO  Function  Proteins  Gene Name  Ontology group  Count of protein  \\\n",
       "0    False     False     False      False           False             False   \n",
       "1    False     False     False      False           False             False   \n",
       "2    False     False     False      False           False             False   \n",
       "3    False     False     False      False           False             False   \n",
       "4    False     False     False      False           False             False   \n",
       "..     ...       ...       ...        ...             ...               ...   \n",
       "551  False     False     False      False           False             False   \n",
       "552  False     False     False      False           False             False   \n",
       "553  False     False     False      False           False             False   \n",
       "554  False     False     False      False           False             False   \n",
       "555  False     False     False      False           False             False   \n",
       "\n",
       "     Number of proteins detected within the genome  \\\n",
       "0                                            False   \n",
       "1                                            False   \n",
       "2                                            False   \n",
       "3                                            False   \n",
       "4                                            False   \n",
       "..                                             ...   \n",
       "551                                          False   \n",
       "552                                          False   \n",
       "553                                          False   \n",
       "554                                          False   \n",
       "555                                          False   \n",
       "\n",
       "     GO frequency within the dataset (%)  GO frequency within the genome (%)  \\\n",
       "0                                  False                               False   \n",
       "1                                  False                               False   \n",
       "2                                  False                               False   \n",
       "3                                  False                               False   \n",
       "4                                  False                               False   \n",
       "..                                   ...                                 ...   \n",
       "551                                False                               False   \n",
       "552                                False                               False   \n",
       "553                                False                               False   \n",
       "554                                False                               False   \n",
       "555                                False                               False   \n",
       "\n",
       "     P-Value  P-Values_BH  \n",
       "0      False        False  \n",
       "1      False        False  \n",
       "2      False        False  \n",
       "3      False        False  \n",
       "4      False        False  \n",
       "..       ...          ...  \n",
       "551    False        False  \n",
       "552    False        False  \n",
       "553    False        False  \n",
       "554    False        False  \n",
       "555    False        False  \n",
       "\n",
       "[556 rows x 11 columns]"
      ]
     },
     "execution_count": 6,
     "metadata": {},
     "output_type": "execute_result"
    }
   ],
   "source": [
    "df10.isnull()"
   ]
  },
  {
   "cell_type": "code",
   "execution_count": 7,
   "metadata": {},
   "outputs": [
    {
     "name": "stdout",
     "output_type": "stream",
     "text": [
      "<class 'pandas.core.frame.DataFrame'>\n",
      "RangeIndex: 556 entries, 0 to 555\n",
      "Data columns (total 11 columns):\n",
      " #   Column                                         Non-Null Count  Dtype  \n",
      "---  ------                                         --------------  -----  \n",
      " 0   GO                                             556 non-null    object \n",
      " 1   Function                                       556 non-null    object \n",
      " 2   Proteins                                       556 non-null    object \n",
      " 3   Gene Name                                      556 non-null    object \n",
      " 4   Ontology group                                 556 non-null    object \n",
      " 5   Count of protein                               556 non-null    int64  \n",
      " 6   Number of proteins detected within the genome  556 non-null    object \n",
      " 7   GO frequency within the dataset (%)            556 non-null    float64\n",
      " 8   GO frequency within the genome (%)             556 non-null    float64\n",
      " 9   P-Value                                        556 non-null    float64\n",
      " 10  P-Values_BH                                    556 non-null    float64\n",
      "dtypes: float64(4), int64(1), object(6)\n",
      "memory usage: 47.9+ KB\n"
     ]
    }
   ],
   "source": [
    "df10.info()"
   ]
  },
  {
   "cell_type": "code",
   "execution_count": 8,
   "metadata": {},
   "outputs": [
    {
     "data": {
      "text/html": [
       "<div>\n",
       "<style scoped>\n",
       "    .dataframe tbody tr th:only-of-type {\n",
       "        vertical-align: middle;\n",
       "    }\n",
       "\n",
       "    .dataframe tbody tr th {\n",
       "        vertical-align: top;\n",
       "    }\n",
       "\n",
       "    .dataframe thead th {\n",
       "        text-align: right;\n",
       "    }\n",
       "</style>\n",
       "<table border=\"1\" class=\"dataframe\">\n",
       "  <thead>\n",
       "    <tr style=\"text-align: right;\">\n",
       "      <th></th>\n",
       "      <th>Count of protein</th>\n",
       "      <th>GO frequency within the dataset (%)</th>\n",
       "      <th>GO frequency within the genome (%)</th>\n",
       "      <th>P-Value</th>\n",
       "      <th>P-Values_BH</th>\n",
       "    </tr>\n",
       "  </thead>\n",
       "  <tbody>\n",
       "    <tr>\n",
       "      <th>count</th>\n",
       "      <td>556.000000</td>\n",
       "      <td>556.000000</td>\n",
       "      <td>556.000000</td>\n",
       "      <td>5.560000e+02</td>\n",
       "      <td>5.560000e+02</td>\n",
       "    </tr>\n",
       "    <tr>\n",
       "      <th>mean</th>\n",
       "      <td>1.929856</td>\n",
       "      <td>2.165899</td>\n",
       "      <td>22.631061</td>\n",
       "      <td>7.404111e-02</td>\n",
       "      <td>9.181500e-02</td>\n",
       "    </tr>\n",
       "    <tr>\n",
       "      <th>std</th>\n",
       "      <td>3.344557</td>\n",
       "      <td>3.758782</td>\n",
       "      <td>31.381748</td>\n",
       "      <td>1.337948e-01</td>\n",
       "      <td>1.339434e-01</td>\n",
       "    </tr>\n",
       "    <tr>\n",
       "      <th>min</th>\n",
       "      <td>1.000000</td>\n",
       "      <td>1.120000</td>\n",
       "      <td>0.060000</td>\n",
       "      <td>1.223000e-38</td>\n",
       "      <td>6.801000e-36</td>\n",
       "    </tr>\n",
       "    <tr>\n",
       "      <th>25%</th>\n",
       "      <td>1.000000</td>\n",
       "      <td>1.120000</td>\n",
       "      <td>2.440000</td>\n",
       "      <td>5.548000e-03</td>\n",
       "      <td>2.127000e-02</td>\n",
       "    </tr>\n",
       "    <tr>\n",
       "      <th>50%</th>\n",
       "      <td>1.000000</td>\n",
       "      <td>1.120000</td>\n",
       "      <td>7.140000</td>\n",
       "      <td>2.201000e-02</td>\n",
       "      <td>4.219000e-02</td>\n",
       "    </tr>\n",
       "    <tr>\n",
       "      <th>75%</th>\n",
       "      <td>2.000000</td>\n",
       "      <td>2.250000</td>\n",
       "      <td>27.270000</td>\n",
       "      <td>7.747000e-02</td>\n",
       "      <td>1.030000e-01</td>\n",
       "    </tr>\n",
       "    <tr>\n",
       "      <th>max</th>\n",
       "      <td>46.000000</td>\n",
       "      <td>51.690000</td>\n",
       "      <td>100.000000</td>\n",
       "      <td>1.000000e+00</td>\n",
       "      <td>1.000000e+00</td>\n",
       "    </tr>\n",
       "  </tbody>\n",
       "</table>\n",
       "</div>"
      ],
      "text/plain": [
       "       Count of protein  GO frequency within the dataset (%)  \\\n",
       "count        556.000000                           556.000000   \n",
       "mean           1.929856                             2.165899   \n",
       "std            3.344557                             3.758782   \n",
       "min            1.000000                             1.120000   \n",
       "25%            1.000000                             1.120000   \n",
       "50%            1.000000                             1.120000   \n",
       "75%            2.000000                             2.250000   \n",
       "max           46.000000                            51.690000   \n",
       "\n",
       "       GO frequency within the genome (%)       P-Value   P-Values_BH  \n",
       "count                          556.000000  5.560000e+02  5.560000e+02  \n",
       "mean                            22.631061  7.404111e-02  9.181500e-02  \n",
       "std                             31.381748  1.337948e-01  1.339434e-01  \n",
       "min                              0.060000  1.223000e-38  6.801000e-36  \n",
       "25%                              2.440000  5.548000e-03  2.127000e-02  \n",
       "50%                              7.140000  2.201000e-02  4.219000e-02  \n",
       "75%                             27.270000  7.747000e-02  1.030000e-01  \n",
       "max                            100.000000  1.000000e+00  1.000000e+00  "
      ]
     },
     "execution_count": 8,
     "metadata": {},
     "output_type": "execute_result"
    }
   ],
   "source": [
    "#Go gene antology \n",
    "df10.describe()"
   ]
  },
  {
   "cell_type": "code",
   "execution_count": 9,
   "metadata": {},
   "outputs": [
    {
     "data": {
      "text/plain": [
       "array(['mitochondrion', 'membrane', 'mitochondrial inner membrane',\n",
       "       'oxidation-reduction process', 'endoplasmic reticulum',\n",
       "       'integral component of membrane', 'respiratory chain',\n",
       "       'mitochondrial matrix', 'ribosome',\n",
       "       'endoplasmic reticulum membrane',\n",
       "       'mitochondrial respiratory chain complex IV',\n",
       "       'cytosolic large ribosomal subunit',\n",
       "       'mitochondrial proton-transporting ATP synthase complex',\n",
       "       'RNA binding', 'cytochrome-c oxidase activity',\n",
       "       'proton-transporting ATP synthase complex, coupling factor F(o)',\n",
       "       'mitochondrial electron transport, cytochrome c to oxygen',\n",
       "       'myelin sheath', 'translation', 'electron transfer activity',\n",
       "       'mitochondrial ATP synthesis coupled proton transport',\n",
       "       'cytoplasmic translation',\n",
       "       'ATP synthesis coupled proton transport', 'nucleus',\n",
       "       'oxidoreductase activity',\n",
       "       'mitochondrial proton-transporting ATP synthase complex, coupling factor F(o)',\n",
       "       'structural constituent of ribosome',\n",
       "       'proton-transporting ATP synthase activity, rotational mechanism',\n",
       "       'mitochondrial respiratory chain complex III', 'nucleolus',\n",
       "       'mitochondrial respiratory chain complex I assembly',\n",
       "       'mitochondrial electron transport, ubiquinol to cytochrome c',\n",
       "       'proton transmembrane transport', 'cytoplasm', 'heme binding',\n",
       "       'endoplasmic reticulum-Golgi intermediate compartment',\n",
       "       'ion transport', 'plasma membrane', 'respiratory chain complex IV',\n",
       "       'electron transport chain',\n",
       "       'ATP hydrolysis coupled cation transmembrane transport',\n",
       "       'tricarboxylic acid cycle',\n",
       "       'positive regulation of cysteine-type endopeptidase activity involved in apoptotic process',\n",
       "       'protein homotetramerization',\n",
       "       'mitochondrial calcium ion transmembrane transport',\n",
       "       'mitochondrial intermembrane space', 'cell surface',\n",
       "       'intracellular', 'cotranslational protein targeting to membrane',\n",
       "       'RNA splicing', 'ATPase activity', 'Golgi apparatus',\n",
       "       'nucleoplasm', 'mitochondrial respiratory chain complex I',\n",
       "       'negative regulation of transcription by RNA polymerase II',\n",
       "       'mannose binding', 'mRNA processing',\n",
       "       'positive regulation of neutrophil chemotaxis',\n",
       "       'metal ion binding', 'ribosome biogenesis',\n",
       "       'mitochondrial electron transport, NADH to ubiquinone',\n",
       "       'proton transmembrane transporter activity',\n",
       "       'endoplasmic reticulum-Golgi intermediate compartment membrane',\n",
       "       'maturation of LSU-rRNA', 'aerobic respiration',\n",
       "       'fatty acid beta-oxidation', 'spliceosomal complex',\n",
       "       'ribosome binding', 'ATP biosynthetic process',\n",
       "       'metalloendopeptidase activity', 'zinc ion binding',\n",
       "       'mitochondrion organization',\n",
       "       'oxidoreductase activity, acting on the CH-CH group of donors',\n",
       "       'NADH dehydrogenase (ubiquinone) activity',\n",
       "       'flavin adenine dinucleotide binding',\n",
       "       'ribosomal large subunit assembly', 'rRNA binding',\n",
       "       'positive regulation of NF-kappaB transcription factor activity',\n",
       "       'nuclear envelope', 'ER to Golgi vesicle-mediated transport',\n",
       "       'endoplasmic reticulum lumen', 'nuclear membrane organization',\n",
       "       'phosphoenolpyruvate carboxykinase activity',\n",
       "       'electron transporter, transferring electrons from CoQH2-cytochrome c reductase complex and cytochrome c oxidase complex activity',\n",
       "       'lipid localization', 'dGTPase activity',\n",
       "       'complement component C3a binding',\n",
       "       'glutamate dehydrogenase [NAD(P)+] activity',\n",
       "       'acetyl-CoA catabolic process', 'ketone body catabolic process',\n",
       "       'negative regulation of RIG-I signaling pathway',\n",
       "       'histone methyltransferase activity (H2A-R3 specific)',\n",
       "       'proteinase activated receptor binding',\n",
       "       'mitochondrial tRNA methylation', 'aminoacylase activity',\n",
       "       'dGTP binding', 'phosphoenolpyruvate carboxykinase (GTP) activity',\n",
       "       'positive regulation of cardiolipin metabolic process',\n",
       "       'negative regulation of L-glutamate import across plasma membrane',\n",
       "       'propionyl-CoA biosynthetic process', 'anaerobic respiration',\n",
       "       'peptidyl-arginine methylation, to asymmetrical-dimethyl arginine',\n",
       "       'COPI coating of Golgi vesicle',\n",
       "       'histone methyltransferase activity (H3-R2 specific)',\n",
       "       'positive regulation of mitochondrial DNA replication',\n",
       "       'retromer complex binding', 'lipopeptide binding',\n",
       "       'mitochondrial proton-transporting ATP synthase, stator stalk',\n",
       "       'dATP catabolic process',\n",
       "       'intrinsic apoptotic signaling pathway in response to oxidative stress',\n",
       "       'electron transporter, transferring electrons within CoQH2-cytochrome c reductase complex activity',\n",
       "       'dosage compensation', 'histone H3-R2 methylation',\n",
       "       'kininogen binding', 'lipid A biosynthetic process',\n",
       "       'dGTP catabolic process',\n",
       "       'triphosphoric monoester hydrolase activity',\n",
       "       'mitochondrial permeability transition pore complex',\n",
       "       'progesterone receptor signaling pathway',\n",
       "       'viral mRNA export from host cell nucleus',\n",
       "       'extracellular negative regulation of signal transduction',\n",
       "       'positive regulation of trophoblast cell migration',\n",
       "       'negative regulation of histone phosphorylation',\n",
       "       'mannose transmembrane transporter activity',\n",
       "       'negative regulation of DNA damage checkpoint',\n",
       "       'double-stranded methylated DNA binding',\n",
       "       'positive regulation of mitochondrial membrane potential',\n",
       "       'protein localization to endoplasmic reticulum exit site',\n",
       "       'complement component C3b binding',\n",
       "       'pronephric nephron development',\n",
       "       'negative regulation of glucocorticoid receptor signaling pathway',\n",
       "       'stress-induced mitochondrial fusion', 'leucine catabolic process',\n",
       "       'pericentric heterochromatin', 'interleukin-2 production',\n",
       "       'mitochondrial envelope', 'citrate (Si)-synthase activity',\n",
       "       'testosterone dehydrogenase [NAD(P)] activity',\n",
       "       '3-hydroxy-2-methylbutyryl-CoA dehydrogenase activity',\n",
       "       'positive regulation of I-kappaB phosphorylation',\n",
       "       'glutamate dehydrogenase (NAD+) activity',\n",
       "       'acetyl-CoA C-acetyltransferase activity',\n",
       "       'integral component of nuclear inner membrane',\n",
       "       'positive regulation of ER-associated ubiquitin-dependent protein catabolic process',\n",
       "       'negative regulation of type I interferon-mediated signaling pathway',\n",
       "       'mRNA transport', 'protein stabilization',\n",
       "       'mRNA splicing, via spliceosome',\n",
       "       'positive regulation of cytosolic calcium ion concentration',\n",
       "       'cell chemotaxis', 'chromosome',\n",
       "       'positive regulation of ERK1 and ERK2 cascade',\n",
       "       'catalase activity', 'ATP-dependent protein binding',\n",
       "       'isoleucine catabolic process',\n",
       "       'positive regulation of dendritic cell chemotaxis',\n",
       "       'T cell receptor complex',\n",
       "       'positive regulation of complement activation',\n",
       "       'negative regulation of mitochondrial membrane potential',\n",
       "       'protein-arginine omega-N asymmetric methyltransferase activity',\n",
       "       'succinate dehydrogenase (ubiquinone) activity',\n",
       "       'protein-arginine omega-N monomethyltransferase activity',\n",
       "       'succinate-CoA ligase (ADP-forming) activity',\n",
       "       'receptor antagonist activity',\n",
       "       'positive regulation of maintenance of mitotic sister chromatid cohesion',\n",
       "       'negative regulation of interleukin-12 production',\n",
       "       'aspartate catabolic process', 'rDNA binding',\n",
       "       'posttranslational protein targeting to endoplasmic reticulum membrane',\n",
       "       'positive regulation of mitochondrial calcium ion concentration',\n",
       "       'antigen processing and presentation, exogenous lipid antigen via MHC class Ib',\n",
       "       'protein hexamerization', 'complement component C1q binding',\n",
       "       'mitochondrial ribosome binding',\n",
       "       'succinate-CoA ligase (GDP-forming) activity',\n",
       "       'response to peptidoglycan', 'acyl binding',\n",
       "       'platelet-activating factor acetyltransferase activity',\n",
       "       'negative regulation of endoplasmic reticulum calcium ion concentration',\n",
       "       'histone H4-R3 methylation',\n",
       "       'glutamate catabolic process to 2-oxoglutarate',\n",
       "       'glutamate catabolic process to aspartate',\n",
       "       'oxidoreductase activity, acting on the CH-NH2 group of donors, NAD or NADP as acceptor',\n",
       "       'phosphopantetheine binding',\n",
       "       'superoxide-generating NADPH oxidase activator activity',\n",
       "       'mRNA 3-splice site recognition',\n",
       "       'negative regulation of transcription by competitive promoter binding',\n",
       "       'MHC class I protein binding',\n",
       "       'antigen processing and presentation of endogenous peptide antigen via MHC class I',\n",
       "       'integral component of synaptic vesicle membrane',\n",
       "       'Golgi membrane', 'mitochondrial outer membrane',\n",
       "       'apoptotic process', 'heparin binding', 'U4 snRNA binding',\n",
       "       'succinate dehydrogenase activity',\n",
       "       'cellular response to sodium arsenite',\n",
       "       'histone methyltransferase activity (H4-R3 specific)',\n",
       "       'negative regulation of androgen receptor signaling pathway',\n",
       "       'transcription export complex', 'enoyl-CoA hydratase activity',\n",
       "       'transferase activity, transferring acyl groups, acyl groups converted into alkyl on transfer',\n",
       "       'negative regulation of MDA-5 signaling pathway',\n",
       "       'perinuclear endoplasmic reticulum',\n",
       "       'secretion of lysosomal enzymes',\n",
       "       '3-hydroxyacyl-CoA dehydrogenase activity',\n",
       "       'signal peptidase complex',\n",
       "       'positive regulation of gene expression, epigenetic',\n",
       "       'negative regulation of cell cycle G2/M phase transition',\n",
       "       'somatic hypermutation of immunoglobulin genes',\n",
       "       'eukaryotic translation elongation factor 1 complex',\n",
       "       'porin activity', 'coenzyme A biosynthetic process',\n",
       "       'L-aspartate:2-oxoglutarate aminotransferase activity',\n",
       "       'glutamate catabolic process', 'aspartate biosynthetic process',\n",
       "       'mRNA transcription by RNA polymerase II',\n",
       "       'histone-arginine N-methyltransferase activity',\n",
       "       'respiratory burst',\n",
       "       'protein processing involved in protein targeting to mitochondrion',\n",
       "       'extracellular region', 'GTP binding', 'fibronectin binding',\n",
       "       'deoxyribonucleotide catabolic process',\n",
       "       'protein-arginine N-methyltransferase activity',\n",
       "       '1-alkyl-2-acetylglycerophosphocholine esterase activity',\n",
       "       'mitochondrial electron transport, succinate to ubiquinone',\n",
       "       'positive regulation of vascular endothelial growth factor production',\n",
       "       'cardiolipin binding', 'MHC class I protein complex',\n",
       "       'NADPH oxidase complex', 'peptidyl-arginine N-methylation',\n",
       "       '5S rRNA binding', 'cellular response to interleukin-6',\n",
       "       'ethanol catabolic process', 'response to ethanol',\n",
       "       'ligase activity, forming carbon-carbon bonds',\n",
       "       'positive regulation of macrophage chemotaxis',\n",
       "       'mitochondrial respiratory chain complex II, succinate dehydrogenase complex (ubiquinone)',\n",
       "       'UV protection', 'U6 snRNA binding',\n",
       "       'maturation of LSU-rRNA from tricistronic rRNA transcript (SSU-rRNA, 5.8S rRNA, LSU-rRNA)',\n",
       "       'mature ribosome assembly', 'nucleotide binding', 'chemotaxis',\n",
       "       'cellular oxidant detoxification',\n",
       "       'voltage-gated anion channel activity',\n",
       "       'regulation of complement activation',\n",
       "       'SRP-dependent cotranslational protein targeting to membrane',\n",
       "       'U6 snRNP', 'protein K69-linked ufmylation',\n",
       "       'proton-transporting ATP synthase complex, catalytic core F(1)',\n",
       "       'coenzyme A metabolic process',\n",
       "       'L-glutamate transmembrane transport',\n",
       "       'acetyl-CoA biosynthetic process', 'cellular senescence',\n",
       "       'signal peptide processing', 'hydrogen peroxide catabolic process',\n",
       "       'promoter-specific chromatin binding', 'miRNA binding',\n",
       "       'oxaloacetate metabolic process',\n",
       "       'protein peptidyl-prolyl isomerization', 'ESC/E(Z) complex',\n",
       "       'mitochondrial respiratory chain',\n",
       "       'cellular response to DNA damage stimulus',\n",
       "       'response to endoplasmic reticulum stress', 'membrane raft',\n",
       "       'spermatogenesis', 'aspartate metabolic process',\n",
       "       'hemoglobin metabolic process',\n",
       "       'small ribosomal subunit rRNA binding',\n",
       "       'positive regulation of mitochondrial translation',\n",
       "       'mitochondrial protein processing',\n",
       "       'calcium-mediated signaling using intracellular calcium source',\n",
       "       'negative regulation of interferon-gamma production',\n",
       "       'acyl carrier activity', '2-oxoglutarate metabolic process',\n",
       "       'low-density lipoprotein particle receptor binding',\n",
       "       'RAGE receptor binding', 'nuclear chromosome',\n",
       "       'condensed chromosome',\n",
       "       'negative regulation of defense response to virus',\n",
       "       'protein homotrimerization',\n",
       "       'mitochondrial calcium ion homeostasis',\n",
       "       'antigen processing and presentation of peptide antigen via MHC class I',\n",
       "       'U2-type prespliceosome', 'pore complex',\n",
       "       'fatty acid beta-oxidation using acyl-CoA dehydrogenase',\n",
       "       'positive regulation of substrate adhesion-dependent cell spreading',\n",
       "       'spliceosomal complex assembly',\n",
       "       'integral component of plasma membrane', 'cytosol',\n",
       "       'identical protein binding', 'regulation of histone methylation',\n",
       "       'hyaluronic acid binding', 'U4 snRNP', 'chemokine binding',\n",
       "       'oligosaccharyltransferase complex', 'histone deacetylation',\n",
       "       'adrenergic receptor binding', 'acyl-CoA dehydrogenase activity',\n",
       "       'glutamine metabolic process',\n",
       "       'phosphatidylinositol 3-kinase signaling',\n",
       "       'positive regulation of glucose import',\n",
       "       'protein disulfide isomerase activity',\n",
       "       'fatty acid metabolic process', 'FK506 binding', 'U2 snRNP',\n",
       "       'CD4-positive, alpha-beta T cell activation',\n",
       "       'aldehyde dehydrogenase (NAD) activity',\n",
       "       'positive regulation of DNA-templated transcription, elongation',\n",
       "       'positive regulation of macroautophagy', 'large ribosomal subunit',\n",
       "       'negative regulation of mRNA splicing, via spliceosome',\n",
       "       'regulation of intracellular estrogen receptor signaling pathway',\n",
       "       'retromer complex', 'translation elongation factor activity',\n",
       "       'site of double-strand break', 'chromatin silencing',\n",
       "       'positive regulation of G-protein coupled receptor protein signaling pathway',\n",
       "       'immunological synapse', 'protein targeting to ER',\n",
       "       'protein serine/threonine kinase inhibitor activity',\n",
       "       'negative regulation of gene expression, epigenetic',\n",
       "       'rough endoplasmic reticulum', 'T cell receptor signaling pathway',\n",
       "       'nuclear speck', 'glutathione transferase activity',\n",
       "       'endoplasmic reticulum organization',\n",
       "       'glutamate metabolic process', 'transferase activity',\n",
       "       'transcription, DNA-templated',\n",
       "       'regulation of signal transduction by p53 class mediator',\n",
       "       'RNA polymerase II core promoter sequence-specific DNA binding',\n",
       "       'RNA secondary structure unwinding',\n",
       "       'regulation of response to oxidative stress',\n",
       "       'nucleosomal DNA binding', 'fatty acid transport',\n",
       "       'inorganic anion transport', 'tRNA binding', 'antiporter activity',\n",
       "       'transaminase activity',\n",
       "       'regulation of transcription, DNA-templated', 'chromatin binding',\n",
       "       'collagen binding', 'U2-type spliceosomal complex',\n",
       "       'complement activation, classical pathway',\n",
       "       'histone methyltransferase activity',\n",
       "       'cellular amino acid metabolic process', 'fatty acid binding',\n",
       "       'protein self-association',\n",
       "       'extrinsic component of plasma membrane',\n",
       "       'DNA biosynthetic process', 'peroxisomal membrane',\n",
       "       'gluconeogenesis', 'positive regulation of apoptotic process',\n",
       "       'glycoprotein metabolic process',\n",
       "       'positive regulation of fat cell differentiation',\n",
       "       'RNA-dependent ATPase activity', 'acute inflammatory response',\n",
       "       'response to hydrogen peroxide', 'mRNA export from nucleus',\n",
       "       'response to unfolded protein', 'nuclear inner membrane',\n",
       "       'syntaxin binding', 'neutrophil chemotaxis',\n",
       "       'ATP-dependent RNA helicase activity',\n",
       "       'positive regulation of cell-substrate adhesion', 'NADP binding',\n",
       "       'negative regulation of NF-kappaB transcription factor activity',\n",
       "       'negative regulation of ERK1 and ERK2 cascade',\n",
       "       'positive regulation of phosphatidylinositol 3-kinase signaling',\n",
       "       'triglyceride metabolic process', 'innate immune response',\n",
       "       'peroxidase activity', 'chemokine activity', 'apical part of cell',\n",
       "       'antigen processing and presentation', 'phagocytosis',\n",
       "       'positive regulation of intrinsic apoptotic signaling pathway',\n",
       "       'mitochondrial nucleoid',\n",
       "       'oxidoreductase activity, acting on the aldehyde or oxo group of donors, NAD or NADP as acceptor',\n",
       "       'transcription regulatory region DNA binding', 'lipid droplet',\n",
       "       'double-strand break repair via homologous recombination',\n",
       "       'histone deacetylase binding', 'histone methylation', 'DNA repair',\n",
       "       'positive regulation of protein kinase B signaling',\n",
       "       'regulation of gene expression, epigenetic',\n",
       "       'positive regulation of proteasomal protein catabolic process',\n",
       "       'oxidoreductase activity, acting on peroxide as acceptor',\n",
       "       'fibrillar center',\n",
       "       'positive regulation of stress-activated MAPK cascade',\n",
       "       'regulation of alternative mRNA splicing, via spliceosome',\n",
       "       'phospholipase C-activating G-protein coupled receptor signaling pathway',\n",
       "       'regulation of signaling receptor activity',\n",
       "       'single-stranded DNA binding', 'nucleic acid binding',\n",
       "       'actin cytoskeleton', 'Golgi organization',\n",
       "       'lipid metabolic process', 'chromatin organization',\n",
       "       'peptidyl-prolyl cis-trans isomerase activity',\n",
       "       'anion transmembrane transport', 'membrane coat',\n",
       "       'immune system process', 'citrate metabolic process',\n",
       "       'positive regulation of lipid biosynthetic process',\n",
       "       'negative regulation of protein serine/threonine kinase activity',\n",
       "       'cysteine-type endopeptidase inhibitor activity',\n",
       "       'carbon-carbon lyase activity', 'chromatin DNA binding',\n",
       "       'positive regulation of cell division', 'NAD binding',\n",
       "       'nucleosome', 'brain development',\n",
       "       'tricarboxylic acid metabolic process', 'cytoskeleton',\n",
       "       'ribonucleoprotein complex', 'viral process',\n",
       "       'cell redox homeostasis', 'endomembrane system',\n",
       "       'perinuclear region of cytoplasm',\n",
       "       'negative regulation of cell growth',\n",
       "       'defense response to Gram-positive bacterium', 'synaptic vesicle',\n",
       "       'positive regulation of angiogenesis',\n",
       "       'negative regulation of endopeptidase activity',\n",
       "       'negative regulation of protein catabolic process',\n",
       "       'cytosolic small ribosomal subunit',\n",
       "       'negative regulation of transcription, DNA-templated',\n",
       "       'protein methylation', 'transcription corepressor activity',\n",
       "       'nucleosome assembly',\n",
       "       'positive regulation of epithelial cell proliferation',\n",
       "       'cholesterol metabolic process', 'DNA replication',\n",
       "       'RNA phosphodiester bond hydrolysis',\n",
       "       'pyridoxal phosphate binding',\n",
       "       'integral component of endoplasmic reticulum membrane',\n",
       "       'catalytic step 2 spliceosome', 'peroxisome',\n",
       "       'positive regulation of peptidyl-serine phosphorylation',\n",
       "       'trans-Golgi network', 'response to reactive oxygen species',\n",
       "       'antioxidant activity', 'protein C-terminus binding',\n",
       "       'protein transport', 'chaperone-mediated protein folding',\n",
       "       'ribonuclease activity', 'histone binding',\n",
       "       'extracellular matrix organization',\n",
       "       'intracellular protein transport', 'enzyme binding',\n",
       "       'late endosome', 'helicase activity',\n",
       "       'basolateral plasma membrane', 'calcium ion binding',\n",
       "       'tRNA processing', 'protein tetramerization',\n",
       "       'fatty acid biosynthetic process', 'nuclear chromatin',\n",
       "       'leukocyte migration', 'protein processing', 'immune response',\n",
       "       'respiratory chain complex I', 'calcium ion transport',\n",
       "       'lipid transport',\n",
       "       'positive regulation of I-kappaB kinase/NF-kappaB signaling',\n",
       "       'oxidoreductase activity, acting on NAD(P)H', 'proteolysis',\n",
       "       'adaptive immune response', 'protein-containing complex',\n",
       "       'early endosome', 'regulation of innate immune response',\n",
       "       'respiratory electron transport chain',\n",
       "       'protein-containing complex binding', 'methylation',\n",
       "       'positive regulation of transcription, DNA-templated',\n",
       "       'defense response to virus', 'mRNA binding',\n",
       "       'transcription coactivator activity', 'protein glycosylation',\n",
       "       'transferase activity, transferring acyl groups other than amino-acyl groups',\n",
       "       'serine-type peptidase activity',\n",
       "       'transferase activity, transferring glycosyl groups',\n",
       "       'ligase activity', 'methyltransferase activity',\n",
       "       'isomerase activity', 'mitochondrial membrane',\n",
       "       'RNA polymerase II regulatory region sequence-specific DNA binding',\n",
       "       'positive regulation of cell adhesion',\n",
       "       'regulation of lipid metabolic process', 'defense response',\n",
       "       'translational elongation', 'lyase activity',\n",
       "       'lipid catabolic process', 'cytokine activity',\n",
       "       'ubiquitin-like protein ligase binding',\n",
       "       'transferase activity, transferring acyl groups',\n",
       "       'response to oxidative stress', 'anion transport',\n",
       "       'defense response to bacterium',\n",
       "       'cellular calcium ion homeostasis', 'protein homooligomerization',\n",
       "       'lysosomal membrane', 'lytic vacuole', 'lysosome',\n",
       "       'protein folding', 'transcription factor binding',\n",
       "       'protein heterodimerization activity', 'protein kinase binding',\n",
       "       'RNA polymerase II transcription factor activity, sequence-specific DNA binding',\n",
       "       'G-protein coupled receptor activity',\n",
       "       'cellular metal ion homeostasis',\n",
       "       'negative regulation of cell proliferation',\n",
       "       'protein complex oligomerization', 'inflammatory response',\n",
       "       'signaling receptor binding', 'hydrolase activity',\n",
       "       'positive regulation of cell death', 'cofactor binding',\n",
       "       'ATP binding', 'extracellular matrix', 'protein binding',\n",
       "       'carbohydrate metabolic process',\n",
       "       'positive regulation of organelle organization',\n",
       "       'multicellular organism development', 'endosome',\n",
       "       'G-protein coupled receptor signaling pathway',\n",
       "       'biosynthetic process', 'nuclear body', 'DNA binding',\n",
       "       'transmembrane transport',\n",
       "       'negative regulation of apoptotic process',\n",
       "       'DNA-binding transcription factor activity', 'lipid binding',\n",
       "       'signaling receptor activity', 'peptidase activity',\n",
       "       'protein homodimerization activity',\n",
       "       'positive regulation of catalytic activity',\n",
       "       'intracellular membrane-bounded organelle', 'RNA processing',\n",
       "       'catalytic activity',\n",
       "       'positive regulation of nucleic acid-templated transcription',\n",
       "       'vesicle-mediated transport', 'metabolic process',\n",
       "       'transition metal ion binding',\n",
       "       'positive regulation of gene expression', 'signal transduction',\n",
       "       'organelle membrane', 'regulation of gene expression',\n",
       "       'purine nucleotide binding', 'extracellular space',\n",
       "       'cell differentiation'], dtype=object)"
      ]
     },
     "execution_count": 9,
     "metadata": {},
     "output_type": "execute_result"
    }
   ],
   "source": [
    "df10['Function'].unique()"
   ]
  },
  {
   "cell_type": "code",
   "execution_count": 10,
   "metadata": {},
   "outputs": [
    {
     "data": {
      "text/plain": [
       "0      P23004(Evidence code:IEA/Database source:UniPr...\n",
       "1      P23004(Evidence code:IEA/Database source:UniPr...\n",
       "2      P13184(Evidence code:IEA/Database source:UniPr...\n",
       "3      Q3SZI8(Evidence code:IEA/Database source:Inter...\n",
       "4      Q5E9X4(Evidence code:IEA/Database source:UniPr...\n",
       "                             ...                        \n",
       "551    Q5E9X4(Evidence code:IEA/Database source:UniPr...\n",
       "552    Q3T147(Evidence code:IBA/Database source:PANTH...\n",
       "553    F1MDS3(Evidence code:IEA/Database source:Inter...\n",
       "554    Q2KIE5(Evidence code:IEA/Database source:UniPr...\n",
       "555    Q0VD32(Evidence code:IEA/Database source:UniPr...\n",
       "Name: Proteins, Length: 556, dtype: object"
      ]
     },
     "execution_count": 10,
     "metadata": {},
     "output_type": "execute_result"
    }
   ],
   "source": [
    "df10['Proteins']"
   ]
  },
  {
   "cell_type": "code",
   "execution_count": 11,
   "metadata": {},
   "outputs": [
    {
     "data": {
      "text/plain": [
       "<seaborn.axisgrid.PairGrid at 0x1cdc8bcf850>"
      ]
     },
     "execution_count": 11,
     "metadata": {},
     "output_type": "execute_result"
    },
    {
     "data": {
      "image/png": "[encoded data removed]",
      "text/plain": [
       "<Figure size 900x900 with 30 Axes>"
      ]
     },
     "metadata": {
      "needs_background": "light"
     },
     "output_type": "display_data"
    }
   ],
   "source": [
    "sns.pairplot(data=df10)  "
   ]
  },
  {
   "cell_type": "code",
   "execution_count": 12,
   "metadata": {},
   "outputs": [],
   "source": [
    "#setting structure for graphs\n",
    "sns.set(style=\"whitegrid\",palette='muted',color_codes=True)"
   ]
  },
  {
   "cell_type": "code",
   "execution_count": 13,
   "metadata": {},
   "outputs": [
    {
     "name": "stderr",
     "output_type": "stream",
     "text": [
      "c:\\Users\\adity\\anaconda3\\lib\\site-packages\\seaborn\\distributions.py:2551: FutureWarning: `distplot` is a deprecated function and will be removed in a future version. Please adapt your code to use either `displot` (a figure-level function with similar flexibility) or `histplot` (an axes-level function for histograms).\n",
      "  warnings.warn(msg, FutureWarning)\n",
      "c:\\Users\\adity\\anaconda3\\lib\\site-packages\\seaborn\\_decorators.py:36: FutureWarning: Pass the following variable as a keyword arg: x. From version 0.12, the only valid positional argument will be `data`, and passing other arguments without an explicit keyword will result in an error or misinterpretation.\n",
      "  warnings.warn(\n"
     ]
    },
    {
     "data": {
      "image/png": "[encoded data removed]",
      "text/plain": [
       "<Figure size 864x432 with 2 Axes>"
      ]
     },
     "metadata": {},
     "output_type": "display_data"
    }
   ],
   "source": [
    "fig10, axes10 = plt.subplots(1,2, figsize=(12,6))\n",
    "sns.distplot(x=df10['Count of protein'],kde=True,ax=axes10[0])\n",
    "sns.boxplot(df10['Count of protein'],color='b',ax=axes10[1])\n",
    "axes10[0].set_title('Ditribution of Count of proteins')\n",
    "axes10[1].set_title('Count of proteins range')\n",
    "plt.show()"
   ]
  },
  {
   "cell_type": "code",
   "execution_count": 14,
   "metadata": {},
   "outputs": [
    {
     "name": "stderr",
     "output_type": "stream",
     "text": [
      "c:\\Users\\adity\\anaconda3\\lib\\site-packages\\seaborn\\distributions.py:2551: FutureWarning: `distplot` is a deprecated function and will be removed in a future version. Please adapt your code to use either `displot` (a figure-level function with similar flexibility) or `histplot` (an axes-level function for histograms).\n",
      "  warnings.warn(msg, FutureWarning)\n",
      "c:\\Users\\adity\\anaconda3\\lib\\site-packages\\seaborn\\_decorators.py:36: FutureWarning: Pass the following variable as a keyword arg: x. From version 0.12, the only valid positional argument will be `data`, and passing other arguments without an explicit keyword will result in an error or misinterpretation.\n",
      "  warnings.warn(\n"
     ]
    },
    {
     "data": {
      "image/png": "[encoded data removed]",
      "text/plain": [
       "<Figure size 864x432 with 2 Axes>"
      ]
     },
     "metadata": {},
     "output_type": "display_data"
    }
   ],
   "source": [
    "fig10, axes10 = plt.subplots(1,2, figsize=(12,6))\n",
    "sns.distplot(x=df10['GO frequency within the dataset (%)'],kde=True,ax=axes10[0])\n",
    "sns.boxplot(df10['GO frequency within the dataset (%)'],color='b',ax=axes10[1])\n",
    "axes10[0].set_title('Ditribution of GO frequency within the dataset (%)')\n",
    "axes10[1].set_title('GO frequency within the dataset (%) range')\n",
    "plt.show()"
   ]
  },
  {
   "cell_type": "code",
   "execution_count": 15,
   "metadata": {},
   "outputs": [
    {
     "name": "stderr",
     "output_type": "stream",
     "text": [
      "c:\\Users\\adity\\anaconda3\\lib\\site-packages\\seaborn\\distributions.py:2551: FutureWarning: `distplot` is a deprecated function and will be removed in a future version. Please adapt your code to use either `displot` (a figure-level function with similar flexibility) or `histplot` (an axes-level function for histograms).\n",
      "  warnings.warn(msg, FutureWarning)\n",
      "c:\\Users\\adity\\anaconda3\\lib\\site-packages\\seaborn\\_decorators.py:36: FutureWarning: Pass the following variable as a keyword arg: x. From version 0.12, the only valid positional argument will be `data`, and passing other arguments without an explicit keyword will result in an error or misinterpretation.\n",
      "  warnings.warn(\n"
     ]
    },
    {
     "data": {
      "image/png": "[encoded data removed]",
      "text/plain": [
       "<Figure size 864x432 with 2 Axes>"
      ]
     },
     "metadata": {},
     "output_type": "display_data"
    }
   ],
   "source": [
    "fig10, axes10 = plt.subplots(1,2, figsize=(12,6))\n",
    "sns.distplot(x=df10['GO frequency within the genome (%)'],kde=True,ax=axes10[0])\n",
    "sns.boxplot(df10['GO frequency within the genome (%)'],color='b',ax=axes10[1])\n",
    "axes10[0].set_title('Ditribution of GO frequency within the genome (%)')\n",
    "axes10[1].set_title('GO frequency within the genome (%) range')\n",
    "plt.show()"
   ]
  },
  {
   "cell_type": "code",
   "execution_count": 16,
   "metadata": {},
   "outputs": [
    {
     "data": {
      "text/html": [
       "<div>\n",
       "<style scoped>\n",
       "    .dataframe tbody tr th:only-of-type {\n",
       "        vertical-align: middle;\n",
       "    }\n",
       "\n",
       "    .dataframe tbody tr th {\n",
       "        vertical-align: top;\n",
       "    }\n",
       "\n",
       "    .dataframe thead th {\n",
       "        text-align: right;\n",
       "    }\n",
       "</style>\n",
       "<table border=\"1\" class=\"dataframe\">\n",
       "  <thead>\n",
       "    <tr style=\"text-align: right;\">\n",
       "      <th></th>\n",
       "      <th>Count of protein</th>\n",
       "      <th>GO frequency within the dataset (%)</th>\n",
       "      <th>GO frequency within the genome (%)</th>\n",
       "      <th>P-Value</th>\n",
       "      <th>P-Values_BH</th>\n",
       "    </tr>\n",
       "  </thead>\n",
       "  <tbody>\n",
       "    <tr>\n",
       "      <th>Count of protein</th>\n",
       "      <td>1.000000</td>\n",
       "      <td>1.000000</td>\n",
       "      <td>-0.132006</td>\n",
       "      <td>-0.103379</td>\n",
       "      <td>-0.129390</td>\n",
       "    </tr>\n",
       "    <tr>\n",
       "      <th>GO frequency within the dataset (%)</th>\n",
       "      <td>1.000000</td>\n",
       "      <td>1.000000</td>\n",
       "      <td>-0.132113</td>\n",
       "      <td>-0.103404</td>\n",
       "      <td>-0.129420</td>\n",
       "    </tr>\n",
       "    <tr>\n",
       "      <th>GO frequency within the genome (%)</th>\n",
       "      <td>-0.132006</td>\n",
       "      <td>-0.132113</td>\n",
       "      <td>1.000000</td>\n",
       "      <td>-0.337190</td>\n",
       "      <td>-0.348483</td>\n",
       "    </tr>\n",
       "    <tr>\n",
       "      <th>P-Value</th>\n",
       "      <td>-0.103379</td>\n",
       "      <td>-0.103404</td>\n",
       "      <td>-0.337190</td>\n",
       "      <td>1.000000</td>\n",
       "      <td>0.998497</td>\n",
       "    </tr>\n",
       "    <tr>\n",
       "      <th>P-Values_BH</th>\n",
       "      <td>-0.129390</td>\n",
       "      <td>-0.129420</td>\n",
       "      <td>-0.348483</td>\n",
       "      <td>0.998497</td>\n",
       "      <td>1.000000</td>\n",
       "    </tr>\n",
       "  </tbody>\n",
       "</table>\n",
       "</div>"
      ],
      "text/plain": [
       "                                     Count of protein  \\\n",
       "Count of protein                             1.000000   \n",
       "GO frequency within the dataset (%)          1.000000   \n",
       "GO frequency within the genome (%)          -0.132006   \n",
       "P-Value                                     -0.103379   \n",
       "P-Values_BH                                 -0.129390   \n",
       "\n",
       "                                     GO frequency within the dataset (%)  \\\n",
       "Count of protein                                                1.000000   \n",
       "GO frequency within the dataset (%)                             1.000000   \n",
       "GO frequency within the genome (%)                             -0.132113   \n",
       "P-Value                                                        -0.103404   \n",
       "P-Values_BH                                                    -0.129420   \n",
       "\n",
       "                                     GO frequency within the genome (%)  \\\n",
       "Count of protein                                              -0.132006   \n",
       "GO frequency within the dataset (%)                           -0.132113   \n",
       "GO frequency within the genome (%)                             1.000000   \n",
       "P-Value                                                       -0.337190   \n",
       "P-Values_BH                                                   -0.348483   \n",
       "\n",
       "                                      P-Value  P-Values_BH  \n",
       "Count of protein                    -0.103379    -0.129390  \n",
       "GO frequency within the dataset (%) -0.103404    -0.129420  \n",
       "GO frequency within the genome (%)  -0.337190    -0.348483  \n",
       "P-Value                              1.000000     0.998497  \n",
       "P-Values_BH                          0.998497     1.000000  "
      ]
     },
     "execution_count": 16,
     "metadata": {},
     "output_type": "execute_result"
    }
   ],
   "source": [
    "df10.corr()"
   ]
  },
  {
   "cell_type": "code",
   "execution_count": 17,
   "metadata": {},
   "outputs": [
    {
     "data": {
      "text/plain": [
       "<AxesSubplot:>"
      ]
     },
     "execution_count": 17,
     "metadata": {},
     "output_type": "execute_result"
    },
    {
     "data": {
      "image/png": "[encoded data removed]",
      "text/plain": [
       "<Figure size 432x288 with 2 Axes>"
      ]
     },
     "metadata": {},
     "output_type": "display_data"
    }
   ],
   "source": [
    "sns.heatmap(df10.corr(),annot=True)"
   ]
  },
  {
   "cell_type": "code",
   "execution_count": 18,
   "metadata": {},
   "outputs": [
    {
     "name": "stdout",
     "output_type": "stream",
     "text": [
      "GO frequency within the dataset (%) : skewness %f 8.072352311638557\n",
      "GO frequency within the dataset (%) : kurtosis %f 83.6501159472851\n",
      "Count of protein : skewness %f 8.07501367297927\n",
      "Count of protein : kurtosis %f 83.68948872551445\n",
      "GO frequency within the genome (%) : skewness %f 1.6772592103481616\n",
      "GO frequency within the genome (%) : kurtosis %f 1.497416580152326\n"
     ]
    }
   ],
   "source": [
    "print(\"GO frequency within the dataset (%) : skewness %f\",df10['GO frequency within the dataset (%)'].skew())\n",
    "print(\"GO frequency within the dataset (%) : kurtosis %f\",df10['GO frequency within the dataset (%)'].kurt())\n",
    "print(\"Count of protein : skewness %f\",df10['Count of protein'].skew())\n",
    "print(\"Count of protein : kurtosis %f\",df10['Count of protein'].kurt())\n",
    "print(\"GO frequency within the genome (%) : skewness %f\",df10['GO frequency within the genome (%)'].skew())\n",
    "print(\"GO frequency within the genome (%) : kurtosis %f\",df10['GO frequency within the genome (%)'].kurt())"
   ]
  },
  {
   "cell_type": "code",
   "execution_count": 19,
   "metadata": {},
   "outputs": [],
   "source": [
    "df10.drop(columns=['GO','Function','Gene Name','Ontology group','Number of proteins detected within the genome','P-Value','P-Values_BH'],inplace=True)"
   ]
  },
  {
   "cell_type": "code",
   "execution_count": 20,
   "metadata": {},
   "outputs": [
    {
     "name": "stdout",
     "output_type": "stream",
     "text": [
      "<class 'pandas.core.frame.DataFrame'>\n",
      "RangeIndex: 556 entries, 0 to 555\n",
      "Data columns (total 4 columns):\n",
      " #   Column                               Non-Null Count  Dtype  \n",
      "---  ------                               --------------  -----  \n",
      " 0   Proteins                             556 non-null    object \n",
      " 1   Count of protein                     556 non-null    int64  \n",
      " 2   GO frequency within the dataset (%)  556 non-null    float64\n",
      " 3   GO frequency within the genome (%)   556 non-null    float64\n",
      "dtypes: float64(2), int64(1), object(1)\n",
      "memory usage: 17.5+ KB\n"
     ]
    }
   ],
   "source": [
    "df10.info()"
   ]
  },
  {
   "cell_type": "code",
   "execution_count": 21,
   "metadata": {},
   "outputs": [],
   "source": [
    "from sklearn.model_selection import train_test_split"
   ]
  },
  {
   "cell_type": "code",
   "execution_count": 22,
   "metadata": {},
   "outputs": [],
   "source": [
    "x = (df10['Count of protein']).to_numpy()\n",
    "y = (df10['GO frequency within the genome (%)']).to_numpy()"
   ]
  },
  {
   "cell_type": "code",
   "execution_count": 23,
   "metadata": {},
   "outputs": [],
   "source": [
    "from sklearn.preprocessing import MinMaxScaler\n",
    "s= MinMaxScaler(feature_range=(0,1))"
   ]
  },
  {
   "cell_type": "code",
   "execution_count": 24,
   "metadata": {},
   "outputs": [],
   "source": [
    "x_new =s.fit_transform(x.reshape(-1,1))\n",
    "y_new=s.fit_transform(y.reshape(-1,1))"
   ]
  },
  {
   "cell_type": "code",
   "execution_count": 25,
   "metadata": {},
   "outputs": [],
   "source": [
    "X_train, X_test, y_train, y_test = train_test_split(x_new,y_new, test_size=0.33, random_state=100)"
   ]
  },
  {
   "cell_type": "code",
   "execution_count": 26,
   "metadata": {},
   "outputs": [],
   "source": [
    "from sklearn.ensemble import ExtraTreesRegressor\n",
    "reg = ExtraTreesRegressor()"
   ]
  },
  {
   "cell_type": "code",
   "execution_count": 27,
   "metadata": {},
   "outputs": [
    {
     "name": "stderr",
     "output_type": "stream",
     "text": [
      "<ipython-input-27-76dcf3f49433>:1: DataConversionWarning: A column-vector y was passed when a 1d array was expected. Please change the shape of y to (n_samples,), for example using ravel().\n",
      "  reg.fit(X_train,y_train)\n"
     ]
    },
    {
     "data": {
      "text/plain": [
       "ExtraTreesRegressor()"
      ]
     },
     "execution_count": 27,
     "metadata": {},
     "output_type": "execute_result"
    }
   ],
   "source": [
    "reg.fit(X_train,y_train)"
   ]
  },
  {
   "cell_type": "code",
   "execution_count": 28,
   "metadata": {},
   "outputs": [],
   "source": [
    "from sklearn.tree import DecisionTreeRegressor"
   ]
  },
  {
   "cell_type": "code",
   "execution_count": 29,
   "metadata": {},
   "outputs": [
    {
     "data": {
      "text/plain": [
       "DecisionTreeRegressor()"
      ]
     },
     "execution_count": 29,
     "metadata": {},
     "output_type": "execute_result"
    }
   ],
   "source": [
    "reg_model = DecisionTreeRegressor()\n",
    "reg_model.fit(X_train,y_train)"
   ]
  },
  {
   "cell_type": "code",
   "execution_count": 30,
   "metadata": {},
   "outputs": [
    {
     "name": "stdout",
     "output_type": "stream",
     "text": [
      "0.07338470715331225\n",
      "0.05940398356286258\n"
     ]
    }
   ],
   "source": [
    "print(reg_model.score(X_train,y_train))\n",
    "print(reg_model.score(X_test,y_test))"
   ]
  },
  {
   "cell_type": "code",
   "execution_count": 31,
   "metadata": {},
   "outputs": [],
   "source": [
    "prediction = reg_model.predict(X_test)"
   ]
  },
  {
   "cell_type": "code",
   "execution_count": 32,
   "metadata": {},
   "outputs": [
    {
     "name": "stderr",
     "output_type": "stream",
     "text": [
      "c:\\Users\\adity\\anaconda3\\lib\\site-packages\\seaborn\\distributions.py:2551: FutureWarning: `distplot` is a deprecated function and will be removed in a future version. Please adapt your code to use either `displot` (a figure-level function with similar flexibility) or `histplot` (an axes-level function for histograms).\n",
      "  warnings.warn(msg, FutureWarning)\n"
     ]
    },
    {
     "data": {
      "text/plain": [
       "<AxesSubplot:ylabel='Density'>"
      ]
     },
     "execution_count": 32,
     "metadata": {},
     "output_type": "execute_result"
    },
    {
     "data": {
      "image/png": "[encoded data removed]",
      "text/plain": [
       "<Figure size 432x288 with 1 Axes>"
      ]
     },
     "metadata": {},
     "output_type": "display_data"
    }
   ],
   "source": [
    "sns.distplot(y_test-prediction)"
   ]
  },
  {
   "cell_type": "code",
   "execution_count": 33,
   "metadata": {},
   "outputs": [],
   "source": [
    "parameters={\"splitter\":[\"best\",\"random\"],\n",
    "            \"max_depth\" : [1,3,5,7,9,11,12],\n",
    "           \"min_samples_leaf\":[1,2,3,4,5,6,7,8,9,10],\n",
    "           \"min_weight_fraction_leaf\":[0.1,0.2,0.3,0.4,0.5,0.6,0.7,0.8,0.9],\n",
    "           \"max_features\":[\"auto\",\"log2\",\"sqrt\",None],\n",
    "           \"max_leaf_nodes\":[None,10,20,30,40,50,60,70,80,90] }"
   ]
  },
  {
   "cell_type": "code",
   "execution_count": 34,
   "metadata": {},
   "outputs": [],
   "source": [
    "from sklearn.model_selection import GridSearchCV"
   ]
  },
  {
   "cell_type": "code",
   "execution_count": 35,
   "metadata": {},
   "outputs": [],
   "source": [
    "tuning_model=GridSearchCV(reg_model,param_grid=parameters,scoring='neg_mean_squared_error',cv=3,verbose=3)"
   ]
  },
  {
   "cell_type": "code",
   "execution_count": 36,
   "metadata": {},
   "outputs": [],
   "source": [
    "def timer(start_time=None):\n",
    "    if not start_time:\n",
    "        start_time=datetime.now()\n",
    "        return start_time\n",
    "    elif start_time:\n",
    "        thour,temp_sec=divmod((datetime.now()-start_time).total_seconds(),3600)\n",
    "        tmin,tsec=divmod(temp_sec,60)\n",
    "        #print(thour,\":\",tmin,':',round(tsec,2))"
   ]
  },
  {
   "cell_type": "code",
   "execution_count": 37,
   "metadata": {},
   "outputs": [],
   "source": [
    "# got the best tunned prediction from the above hyperparameter tuning \n",
    "tuned_hyper_model= DecisionTreeRegressor(\n",
    " max_depth= 1,\n",
    " max_features= 'auto',\n",
    " max_leaf_nodes= None,\n",
    " min_samples_leaf= 1,\n",
    " min_weight_fraction_leaf= 0.1,\n",
    " splitter= 'random')\n",
    " "
   ]
  },
  {
   "cell_type": "code",
   "execution_count": 38,
   "metadata": {},
   "outputs": [],
   "source": [
    "tuned_hyper_model.fit(X_train,y_train)\n",
    "tuned_pred=tuned_hyper_model.predict(X_test)"
   ]
  },
  {
   "cell_type": "code",
   "execution_count": 39,
   "metadata": {},
   "outputs": [
    {
     "data": {
      "text/plain": [
       "<matplotlib.collections.PathCollection at 0x1cdcdef9460>"
      ]
     },
     "execution_count": 39,
     "metadata": {},
     "output_type": "execute_result"
    },
    {
     "data": {
      "image/png": "[encoded data removed]",
      "text/plain": [
       "<Figure size 432x288 with 1 Axes>"
      ]
     },
     "metadata": {},
     "output_type": "display_data"
    }
   ],
   "source": [
    "plt.scatter(y_test,tuned_pred)"
   ]
  },
  {
   "cell_type": "code",
   "execution_count": 40,
   "metadata": {},
   "outputs": [],
   "source": [
    "from sklearn import metrics"
   ]
  },
  {
   "cell_type": "code",
   "execution_count": 41,
   "metadata": {},
   "outputs": [
    {
     "name": "stdout",
     "output_type": "stream",
     "text": [
      "MAE: 0.23877849968513132\n",
      "MSE: 0.09886601414406332\n",
      "RMSE: 0.31442966486014534\n"
     ]
    }
   ],
   "source": [
    "print('MAE:', metrics.mean_absolute_error(y_test,tuned_pred))\n",
    "print('MSE:', metrics.mean_squared_error(y_test, tuned_pred))\n",
    "print('RMSE:', np.sqrt(metrics.mean_squared_error(y_test, tuned_pred)))"
   ]
  },
  {
   "cell_type": "code",
   "execution_count": null,
   "metadata": {},
   "outputs": [],
   "source": []
  },
  {
   "cell_type": "code",
   "execution_count": null,
   "metadata": {},
   "outputs": [],
   "source": []
  }
 ],
 "metadata": {
  "kernelspec": {
   "display_name": "Python 3.8.5",
   "language": "python",
   "name": "python3"
  },
  "language_info": {
   "codemirror_mode": {
    "name": "ipython",
    "version": 3
   },
   "file_extension": ".py",
   "mimetype": "text/x-python",
   "name": "python",
   "nbconvert_exporter": "python",
   "pygments_lexer": "ipython3",
   "version": "3.8.5"
  },
  "orig_nbformat": 4,
  "vscode": {
   "interpreter": {
    "hash": "8891f3cfb547db503e78f25128202364d60f1c09259e140a1bd236c27b0b7a43"
   }
  }
 },
 "nbformat": 4,
 "nbformat_minor": 2
}
