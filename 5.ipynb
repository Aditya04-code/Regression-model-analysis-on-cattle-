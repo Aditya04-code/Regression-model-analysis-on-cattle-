{
 "cells": [
  {
   "cell_type": "code",
   "execution_count": 1,
   "metadata": {},
   "outputs": [],
   "source": [
    "import numpy as np\n",
    "import pandas as pd\n",
    "import seaborn as sns\n",
    "import matplotlib.pyplot as plt"
   ]
  },
  {
   "cell_type": "code",
   "execution_count": 2,
   "metadata": {},
   "outputs": [],
   "source": [
    "#setting structure for graphs\n",
    "sns.set(style=\"whitegrid\",palette='muted',color_codes=True)"
   ]
  },
  {
   "cell_type": "code",
   "execution_count": 3,
   "metadata": {},
   "outputs": [],
   "source": [
    "df5=pd.read_csv('./DF5.csv')"
   ]
  },
  {
   "cell_type": "code",
   "execution_count": 4,
   "metadata": {},
   "outputs": [
    {
     "data": {
      "text/html": [
       "<div>\n",
       "<style scoped>\n",
       "    .dataframe tbody tr th:only-of-type {\n",
       "        vertical-align: middle;\n",
       "    }\n",
       "\n",
       "    .dataframe tbody tr th {\n",
       "        vertical-align: top;\n",
       "    }\n",
       "\n",
       "    .dataframe thead th {\n",
       "        text-align: right;\n",
       "    }\n",
       "</style>\n",
       "<table border=\"1\" class=\"dataframe\">\n",
       "  <thead>\n",
       "    <tr style=\"text-align: right;\">\n",
       "      <th></th>\n",
       "      <th>GO</th>\n",
       "      <th>Function</th>\n",
       "      <th>Proteins</th>\n",
       "      <th>Gene Name</th>\n",
       "      <th>Ontology group</th>\n",
       "      <th>Count of protein</th>\n",
       "      <th>Number of proteins detected within the genome</th>\n",
       "      <th>GO frequency within the dataset (%)</th>\n",
       "      <th>GO frequency within the genome (%)</th>\n",
       "      <th>P-Value</th>\n",
       "      <th>P-Values_BH</th>\n",
       "    </tr>\n",
       "  </thead>\n",
       "  <tbody>\n",
       "    <tr>\n",
       "      <th>0</th>\n",
       "      <td>GO:0005576</td>\n",
       "      <td>extracellular region</td>\n",
       "      <td>P01044(Evidence code:IEA/Database source:UniPr...</td>\n",
       "      <td>KNG1 HPX GP2 GC A1BG A2M DAG1 TTR PLG APOA4 B...</td>\n",
       "      <td>CC</td>\n",
       "      <td>70</td>\n",
       "      <td>70 of 300</td>\n",
       "      <td>69.31</td>\n",
       "      <td>23.33</td>\n",
       "      <td>2.107000e-91</td>\n",
       "      <td>1.397000e-88</td>\n",
       "    </tr>\n",
       "    <tr>\n",
       "      <th>1</th>\n",
       "      <td>GO:0005615</td>\n",
       "      <td>extracellular space</td>\n",
       "      <td>A6QPP2(Evidence code:IEA/Database source:Inter...</td>\n",
       "      <td>SERPIND1 CLEC3B CHI3L1 SERPINB1 C3 C1S DAG1 L...</td>\n",
       "      <td>CC</td>\n",
       "      <td>50</td>\n",
       "      <td>50 of 426</td>\n",
       "      <td>49.50</td>\n",
       "      <td>11.74</td>\n",
       "      <td>6.354000e-54</td>\n",
       "      <td>2.106000e-51</td>\n",
       "    </tr>\n",
       "    <tr>\n",
       "      <th>2</th>\n",
       "      <td>GO:0010951</td>\n",
       "      <td>negative regulation of endopeptidase activity</td>\n",
       "      <td>G8JKW7(Evidence code:IEA/Database source:GO:00...</td>\n",
       "      <td>SERPINA3 SERPINB1 SERPINC1 SERPINF1 KNG2 SERP...</td>\n",
       "      <td>BP</td>\n",
       "      <td>14</td>\n",
       "      <td>14 of 31</td>\n",
       "      <td>13.86</td>\n",
       "      <td>45.16</td>\n",
       "      <td>3.297000e-24</td>\n",
       "      <td>7.286000e-22</td>\n",
       "    </tr>\n",
       "    <tr>\n",
       "      <th>3</th>\n",
       "      <td>GO:0045087</td>\n",
       "      <td>innate immune response</td>\n",
       "      <td>Q28085(Evidence code:IEA/Database source:UniPr...</td>\n",
       "      <td>CFH LBP C1S FGB C3 C9 C6 FGA PGLYRP1 IGJ C7 C...</td>\n",
       "      <td>BP</td>\n",
       "      <td>14</td>\n",
       "      <td>14 of 131</td>\n",
       "      <td>13.86</td>\n",
       "      <td>10.69</td>\n",
       "      <td>1.543000e-16</td>\n",
       "      <td>2.557000e-14</td>\n",
       "    </tr>\n",
       "    <tr>\n",
       "      <th>4</th>\n",
       "      <td>GO:0010466</td>\n",
       "      <td>negative regulation of peptidase activity</td>\n",
       "      <td>P02666(Evidence code:IEA/Database source:UniPr...</td>\n",
       "      <td>CSN2 SERPINF2 SERPINB1 A2M KNG2 KNG1 ITIH1 SE...</td>\n",
       "      <td>BP</td>\n",
       "      <td>10</td>\n",
       "      <td>10 of 32</td>\n",
       "      <td>9.90</td>\n",
       "      <td>31.25</td>\n",
       "      <td>1.942000e-16</td>\n",
       "      <td>2.576000e-14</td>\n",
       "    </tr>\n",
       "  </tbody>\n",
       "</table>\n",
       "</div>"
      ],
      "text/plain": [
       "           GO                                       Function  \\\n",
       "0  GO:0005576                           extracellular region   \n",
       "1  GO:0005615                            extracellular space   \n",
       "2  GO:0010951  negative regulation of endopeptidase activity   \n",
       "3  GO:0045087                         innate immune response   \n",
       "4  GO:0010466      negative regulation of peptidase activity   \n",
       "\n",
       "                                            Proteins  \\\n",
       "0  P01044(Evidence code:IEA/Database source:UniPr...   \n",
       "1  A6QPP2(Evidence code:IEA/Database source:Inter...   \n",
       "2  G8JKW7(Evidence code:IEA/Database source:GO:00...   \n",
       "3  Q28085(Evidence code:IEA/Database source:UniPr...   \n",
       "4  P02666(Evidence code:IEA/Database source:UniPr...   \n",
       "\n",
       "                                           Gene Name Ontology group  \\\n",
       "0   KNG1 HPX GP2 GC A1BG A2M DAG1 TTR PLG APOA4 B...             CC   \n",
       "1   SERPIND1 CLEC3B CHI3L1 SERPINB1 C3 C1S DAG1 L...             CC   \n",
       "2   SERPINA3 SERPINB1 SERPINC1 SERPINF1 KNG2 SERP...             BP   \n",
       "3   CFH LBP C1S FGB C3 C9 C6 FGA PGLYRP1 IGJ C7 C...             BP   \n",
       "4   CSN2 SERPINF2 SERPINB1 A2M KNG2 KNG1 ITIH1 SE...             BP   \n",
       "\n",
       "   Count of protein Number of proteins detected within the genome  \\\n",
       "0                70                                     70 of 300   \n",
       "1                50                                     50 of 426   \n",
       "2                14                                      14 of 31   \n",
       "3                14                                     14 of 131   \n",
       "4                10                                      10 of 32   \n",
       "\n",
       "   GO frequency within the dataset (%)  GO frequency within the genome (%)  \\\n",
       "0                                69.31                               23.33   \n",
       "1                                49.50                               11.74   \n",
       "2                                13.86                               45.16   \n",
       "3                                13.86                               10.69   \n",
       "4                                 9.90                               31.25   \n",
       "\n",
       "        P-Value   P-Values_BH  \n",
       "0  2.107000e-91  1.397000e-88  \n",
       "1  6.354000e-54  2.106000e-51  \n",
       "2  3.297000e-24  7.286000e-22  \n",
       "3  1.543000e-16  2.557000e-14  \n",
       "4  1.942000e-16  2.576000e-14  "
      ]
     },
     "execution_count": 4,
     "metadata": {},
     "output_type": "execute_result"
    }
   ],
   "source": [
    "df5.head()"
   ]
  },
  {
   "cell_type": "code",
   "execution_count": 5,
   "metadata": {},
   "outputs": [
    {
     "data": {
      "text/html": [
       "<div>\n",
       "<style scoped>\n",
       "    .dataframe tbody tr th:only-of-type {\n",
       "        vertical-align: middle;\n",
       "    }\n",
       "\n",
       "    .dataframe tbody tr th {\n",
       "        vertical-align: top;\n",
       "    }\n",
       "\n",
       "    .dataframe thead th {\n",
       "        text-align: right;\n",
       "    }\n",
       "</style>\n",
       "<table border=\"1\" class=\"dataframe\">\n",
       "  <thead>\n",
       "    <tr style=\"text-align: right;\">\n",
       "      <th></th>\n",
       "      <th>GO</th>\n",
       "      <th>Function</th>\n",
       "      <th>Proteins</th>\n",
       "      <th>Gene Name</th>\n",
       "      <th>Ontology group</th>\n",
       "      <th>Count of protein</th>\n",
       "      <th>Number of proteins detected within the genome</th>\n",
       "      <th>GO frequency within the dataset (%)</th>\n",
       "      <th>GO frequency within the genome (%)</th>\n",
       "      <th>P-Value</th>\n",
       "      <th>P-Values_BH</th>\n",
       "    </tr>\n",
       "  </thead>\n",
       "  <tbody>\n",
       "    <tr>\n",
       "      <th>658</th>\n",
       "      <td>GO:0016740</td>\n",
       "      <td>transferase activity</td>\n",
       "      <td>P08037(Evidence code:IEA/Database source:UniPr...</td>\n",
       "      <td>B4GALT1 NME2</td>\n",
       "      <td>MF</td>\n",
       "      <td>2</td>\n",
       "      <td>2 of 633</td>\n",
       "      <td>1.98</td>\n",
       "      <td>0.32</td>\n",
       "      <td>1.0</td>\n",
       "      <td>1.0</td>\n",
       "    </tr>\n",
       "    <tr>\n",
       "      <th>659</th>\n",
       "      <td>GO:0051246</td>\n",
       "      <td>regulation of protein metabolic process</td>\n",
       "      <td>Q3SZV7(Evidence code:IEA/Database source:UniPr...</td>\n",
       "      <td>HPX</td>\n",
       "      <td>BP</td>\n",
       "      <td>1</td>\n",
       "      <td>1 of 576</td>\n",
       "      <td>0.99</td>\n",
       "      <td>0.17</td>\n",
       "      <td>1.0</td>\n",
       "      <td>1.0</td>\n",
       "    </tr>\n",
       "    <tr>\n",
       "      <th>660</th>\n",
       "      <td>GO:0050790</td>\n",
       "      <td>regulation of catalytic activity</td>\n",
       "      <td>P07688(Evidence code:IEA/Database source:Inter...</td>\n",
       "      <td>CTSB</td>\n",
       "      <td>BP</td>\n",
       "      <td>1</td>\n",
       "      <td>1 of 388</td>\n",
       "      <td>0.99</td>\n",
       "      <td>0.26</td>\n",
       "      <td>1.0</td>\n",
       "      <td>1.0</td>\n",
       "    </tr>\n",
       "    <tr>\n",
       "      <th>661</th>\n",
       "      <td>GO:0015031</td>\n",
       "      <td>protein transport</td>\n",
       "      <td>Q32KV6(Evidence code:IEA/Database source:UniPr...</td>\n",
       "      <td>SIL1</td>\n",
       "      <td>BP</td>\n",
       "      <td>1</td>\n",
       "      <td>1 of 394</td>\n",
       "      <td>0.99</td>\n",
       "      <td>0.25</td>\n",
       "      <td>1.0</td>\n",
       "      <td>1.0</td>\n",
       "    </tr>\n",
       "    <tr>\n",
       "      <th>662</th>\n",
       "      <td>GO:0042981</td>\n",
       "      <td>regulation of apoptotic process</td>\n",
       "      <td>Q3T0Q4(Evidence code:IBA/Database source:PANTH...</td>\n",
       "      <td>NME2</td>\n",
       "      <td>BP</td>\n",
       "      <td>1</td>\n",
       "      <td>1 of 317</td>\n",
       "      <td>0.99</td>\n",
       "      <td>0.32</td>\n",
       "      <td>1.0</td>\n",
       "      <td>1.0</td>\n",
       "    </tr>\n",
       "  </tbody>\n",
       "</table>\n",
       "</div>"
      ],
      "text/plain": [
       "             GO                                 Function  \\\n",
       "658  GO:0016740                     transferase activity   \n",
       "659  GO:0051246  regulation of protein metabolic process   \n",
       "660  GO:0050790         regulation of catalytic activity   \n",
       "661  GO:0015031                        protein transport   \n",
       "662  GO:0042981          regulation of apoptotic process   \n",
       "\n",
       "                                              Proteins      Gene Name  \\\n",
       "658  P08037(Evidence code:IEA/Database source:UniPr...   B4GALT1 NME2   \n",
       "659  Q3SZV7(Evidence code:IEA/Database source:UniPr...            HPX   \n",
       "660  P07688(Evidence code:IEA/Database source:Inter...           CTSB   \n",
       "661  Q32KV6(Evidence code:IEA/Database source:UniPr...           SIL1   \n",
       "662  Q3T0Q4(Evidence code:IBA/Database source:PANTH...           NME2   \n",
       "\n",
       "    Ontology group  Count of protein  \\\n",
       "658             MF                 2   \n",
       "659             BP                 1   \n",
       "660             BP                 1   \n",
       "661             BP                 1   \n",
       "662             BP                 1   \n",
       "\n",
       "    Number of proteins detected within the genome  \\\n",
       "658                                      2 of 633   \n",
       "659                                      1 of 576   \n",
       "660                                      1 of 388   \n",
       "661                                      1 of 394   \n",
       "662                                      1 of 317   \n",
       "\n",
       "     GO frequency within the dataset (%)  GO frequency within the genome (%)  \\\n",
       "658                                 1.98                                0.32   \n",
       "659                                 0.99                                0.17   \n",
       "660                                 0.99                                0.26   \n",
       "661                                 0.99                                0.25   \n",
       "662                                 0.99                                0.32   \n",
       "\n",
       "     P-Value  P-Values_BH  \n",
       "658      1.0          1.0  \n",
       "659      1.0          1.0  \n",
       "660      1.0          1.0  \n",
       "661      1.0          1.0  \n",
       "662      1.0          1.0  "
      ]
     },
     "execution_count": 5,
     "metadata": {},
     "output_type": "execute_result"
    }
   ],
   "source": [
    "df5.tail()"
   ]
  },
  {
   "cell_type": "code",
   "execution_count": 6,
   "metadata": {},
   "outputs": [
    {
     "data": {
      "text/plain": [
       "Index(['GO', 'Function', 'Proteins', 'Gene Name', 'Ontology group',\n",
       "       'Count of protein', 'Number of proteins detected within the genome',\n",
       "       'GO frequency within the dataset (%)',\n",
       "       'GO frequency within the genome (%)', 'P-Value', 'P-Values_BH'],\n",
       "      dtype='object')"
      ]
     },
     "execution_count": 6,
     "metadata": {},
     "output_type": "execute_result"
    }
   ],
   "source": [
    "df5.columns"
   ]
  },
  {
   "cell_type": "code",
   "execution_count": 7,
   "metadata": {},
   "outputs": [
    {
     "data": {
      "text/html": [
       "<div>\n",
       "<style scoped>\n",
       "    .dataframe tbody tr th:only-of-type {\n",
       "        vertical-align: middle;\n",
       "    }\n",
       "\n",
       "    .dataframe tbody tr th {\n",
       "        vertical-align: top;\n",
       "    }\n",
       "\n",
       "    .dataframe thead th {\n",
       "        text-align: right;\n",
       "    }\n",
       "</style>\n",
       "<table border=\"1\" class=\"dataframe\">\n",
       "  <thead>\n",
       "    <tr style=\"text-align: right;\">\n",
       "      <th></th>\n",
       "      <th>GO</th>\n",
       "      <th>Function</th>\n",
       "      <th>Proteins</th>\n",
       "      <th>Gene Name</th>\n",
       "      <th>Ontology group</th>\n",
       "      <th>Count of protein</th>\n",
       "      <th>Number of proteins detected within the genome</th>\n",
       "      <th>GO frequency within the dataset (%)</th>\n",
       "      <th>GO frequency within the genome (%)</th>\n",
       "      <th>P-Value</th>\n",
       "      <th>P-Values_BH</th>\n",
       "    </tr>\n",
       "  </thead>\n",
       "  <tbody>\n",
       "    <tr>\n",
       "      <th>0</th>\n",
       "      <td>False</td>\n",
       "      <td>False</td>\n",
       "      <td>False</td>\n",
       "      <td>False</td>\n",
       "      <td>False</td>\n",
       "      <td>False</td>\n",
       "      <td>False</td>\n",
       "      <td>False</td>\n",
       "      <td>False</td>\n",
       "      <td>False</td>\n",
       "      <td>False</td>\n",
       "    </tr>\n",
       "    <tr>\n",
       "      <th>1</th>\n",
       "      <td>False</td>\n",
       "      <td>False</td>\n",
       "      <td>False</td>\n",
       "      <td>False</td>\n",
       "      <td>False</td>\n",
       "      <td>False</td>\n",
       "      <td>False</td>\n",
       "      <td>False</td>\n",
       "      <td>False</td>\n",
       "      <td>False</td>\n",
       "      <td>False</td>\n",
       "    </tr>\n",
       "    <tr>\n",
       "      <th>2</th>\n",
       "      <td>False</td>\n",
       "      <td>False</td>\n",
       "      <td>False</td>\n",
       "      <td>False</td>\n",
       "      <td>False</td>\n",
       "      <td>False</td>\n",
       "      <td>False</td>\n",
       "      <td>False</td>\n",
       "      <td>False</td>\n",
       "      <td>False</td>\n",
       "      <td>False</td>\n",
       "    </tr>\n",
       "    <tr>\n",
       "      <th>3</th>\n",
       "      <td>False</td>\n",
       "      <td>False</td>\n",
       "      <td>False</td>\n",
       "      <td>False</td>\n",
       "      <td>False</td>\n",
       "      <td>False</td>\n",
       "      <td>False</td>\n",
       "      <td>False</td>\n",
       "      <td>False</td>\n",
       "      <td>False</td>\n",
       "      <td>False</td>\n",
       "    </tr>\n",
       "    <tr>\n",
       "      <th>4</th>\n",
       "      <td>False</td>\n",
       "      <td>False</td>\n",
       "      <td>False</td>\n",
       "      <td>False</td>\n",
       "      <td>False</td>\n",
       "      <td>False</td>\n",
       "      <td>False</td>\n",
       "      <td>False</td>\n",
       "      <td>False</td>\n",
       "      <td>False</td>\n",
       "      <td>False</td>\n",
       "    </tr>\n",
       "    <tr>\n",
       "      <th>...</th>\n",
       "      <td>...</td>\n",
       "      <td>...</td>\n",
       "      <td>...</td>\n",
       "      <td>...</td>\n",
       "      <td>...</td>\n",
       "      <td>...</td>\n",
       "      <td>...</td>\n",
       "      <td>...</td>\n",
       "      <td>...</td>\n",
       "      <td>...</td>\n",
       "      <td>...</td>\n",
       "    </tr>\n",
       "    <tr>\n",
       "      <th>658</th>\n",
       "      <td>False</td>\n",
       "      <td>False</td>\n",
       "      <td>False</td>\n",
       "      <td>False</td>\n",
       "      <td>False</td>\n",
       "      <td>False</td>\n",
       "      <td>False</td>\n",
       "      <td>False</td>\n",
       "      <td>False</td>\n",
       "      <td>False</td>\n",
       "      <td>False</td>\n",
       "    </tr>\n",
       "    <tr>\n",
       "      <th>659</th>\n",
       "      <td>False</td>\n",
       "      <td>False</td>\n",
       "      <td>False</td>\n",
       "      <td>False</td>\n",
       "      <td>False</td>\n",
       "      <td>False</td>\n",
       "      <td>False</td>\n",
       "      <td>False</td>\n",
       "      <td>False</td>\n",
       "      <td>False</td>\n",
       "      <td>False</td>\n",
       "    </tr>\n",
       "    <tr>\n",
       "      <th>660</th>\n",
       "      <td>False</td>\n",
       "      <td>False</td>\n",
       "      <td>False</td>\n",
       "      <td>False</td>\n",
       "      <td>False</td>\n",
       "      <td>False</td>\n",
       "      <td>False</td>\n",
       "      <td>False</td>\n",
       "      <td>False</td>\n",
       "      <td>False</td>\n",
       "      <td>False</td>\n",
       "    </tr>\n",
       "    <tr>\n",
       "      <th>661</th>\n",
       "      <td>False</td>\n",
       "      <td>False</td>\n",
       "      <td>False</td>\n",
       "      <td>False</td>\n",
       "      <td>False</td>\n",
       "      <td>False</td>\n",
       "      <td>False</td>\n",
       "      <td>False</td>\n",
       "      <td>False</td>\n",
       "      <td>False</td>\n",
       "      <td>False</td>\n",
       "    </tr>\n",
       "    <tr>\n",
       "      <th>662</th>\n",
       "      <td>False</td>\n",
       "      <td>False</td>\n",
       "      <td>False</td>\n",
       "      <td>False</td>\n",
       "      <td>False</td>\n",
       "      <td>False</td>\n",
       "      <td>False</td>\n",
       "      <td>False</td>\n",
       "      <td>False</td>\n",
       "      <td>False</td>\n",
       "      <td>False</td>\n",
       "    </tr>\n",
       "  </tbody>\n",
       "</table>\n",
       "<p>663 rows × 11 columns</p>\n",
       "</div>"
      ],
      "text/plain": [
       "        GO  Function  Proteins  Gene Name  Ontology group  Count of protein  \\\n",
       "0    False     False     False      False           False             False   \n",
       "1    False     False     False      False           False             False   \n",
       "2    False     False     False      False           False             False   \n",
       "3    False     False     False      False           False             False   \n",
       "4    False     False     False      False           False             False   \n",
       "..     ...       ...       ...        ...             ...               ...   \n",
       "658  False     False     False      False           False             False   \n",
       "659  False     False     False      False           False             False   \n",
       "660  False     False     False      False           False             False   \n",
       "661  False     False     False      False           False             False   \n",
       "662  False     False     False      False           False             False   \n",
       "\n",
       "     Number of proteins detected within the genome  \\\n",
       "0                                            False   \n",
       "1                                            False   \n",
       "2                                            False   \n",
       "3                                            False   \n",
       "4                                            False   \n",
       "..                                             ...   \n",
       "658                                          False   \n",
       "659                                          False   \n",
       "660                                          False   \n",
       "661                                          False   \n",
       "662                                          False   \n",
       "\n",
       "     GO frequency within the dataset (%)  GO frequency within the genome (%)  \\\n",
       "0                                  False                               False   \n",
       "1                                  False                               False   \n",
       "2                                  False                               False   \n",
       "3                                  False                               False   \n",
       "4                                  False                               False   \n",
       "..                                   ...                                 ...   \n",
       "658                                False                               False   \n",
       "659                                False                               False   \n",
       "660                                False                               False   \n",
       "661                                False                               False   \n",
       "662                                False                               False   \n",
       "\n",
       "     P-Value  P-Values_BH  \n",
       "0      False        False  \n",
       "1      False        False  \n",
       "2      False        False  \n",
       "3      False        False  \n",
       "4      False        False  \n",
       "..       ...          ...  \n",
       "658    False        False  \n",
       "659    False        False  \n",
       "660    False        False  \n",
       "661    False        False  \n",
       "662    False        False  \n",
       "\n",
       "[663 rows x 11 columns]"
      ]
     },
     "execution_count": 7,
     "metadata": {},
     "output_type": "execute_result"
    }
   ],
   "source": [
    "df5.isnull()"
   ]
  },
  {
   "cell_type": "code",
   "execution_count": 8,
   "metadata": {},
   "outputs": [
    {
     "name": "stdout",
     "output_type": "stream",
     "text": [
      "<class 'pandas.core.frame.DataFrame'>\n",
      "RangeIndex: 663 entries, 0 to 662\n",
      "Data columns (total 11 columns):\n",
      " #   Column                                         Non-Null Count  Dtype  \n",
      "---  ------                                         --------------  -----  \n",
      " 0   GO                                             663 non-null    object \n",
      " 1   Function                                       663 non-null    object \n",
      " 2   Proteins                                       663 non-null    object \n",
      " 3   Gene Name                                      663 non-null    object \n",
      " 4   Ontology group                                 663 non-null    object \n",
      " 5   Count of protein                               663 non-null    int64  \n",
      " 6   Number of proteins detected within the genome  663 non-null    object \n",
      " 7   GO frequency within the dataset (%)            663 non-null    float64\n",
      " 8   GO frequency within the genome (%)             663 non-null    float64\n",
      " 9   P-Value                                        663 non-null    float64\n",
      " 10  P-Values_BH                                    663 non-null    float64\n",
      "dtypes: float64(4), int64(1), object(6)\n",
      "memory usage: 57.1+ KB\n"
     ]
    }
   ],
   "source": [
    "df5.info()"
   ]
  },
  {
   "cell_type": "code",
   "execution_count": 9,
   "metadata": {},
   "outputs": [
    {
     "data": {
      "text/html": [
       "<div>\n",
       "<style scoped>\n",
       "    .dataframe tbody tr th:only-of-type {\n",
       "        vertical-align: middle;\n",
       "    }\n",
       "\n",
       "    .dataframe tbody tr th {\n",
       "        vertical-align: top;\n",
       "    }\n",
       "\n",
       "    .dataframe thead th {\n",
       "        text-align: right;\n",
       "    }\n",
       "</style>\n",
       "<table border=\"1\" class=\"dataframe\">\n",
       "  <thead>\n",
       "    <tr style=\"text-align: right;\">\n",
       "      <th></th>\n",
       "      <th>Count of protein</th>\n",
       "      <th>GO frequency within the dataset (%)</th>\n",
       "      <th>GO frequency within the genome (%)</th>\n",
       "      <th>P-Value</th>\n",
       "      <th>P-Values_BH</th>\n",
       "    </tr>\n",
       "  </thead>\n",
       "  <tbody>\n",
       "    <tr>\n",
       "      <th>count</th>\n",
       "      <td>663.000000</td>\n",
       "      <td>663.000000</td>\n",
       "      <td>663.000000</td>\n",
       "      <td>6.630000e+02</td>\n",
       "      <td>6.630000e+02</td>\n",
       "    </tr>\n",
       "    <tr>\n",
       "      <th>mean</th>\n",
       "      <td>2.085973</td>\n",
       "      <td>2.065128</td>\n",
       "      <td>26.575641</td>\n",
       "      <td>7.077529e-02</td>\n",
       "      <td>8.381362e-02</td>\n",
       "    </tr>\n",
       "    <tr>\n",
       "      <th>std</th>\n",
       "      <td>3.991702</td>\n",
       "      <td>3.952042</td>\n",
       "      <td>31.283200</td>\n",
       "      <td>1.480607e-01</td>\n",
       "      <td>1.492618e-01</td>\n",
       "    </tr>\n",
       "    <tr>\n",
       "      <th>min</th>\n",
       "      <td>1.000000</td>\n",
       "      <td>0.990000</td>\n",
       "      <td>0.100000</td>\n",
       "      <td>2.107000e-91</td>\n",
       "      <td>1.397000e-88</td>\n",
       "    </tr>\n",
       "    <tr>\n",
       "      <th>25%</th>\n",
       "      <td>1.000000</td>\n",
       "      <td>0.990000</td>\n",
       "      <td>3.700000</td>\n",
       "      <td>6.284000e-03</td>\n",
       "      <td>1.929000e-02</td>\n",
       "    </tr>\n",
       "    <tr>\n",
       "      <th>50%</th>\n",
       "      <td>1.000000</td>\n",
       "      <td>0.990000</td>\n",
       "      <td>12.500000</td>\n",
       "      <td>1.564000e-02</td>\n",
       "      <td>3.013000e-02</td>\n",
       "    </tr>\n",
       "    <tr>\n",
       "      <th>75%</th>\n",
       "      <td>2.000000</td>\n",
       "      <td>1.980000</td>\n",
       "      <td>33.330000</td>\n",
       "      <td>5.858500e-02</td>\n",
       "      <td>7.807500e-02</td>\n",
       "    </tr>\n",
       "    <tr>\n",
       "      <th>max</th>\n",
       "      <td>70.000000</td>\n",
       "      <td>69.310000</td>\n",
       "      <td>100.000000</td>\n",
       "      <td>1.000000e+00</td>\n",
       "      <td>1.000000e+00</td>\n",
       "    </tr>\n",
       "  </tbody>\n",
       "</table>\n",
       "</div>"
      ],
      "text/plain": [
       "       Count of protein  GO frequency within the dataset (%)  \\\n",
       "count        663.000000                           663.000000   \n",
       "mean           2.085973                             2.065128   \n",
       "std            3.991702                             3.952042   \n",
       "min            1.000000                             0.990000   \n",
       "25%            1.000000                             0.990000   \n",
       "50%            1.000000                             0.990000   \n",
       "75%            2.000000                             1.980000   \n",
       "max           70.000000                            69.310000   \n",
       "\n",
       "       GO frequency within the genome (%)       P-Value   P-Values_BH  \n",
       "count                          663.000000  6.630000e+02  6.630000e+02  \n",
       "mean                            26.575641  7.077529e-02  8.381362e-02  \n",
       "std                             31.283200  1.480607e-01  1.492618e-01  \n",
       "min                              0.100000  2.107000e-91  1.397000e-88  \n",
       "25%                              3.700000  6.284000e-03  1.929000e-02  \n",
       "50%                             12.500000  1.564000e-02  3.013000e-02  \n",
       "75%                             33.330000  5.858500e-02  7.807500e-02  \n",
       "max                            100.000000  1.000000e+00  1.000000e+00  "
      ]
     },
     "execution_count": 9,
     "metadata": {},
     "output_type": "execute_result"
    }
   ],
   "source": [
    "#Go gene antology \n",
    "df5.describe()"
   ]
  },
  {
   "cell_type": "code",
   "execution_count": 10,
   "metadata": {},
   "outputs": [
    {
     "data": {
      "text/plain": [
       "array(['extracellular region', 'extracellular space',\n",
       "       'negative regulation of endopeptidase activity',\n",
       "       'innate immune response',\n",
       "       'negative regulation of peptidase activity',\n",
       "       'serine-type endopeptidase inhibitor activity',\n",
       "       'acute-phase response', 'blood coagulation', 'hemostasis',\n",
       "       'immune system process', 'peptidase inhibitor activity',\n",
       "       'complement activation, alternative pathway',\n",
       "       'defense response to bacterium',\n",
       "       'serine-type endopeptidase activity', 'cholesterol homeostasis',\n",
       "       'Golgi apparatus', 'calcium ion binding', 'heparin binding',\n",
       "       'plasma membrane', 'blood microparticle',\n",
       "       'complement activation, classical pathway',\n",
       "       'serine-type peptidase activity', 'cell',\n",
       "       'very-low-density lipoprotein particle remodeling',\n",
       "       'fibrinogen complex', 'response to 11-deoxycorticosterone',\n",
       "       'cellular oxidant detoxification',\n",
       "       'response to dehydroepiandrosterone', 'Golgi lumen',\n",
       "       'cholesterol transporter activity', 'chylomicron',\n",
       "       'triglyceride catabolic process', 'cytoplasm',\n",
       "       'cysteine-type endopeptidase inhibitor activity', 'membrane',\n",
       "       'cholesterol efflux', 'response to progesterone',\n",
       "       'endoplasmic reticulum', 'proteolysis', 'cholesterol binding',\n",
       "       'platelet activation', 'response to estradiol', 'cytolysis',\n",
       "       'peptidase activity', 'membrane attack complex',\n",
       "       'complement activation',\n",
       "       'phosphatidylcholine-sterol O-acyltransferase activator activity',\n",
       "       'high-density lipoprotein particle assembly',\n",
       "       'positive regulation of cholesterol esterification',\n",
       "       'antibacterial humoral response', 'reverse cholesterol transport',\n",
       "       'protein polymerization', 'cell adhesion',\n",
       "       'negative regulation of inflammatory response',\n",
       "       'lipoprotein metabolic process', 'neuron projection regeneration',\n",
       "       'phosphatidylcholine binding', 'ossification',\n",
       "       'very-low-density lipoprotein particle',\n",
       "       'defense response to Gram-negative bacterium',\n",
       "       'phospholipid efflux', 'lipopolysaccharide binding',\n",
       "       'endoplasmic reticulum lumen', 'amyloid-beta binding',\n",
       "       'killing of cells of other organism',\n",
       "       'antimicrobial humoral immune response mediated by antimicrobial peptide',\n",
       "       'external side of plasma membrane',\n",
       "       'high-density lipoprotein particle', 'cell surface',\n",
       "       'triglyceride homeostasis', 'lipid transport',\n",
       "       'cholesterol biosynthetic process', 'metal ion binding',\n",
       "       'lipid binding', 'signaling receptor binding',\n",
       "       'inflammatory response', 'peptidoglycan binding',\n",
       "       'lactose synthase activity', 'other organism cell membrane',\n",
       "       'phospholipid homeostasis', 'lactose biosynthetic process',\n",
       "       'protein homodimerization activity',\n",
       "       'regulation of intestinal cholesterol absorption',\n",
       "       'complement activation, lectin pathway',\n",
       "       'long-chain fatty acid import',\n",
       "       'negative regulation of tumor necrosis factor-mediated signaling pathway',\n",
       "       'carbohydrate binding', 'hydrolase activity',\n",
       "       'detection of chemical stimulus involved in sensory perception of bitter taste',\n",
       "       'positive regulation of lipoprotein lipase activity',\n",
       "       'anchored component of external side of plasma membrane',\n",
       "       'cellular response to diacyl bacterial lipopeptide',\n",
       "       'cholesterol import', 'positive regulation of angiogenesis',\n",
       "       'defense response to Gram-positive bacterium',\n",
       "       'positive regulation of triglyceride catabolic process',\n",
       "       'spherical high-density lipoprotein particle',\n",
       "       'negative regulation by host of viral process', 'protease binding',\n",
       "       'oxidation-reduction process', 'anchored component of membrane',\n",
       "       'response to bacterium', 'response to growth hormone',\n",
       "       'positive regulation of collagen biosynthetic process',\n",
       "       'antioxidant activity', 'vitamin transport',\n",
       "       'positive regulation of fatty acid biosynthetic process',\n",
       "       'brush border membrane',\n",
       "       'positive regulation of ERK1 and ERK2 cascade',\n",
       "       'phosphatidylcholine metabolic process',\n",
       "       'hyaluronan metabolic process',\n",
       "       'positive regulation of cytosolic calcium ion concentration',\n",
       "       'cellular iron ion homeostasis', 'vasodilation',\n",
       "       'protein stabilization', 'protein binding', 'fibrinolysis',\n",
       "       'adaptive immune response', 'immune response',\n",
       "       'negative regulation of viral genome replication',\n",
       "       'lipid metabolic process',\n",
       "       'positive regulation of stress fiber assembly',\n",
       "       'defense response to fungus', 'melanosome',\n",
       "       'apical plasma membrane', 'cholesterol transport',\n",
       "       'positive regulation of tumor necrosis factor production',\n",
       "       'endoplasmic reticulum-Golgi intermediate compartment',\n",
       "       'integrin-mediated signaling pathway',\n",
       "       'scavenger receptor activity',\n",
       "       'positive regulation of endothelial cell proliferation',\n",
       "       'identical protein binding', 'isomerase activity',\n",
       "       'endopeptidase inhibitor activity',\n",
       "       'negative regulation of blood coagulation',\n",
       "       'positive regulation of protein kinase B signaling',\n",
       "       'iron ion homeostasis', 'perinuclear region of cytoplasm',\n",
       "       'regulation of signaling receptor activity',\n",
       "       'cellular response to lipopolysaccharide',\n",
       "       'negative regulation of cysteine-type endopeptidase activity',\n",
       "       'response to heat', 'lysosome', 'phospholipid binding', 'cytosol',\n",
       "       'cell redox homeostasis',\n",
       "       'positive regulation of NF-kappaB transcription factor activity',\n",
       "       'cholesterol metabolic process', 'growth factor binding',\n",
       "       'regulation of blood coagulation, intrinsic pathway',\n",
       "       'positive regulation of androstenedione secretion',\n",
       "       'blood coagulation, fibrin clot formation',\n",
       "       'positive regulation of ferrous iron binding',\n",
       "       'regulation of blood vessel diameter by renin-angiotensin',\n",
       "       'lipoprotein lipase activity', 'ferric iron import',\n",
       "       'xanthine dehydrogenase complex',\n",
       "       'lipoprotein biosynthetic process',\n",
       "       'negative regulation of I-kappaB phosphorylation',\n",
       "       'folate import across plasma membrane',\n",
       "       'neutrophil mediated killing of gram-negative bacterium',\n",
       "       'positive regulation of osteoblast proliferation',\n",
       "       'very-low-density lipoprotein particle receptor binding',\n",
       "       'positive regulation of epithelial cell proliferation involved in wound healing',\n",
       "       'positive regulation of transferrin receptor binding',\n",
       "       'N-acetylmuramoyl-L-alanine amidase activity',\n",
       "       'negative regulation of tumor necrosis factor (ligand) superfamily member 11 production',\n",
       "       'positive regulation of androst-4-ene-3,17-dione biosynthetic process',\n",
       "       'activation of plasma proteins involved in acute inflammatory response',\n",
       "       'antigen processing and presentation of exogenous protein antigen via MHC class Ib, TAP-dependent',\n",
       "       'growth of symbiont in host', 'xanthine oxidase activity',\n",
       "       'fibrinogen binding',\n",
       "       'negative regulation of complement activation, lectin pathway',\n",
       "       'response to linoleic acid',\n",
       "       'negative regulation of cell adhesion molecule production',\n",
       "       'hemolysis by symbiont of host erythrocytes',\n",
       "       'maintenance of mitochondrion location',\n",
       "       'negative regulation of epithelial cell proliferation involved in prostate gland development',\n",
       "       'low-density lipoprotein particle mediated signaling',\n",
       "       'thiocyanate peroxidase activity',\n",
       "       'negative regulation of IRE1-mediated unfolded protein response',\n",
       "       'peptidoglycan receptor activity', 'regulation of iron ion import',\n",
       "       'negative regulation of lipopolysaccharide-mediated signaling pathway',\n",
       "       'prostate gland growth', 'IgA binding',\n",
       "       'peptidoglycan catabolic process',\n",
       "       'regulation of amyloid-beta clearance',\n",
       "       'cytoskeletal anchoring at plasma membrane',\n",
       "       'vitamin transmembrane transporter activity',\n",
       "       'negative regulation of bone mineralization',\n",
       "       'prostaglandin-D synthase activity',\n",
       "       'regulation of phosphatidylcholine biosynthetic process',\n",
       "       'cysteine biosynthetic process',\n",
       "       'positive regulation of progesterone secretion',\n",
       "       'positive regulation of interferon-gamma-mediated signaling pathway',\n",
       "       'chemorepellent activity', 'membrane disruption in other organism',\n",
       "       'positive regulation of response to interferon-gamma',\n",
       "       'intestinal cholesterol absorption',\n",
       "       'negative regulation of natural killer cell differentiation involved in immune response',\n",
       "       'positive regulation of cytolysis in other organism',\n",
       "       'peptidyl-proline hydroxylation to 4-hydroxy-L-proline',\n",
       "       'thrombospondin receptor activity',\n",
       "       'positive regulation of bone mineralization involved in bone maturation',\n",
       "       'cellular response to iron(III) ion',\n",
       "       'C5L2 anaphylatoxin chemotactic receptor binding',\n",
       "       'positive regulation of progesterone biosynthetic process',\n",
       "       'positive regulation of blood vessel endothelial cell proliferation involved in sprouting angiogenesis',\n",
       "       'cytolysis by host of symbiont cells',\n",
       "       'apolipoprotein A-I receptor binding',\n",
       "       'HFE-transferrin receptor complex', 'glomerular filtration',\n",
       "       'misfolded protein binding', 'intracellular cholesterol transport',\n",
       "       'receptor-mediated endocytosis', 'basolateral plasma membrane',\n",
       "       'regulation of cell shape', 'regulation of blood vessel size',\n",
       "       'fatty acid biosynthetic process', 'penetration of zona pellucida',\n",
       "       'granular component',\n",
       "       'positive regulation of transforming growth factor beta production',\n",
       "       'glutathione hydrolase activity', 'xanthine catabolic process',\n",
       "       'folic acid transport',\n",
       "       'positive regulation of phospholipase C-activating G-protein coupled receptor signaling pathway',\n",
       "       'vitamin transmembrane transport',\n",
       "       'xanthine dehydrogenase activity', 'protein galactosylation',\n",
       "       'regulation of circadian sleep/wake cycle, sleep',\n",
       "       'positive regulation of platelet-derived growth factor receptor signaling pathway',\n",
       "       'epithelial cell differentiation involved in prostate gland development',\n",
       "       'beta-N-acetylglucosaminylglycopeptide beta-1,4-galactosyltransferase activity',\n",
       "       'positive regulation of plasminogen activation',\n",
       "       'molybdopterin cofactor binding', 'apolipoprotein binding',\n",
       "       'heme transporter activity', 'interleukin-8 binding',\n",
       "       'intracellular sterol transport',\n",
       "       'positive regulation of chemokine secretion',\n",
       "       'negative regulation of biomineral tissue development',\n",
       "       'positive regulation of cell migration involved in sprouting angiogenesis',\n",
       "       'apolipoprotein receptor binding',\n",
       "       'isocitrate dehydrogenase (NADP+) activity',\n",
       "       'dystrophin-associated glycoprotein complex',\n",
       "       'regulation of Cdc42 protein signal transduction',\n",
       "       'cellular response to triacyl bacterial lipopeptide',\n",
       "       'positive regulation of apoptotic process involved in mammary gland involution',\n",
       "       'interleukin-1 binding',\n",
       "       'antigen processing and presentation of endogenous peptide antigen via MHC class I',\n",
       "       'mammary gland development', 'folic acid binding',\n",
       "       'positive regulation of chondrocyte proliferation',\n",
       "       'Golgi trans cisterna',\n",
       "       'negative regulation of male germ cell proliferation',\n",
       "       'toxic substance binding', 'amyloid fibril formation',\n",
       "       'thyroid hormone transport', 'cyclosporin A binding',\n",
       "       'other organism membrane', 'triglyceride transport',\n",
       "       'glyoxylate cycle', 'heme transport',\n",
       "       'negative regulation of single-species biofilm formation in or on host organism',\n",
       "       'kringle domain binding', 'hemoglobin binding',\n",
       "       'protein histidine kinase activity',\n",
       "       'cellular response to iron ion',\n",
       "       'N-acetyllactosamine synthase activity',\n",
       "       'negative regulation of astrocyte differentiation',\n",
       "       'detection of bacterium', 'specific granule',\n",
       "       'tumor necrosis factor binding',\n",
       "       'innate immune response in mucosa',\n",
       "       'high-density lipoprotein particle receptor binding',\n",
       "       'response to misfolded protein',\n",
       "       'negative regulation of very-low-density lipoprotein particle remodeling',\n",
       "       'positive regulation of ubiquitin-dependent protein catabolic process',\n",
       "       'peptidyl-proline 4-dioxygenase activity',\n",
       "       'negative regulation of receptor binding',\n",
       "       'interleukin-8 secretion',\n",
       "       'positive regulation of receptor binding',\n",
       "       'macrophage activation involved in immune response',\n",
       "       'negative regulation of fibrinolysis',\n",
       "       'retrograde protein transport, ER to cytosol',\n",
       "       'thyroid hormone binding', 'isocitrate metabolic process',\n",
       "       'procollagen-proline 4-dioxygenase activity',\n",
       "       'negative regulation of plasminogen activation',\n",
       "       'extracellular membrane-bounded organelle',\n",
       "       'positive regulation of NLRP3 inflammasome complex assembly',\n",
       "       'phosphatidylcholine biosynthetic process', 'ferroxidase activity',\n",
       "       'intermediate-density lipoprotein particle',\n",
       "       'potassium channel inhibitor activity',\n",
       "       'negative regulation of interleukin-1 beta secretion',\n",
       "       'positive regulation of nitric-oxide synthase activity',\n",
       "       'positive regulation of toll-like receptor 4 signaling pathway',\n",
       "       'protein retention in ER lumen', 'molybdenum ion binding',\n",
       "       'cornified envelope', 'copper ion transport',\n",
       "       'lipopolysaccharide receptor complex',\n",
       "       'serine-type peptidase complex',\n",
       "       'positive regulation of bone resorption',\n",
       "       'glutathione catabolic process',\n",
       "       'high-density lipoprotein particle binding',\n",
       "       'peptidyl-methionine modification', 'vitamin D binding',\n",
       "       'lipoprotein catabolic process', 'antifungal humoral response',\n",
       "       'activation of NF-kappaB-inducing kinase activity',\n",
       "       'adrenal gland development',\n",
       "       'negative regulation of osteoclast development',\n",
       "       'positive regulation of humoral immune response mediated by circulating immunoglobulin',\n",
       "       'positive regulation of cholesterol storage',\n",
       "       'cholesterol catabolic process',\n",
       "       'NuA4 histone acetyltransferase complex', 'nucleus',\n",
       "       'iron ion binding',\n",
       "       'negative regulation of protein homooligomerization',\n",
       "       'negative chemotaxis', 'dense body',\n",
       "       'triglyceride biosynthetic process',\n",
       "       'negative regulation of cytokine secretion involved in immune response',\n",
       "       'negative regulation of lactation', 'protein deneddylation',\n",
       "       'positive regulation of macrophage derived foam cell differentiation',\n",
       "       'chitin catabolic process',\n",
       "       'blood vessel endothelial cell migration',\n",
       "       'development of secondary sexual characteristics',\n",
       "       'negative regulation of cytokine production involved in inflammatory response',\n",
       "       'MHC class I protein complex',\n",
       "       'maintenance of protein localization in endoplasmic reticulum',\n",
       "       'high-density lipoprotein particle remodeling',\n",
       "       'protein oxidation', 'UTP biosynthetic process',\n",
       "       'chitinase activity', 'T cell differentiation in thymus',\n",
       "       'angiogenesis involved in wound healing',\n",
       "       'negative regulation of heterotypic cell-cell adhesion',\n",
       "       'positive regulation of lipid kinase activity',\n",
       "       'steroid metabolic process', 'cytoskeleton',\n",
       "       'viral entry into host cell', 'bone morphogenesis',\n",
       "       'decidualization', 'galactose metabolic process',\n",
       "       'negative regulation of ATPase activity',\n",
       "       'protein heterotetramerization', 'zymogen binding',\n",
       "       'hydrogen peroxide catabolic process',\n",
       "       'interleukin-1 beta secretion', 'laminin binding',\n",
       "       'UDP-galactosyltransferase activity',\n",
       "       'cellular response to thyroid hormone stimulus',\n",
       "       'glutathione biosynthetic process',\n",
       "       'positive regulation of sequestering of triglyceride',\n",
       "       'protein peptidyl-prolyl isomerization', 'proteoglycan binding',\n",
       "       'actin filament severing', 'lipoprotein particle binding',\n",
       "       'chitin binding', 'energy homeostasis',\n",
       "       'glucocorticoid metabolic process',\n",
       "       'regulation of inflammatory response',\n",
       "       'oligosaccharide biosynthetic process',\n",
       "       'positive regulation of transforming growth factor beta receptor signaling pathway',\n",
       "       'cellular response to low-density lipoprotein particle stimulus',\n",
       "       'response to interleukin-6', 'GTP biosynthetic process',\n",
       "       'toll-like receptor 4 signaling pathway',\n",
       "       'CTP biosynthetic process', 'barbed-end actin filament capping',\n",
       "       'regulation of oxidative stress-induced intrinsic apoptotic signaling pathway',\n",
       "       'nuclear outer membrane',\n",
       "       'positive regulation of protein oligomerization',\n",
       "       'negative regulation of intrinsic apoptotic signaling pathway in response to DNA damage',\n",
       "       'regulation of fatty acid oxidation',\n",
       "       'positive regulation of T cell mediated cytotoxicity',\n",
       "       'retinol metabolic process', 'hemoglobin metabolic process',\n",
       "       '2-oxoglutarate metabolic process',\n",
       "       'negative regulation of interferon-gamma production',\n",
       "       'establishment of skin barrier',\n",
       "       'response to endoplasmic reticulum stress', 'angiogenesis',\n",
       "       'membrane raft', 'negative regulation of apoptotic process',\n",
       "       'antigen processing and presentation of peptide antigen via MHC class I',\n",
       "       'regulation of acrosome reaction',\n",
       "       'glycoprotein biosynthetic process',\n",
       "       'positive regulation of blood coagulation',\n",
       "       'positive regulation of peptidyl-threonine phosphorylation',\n",
       "       'positive regulation of substrate adhesion-dependent cell spreading',\n",
       "       'positive regulation of phagocytosis',\n",
       "       'long-chain fatty acid binding', 'triglyceride lipase activity',\n",
       "       'wound healing', 'intestinal absorption',\n",
       "       'low-density lipoprotein particle receptor binding',\n",
       "       'peptide cross-linking', 'endothelial cell proliferation',\n",
       "       'protein disulfide isomerase activity', 'iron ion transport',\n",
       "       'oxygen binding', 'nucleoside diphosphate kinase activity',\n",
       "       'positive regulation of T cell cytokine production',\n",
       "       'protein serine/threonine kinase activator activity',\n",
       "       'collagen catabolic process', 'bone mineralization',\n",
       "       'metalloendopeptidase inhibitor activity',\n",
       "       'galactosyltransferase activity', 'alpha-tubulin binding',\n",
       "       'regulation of triglyceride biosynthetic process',\n",
       "       'sensory perception of taste', 'retinol binding',\n",
       "       'oxidoreductase activity', 'positive regulation of lipid storage',\n",
       "       'regulation of axon extension', 'lactation',\n",
       "       'negative regulation of response to cytokine stimulus',\n",
       "       'positive regulation of glucose transmembrane transport',\n",
       "       'blood vessel morphogenesis', 'protein refolding',\n",
       "       'adenylate cyclase-inhibiting G-protein coupled receptor signaling pathway',\n",
       "       'beta-tubulin binding', 'response to oxidative stress',\n",
       "       'fatty acid metabolic process', 'protein homooligomerization',\n",
       "       'positive regulation of G-protein coupled receptor protein signaling pathway',\n",
       "       'positive regulation of Rho protein signal transduction',\n",
       "       'positive regulation of smooth muscle cell proliferation',\n",
       "       'desmosome', 'positive regulation of osteoblast differentiation',\n",
       "       'phospholipid metabolic process', 'rough endoplasmic reticulum',\n",
       "       'response to fatty acid',\n",
       "       'cellular response to transforming growth factor beta stimulus',\n",
       "       'binding of sperm to zona pellucida', 'lung development',\n",
       "       'cell periphery', 'COP9 signalosome', 'lipid storage',\n",
       "       'brown fat cell differentiation', 'FAD binding',\n",
       "       'chromaffin granule',\n",
       "       'lipopolysaccharide-mediated signaling pathway',\n",
       "       'integral component of membrane', 'protein folding',\n",
       "       'purine nucleobase metabolic process',\n",
       "       'positive regulation of release of sequestered calcium ion into cytosol',\n",
       "       'actin filament capping', 'extracellular matrix binding',\n",
       "       'regulation of erythrocyte differentiation',\n",
       "       'negative regulation of I-kappaB kinase/NF-kappaB signaling',\n",
       "       'heme metabolic process', 'actin nucleation',\n",
       "       'prostaglandin biosynthetic process',\n",
       "       'positive regulation of receptor-mediated endocytosis',\n",
       "       'regulation of cholesterol transport', 'retinoid binding',\n",
       "       'activation of cysteine-type endopeptidase activity involved in apoptotic process',\n",
       "       'collagen fibril organization', 'focal adhesion',\n",
       "       'protein heterodimerization activity', 'response to glucose',\n",
       "       'disordered domain specific binding',\n",
       "       'calcium-dependent protein binding', 'stem cell differentiation',\n",
       "       'positive regulation of tyrosine phosphorylation of STAT protein',\n",
       "       'manganese ion binding',\n",
       "       'transforming growth factor beta receptor binding',\n",
       "       'positive regulation of immunoglobulin production',\n",
       "       'collagen binding', 'ATPase activity', 'enzyme activator activity',\n",
       "       'regulation of bone mineralization',\n",
       "       'positive regulation of interferon-gamma production',\n",
       "       'lysozyme activity', '2 iron, 2 sulfur cluster binding',\n",
       "       'positive regulation of JNK cascade',\n",
       "       'cell wall macromolecule catabolic process', 'fatty acid binding',\n",
       "       'acute inflammatory response', 'prostaglandin metabolic process',\n",
       "       'cell killing', 'keratin filament',\n",
       "       'positive regulation of apoptotic process',\n",
       "       'positive regulation of proteasomal ubiquitin-dependent protein catabolic process',\n",
       "       'cytokine receptor activity', 'triglyceride metabolic process',\n",
       "       'positive regulation of phosphatidylinositol 3-kinase signaling',\n",
       "       'clathrin-coated vesicle', 'receptor internalization',\n",
       "       'ubiquitin-dependent protein catabolic process', 'actin binding',\n",
       "       'positive regulation of intrinsic apoptotic signaling pathway',\n",
       "       'peroxidase activity',\n",
       "       'pattern recognition receptor signaling pathway',\n",
       "       'tissue remodeling', 'ruffle', 'lipid droplet',\n",
       "       'single fertilization',\n",
       "       'negative regulation of neuron projection development',\n",
       "       'positive regulation of reactive oxygen species metabolic process',\n",
       "       'filopodium', 'nucleoside diphosphate phosphorylation',\n",
       "       'branching morphogenesis of an epithelial tube',\n",
       "       'negative regulation of viral process',\n",
       "       'positive regulation of protein binding', 'response to wounding',\n",
       "       'ubiquitin-dependent ERAD pathway', 'epithelial cell development',\n",
       "       'cellular response to tumor necrosis factor',\n",
       "       'protein N-linked glycosylation', 'Golgi cisterna membrane',\n",
       "       'single-stranded DNA binding', 'extracellular matrix',\n",
       "       'defense response', 'actin cytoskeleton',\n",
       "       'protein binding, bridging', 'endocytic vesicle',\n",
       "       'oxidoreductase activity, acting on the aldehyde or oxo group of donors',\n",
       "       'response to mechanical stimulus', 'drug binding',\n",
       "       'negative regulation of angiogenesis', 'response to interleukin-1',\n",
       "       'peptidyl-prolyl cis-trans isomerase activity',\n",
       "       'tricarboxylic acid cycle', 'carbohydrate metabolic process',\n",
       "       'biomineral tissue development',\n",
       "       'positive regulation of lipid biosynthetic process',\n",
       "       'response to tumor necrosis factor',\n",
       "       'regulation of tumor necrosis factor production',\n",
       "       'heat shock protein binding', 'positive regulation of cell growth',\n",
       "       'NAD binding', 'lipid transporter activity',\n",
       "       'regulation of viral genome replication', 'sarcolemma',\n",
       "       'phospholipase activity', 'osteoblast differentiation',\n",
       "       'negative regulation of neuron apoptotic process',\n",
       "       'regulation of blood coagulation',\n",
       "       'positive regulation of protein localization to nucleus',\n",
       "       'copper ion binding', 'cysteine-type endopeptidase activity',\n",
       "       'flavin adenine dinucleotide binding',\n",
       "       'pyridoxal phosphate binding',\n",
       "       'intrinsic apoptotic signaling pathway',\n",
       "       'cellular response to starvation',\n",
       "       'RNA phosphodiester bond hydrolysis',\n",
       "       'positive regulation of transcription by RNA polymerase II',\n",
       "       'peroxisome', 'sphingolipid metabolic process',\n",
       "       'in utero embryonic development',\n",
       "       'chaperone-mediated protein folding',\n",
       "       'negative regulation of supramolecular fiber organization',\n",
       "       'ribonuclease activity', 'extracellular matrix organization',\n",
       "       'iron-sulfur cluster binding', 'cytoplasmic vesicle',\n",
       "       'positive regulation of neurogenesis', 'lamellipodium',\n",
       "       'leukocyte migration', 'protein processing',\n",
       "       'carboxylic ester hydrolase activity',\n",
       "       'regulation of blood pressure', 'intermediate filament',\n",
       "       'electron transfer activity', 'ATP binding',\n",
       "       'positive regulation of protein phosphorylation', 'enzyme binding',\n",
       "       'calcium ion transport', 'heme binding', 'actin filament binding',\n",
       "       'postsynaptic membrane',\n",
       "       'positive regulation of I-kappaB kinase/NF-kappaB signaling',\n",
       "       'nucleic acid phosphodiester bond hydrolysis',\n",
       "       'endonuclease activity', 'cysteine-type peptidase activity',\n",
       "       'cilium assembly', 'secretory granule',\n",
       "       'regulation of cytosolic calcium ion concentration',\n",
       "       'magnesium ion binding', 'electron transport chain',\n",
       "       'positive regulation of protein serine/threonine kinase activity',\n",
       "       'synapse', 'negative regulation of proteolysis',\n",
       "       'response to molecule of bacterial origin',\n",
       "       'oxidoreductase activity, acting on the CH-OH group of donors, NAD or NADP as acceptor',\n",
       "       'epithelial cell differentiation', 'protein glycosylation',\n",
       "       'negative regulation of hydrolase activity',\n",
       "       'transferase activity, transferring glycosyl groups',\n",
       "       'transcription factor complex', 'spermatogenesis',\n",
       "       'nuclear membrane', 'regulation of immune system process',\n",
       "       'nuclease activity', 'regulation of lipid metabolic process',\n",
       "       'response to virus', 'hormone activity',\n",
       "       'ubiquitin protein ligase binding', 'lipid catabolic process',\n",
       "       'cytokine activity', 'cytokine-mediated signaling pathway',\n",
       "       'G-protein coupled receptor binding', 'intracellular',\n",
       "       'nucleoplasm', 'cell projection', 'transcription factor binding',\n",
       "       'positive regulation of cell migration',\n",
       "       'intracellular membrane-bounded organelle',\n",
       "       'positive regulation of hydrolase activity',\n",
       "       'cell surface receptor signaling pathway', 'mitochondrial matrix',\n",
       "       'negative regulation of cell proliferation', 'response to lipid',\n",
       "       'mitochondrion', 'regulation of cytokine production',\n",
       "       'cofactor binding', 'enzyme inhibitor activity',\n",
       "       'protein domain specific binding', 'nucleotide metabolic process',\n",
       "       'nucleic acid binding', 'apoptotic process',\n",
       "       'proteolysis involved in cellular protein catabolic process',\n",
       "       'phosphorylation', 'positive regulation of cell proliferation',\n",
       "       'cell projection organization', 'endosome',\n",
       "       'positive regulation of cell differentiation',\n",
       "       'G-protein coupled receptor signaling pathway', 'kinase activity',\n",
       "       'regulation of cellular component movement', 'nucleotide binding',\n",
       "       'zinc ion binding', 'protein-containing complex',\n",
       "       'positive regulation of catalytic activity', 'nucleolus',\n",
       "       'regulation of gene expression',\n",
       "       'cellular response to organic substance',\n",
       "       'cytoskeletal protein binding', 'ion transport',\n",
       "       'negative regulation of gene expression', 'mitochondrial membrane',\n",
       "       'structural molecule activity',\n",
       "       'regulation of protein phosphorylation',\n",
       "       'regulation of cell proliferation', 'cell junction', 'DNA binding',\n",
       "       'regulation of transcription, DNA-templated', 'vesicle',\n",
       "       'small molecule binding', 'transferase activity',\n",
       "       'regulation of protein metabolic process',\n",
       "       'regulation of catalytic activity', 'protein transport',\n",
       "       'regulation of apoptotic process'], dtype=object)"
      ]
     },
     "execution_count": 10,
     "metadata": {},
     "output_type": "execute_result"
    }
   ],
   "source": [
    "df5['Function'].unique()"
   ]
  },
  {
   "cell_type": "code",
   "execution_count": 11,
   "metadata": {},
   "outputs": [
    {
     "data": {
      "text/plain": [
       "0      P01044(Evidence code:IEA/Database source:UniPr...\n",
       "1      A6QPP2(Evidence code:IEA/Database source:Inter...\n",
       "2      G8JKW7(Evidence code:IEA/Database source:GO:00...\n",
       "3      Q28085(Evidence code:IEA/Database source:UniPr...\n",
       "4      P02666(Evidence code:IEA/Database source:UniPr...\n",
       "                             ...                        \n",
       "658    P08037(Evidence code:IEA/Database source:UniPr...\n",
       "659    Q3SZV7(Evidence code:IEA/Database source:UniPr...\n",
       "660    P07688(Evidence code:IEA/Database source:Inter...\n",
       "661    Q32KV6(Evidence code:IEA/Database source:UniPr...\n",
       "662    Q3T0Q4(Evidence code:IBA/Database source:PANTH...\n",
       "Name: Proteins, Length: 663, dtype: object"
      ]
     },
     "execution_count": 11,
     "metadata": {},
     "output_type": "execute_result"
    }
   ],
   "source": [
    "df5['Proteins']"
   ]
  },
  {
   "cell_type": "code",
   "execution_count": 12,
   "metadata": {},
   "outputs": [
    {
     "data": {
      "text/plain": [
       "<seaborn.axisgrid.PairGrid at 0x26ee48269d0>"
      ]
     },
     "execution_count": 12,
     "metadata": {},
     "output_type": "execute_result"
    },
    {
     "data": {
      "image/png": "[encoded data removed]",
      "text/plain": [
       "<Figure size 900x900 with 30 Axes>"
      ]
     },
     "metadata": {},
     "output_type": "display_data"
    }
   ],
   "source": [
    "sns.pairplot(data=df5)  "
   ]
  },
  {
   "cell_type": "code",
   "execution_count": 13,
   "metadata": {},
   "outputs": [],
   "source": [
    "#setting structure for graphs\n",
    "sns.set(style=\"whitegrid\",palette='muted',color_codes=True)"
   ]
  },
  {
   "cell_type": "code",
   "execution_count": 14,
   "metadata": {},
   "outputs": [
    {
     "name": "stderr",
     "output_type": "stream",
     "text": [
      "c:\\Users\\adity\\anaconda3\\lib\\site-packages\\seaborn\\distributions.py:2551: FutureWarning: `distplot` is a deprecated function and will be removed in a future version. Please adapt your code to use either `displot` (a figure-level function with similar flexibility) or `histplot` (an axes-level function for histograms).\n",
      "  warnings.warn(msg, FutureWarning)\n",
      "c:\\Users\\adity\\anaconda3\\lib\\site-packages\\seaborn\\_decorators.py:36: FutureWarning: Pass the following variable as a keyword arg: x. From version 0.12, the only valid positional argument will be `data`, and passing other arguments without an explicit keyword will result in an error or misinterpretation.\n",
      "  warnings.warn(\n"
     ]
    },
    {
     "data": {
      "image/png": "[encoded data removed]",
      "text/plain": [
       "<Figure size 864x432 with 2 Axes>"
      ]
     },
     "metadata": {},
     "output_type": "display_data"
    }
   ],
   "source": [
    "fig5, axes5 = plt.subplots(1,2, figsize=(12,6))\n",
    "sns.distplot(x=df5['Count of protein'],kde=True,ax=axes5[0])\n",
    "sns.boxplot(df5['Count of protein'],color='b',ax=axes5[1])\n",
    "axes5[0].set_title('Ditribution of Count of proteins')\n",
    "axes5[1].set_title('Count of proteins range')\n",
    "plt.show()"
   ]
  },
  {
   "cell_type": "code",
   "execution_count": 15,
   "metadata": {},
   "outputs": [
    {
     "name": "stderr",
     "output_type": "stream",
     "text": [
      "c:\\Users\\adity\\anaconda3\\lib\\site-packages\\seaborn\\distributions.py:2551: FutureWarning: `distplot` is a deprecated function and will be removed in a future version. Please adapt your code to use either `displot` (a figure-level function with similar flexibility) or `histplot` (an axes-level function for histograms).\n",
      "  warnings.warn(msg, FutureWarning)\n",
      "c:\\Users\\adity\\anaconda3\\lib\\site-packages\\seaborn\\_decorators.py:36: FutureWarning: Pass the following variable as a keyword arg: x. From version 0.12, the only valid positional argument will be `data`, and passing other arguments without an explicit keyword will result in an error or misinterpretation.\n",
      "  warnings.warn(\n"
     ]
    },
    {
     "data": {
      "image/png": "[encoded data removed]",
      "text/plain": [
       "<Figure size 864x432 with 2 Axes>"
      ]
     },
     "metadata": {},
     "output_type": "display_data"
    }
   ],
   "source": [
    "fig5, axes5 = plt.subplots(1,2, figsize=(12,6))\n",
    "sns.distplot(x=df5['GO frequency within the dataset (%)'],kde=True,ax=axes5[0])\n",
    "sns.boxplot(df5['GO frequency within the dataset (%)'],color='b',ax=axes5[1])\n",
    "axes5[0].set_title('Ditribution of GO frequency within the dataset (%)')\n",
    "axes5[1].set_title('GO frequency within the dataset (%) range')\n",
    "plt.show()"
   ]
  },
  {
   "cell_type": "code",
   "execution_count": 16,
   "metadata": {},
   "outputs": [
    {
     "name": "stderr",
     "output_type": "stream",
     "text": [
      "c:\\Users\\adity\\anaconda3\\lib\\site-packages\\seaborn\\distributions.py:2551: FutureWarning: `distplot` is a deprecated function and will be removed in a future version. Please adapt your code to use either `displot` (a figure-level function with similar flexibility) or `histplot` (an axes-level function for histograms).\n",
      "  warnings.warn(msg, FutureWarning)\n",
      "c:\\Users\\adity\\anaconda3\\lib\\site-packages\\seaborn\\_decorators.py:36: FutureWarning: Pass the following variable as a keyword arg: x. From version 0.12, the only valid positional argument will be `data`, and passing other arguments without an explicit keyword will result in an error or misinterpretation.\n",
      "  warnings.warn(\n"
     ]
    },
    {
     "data": {
      "image/png": "[encoded data removed]",
      "text/plain": [
       "<Figure size 864x432 with 2 Axes>"
      ]
     },
     "metadata": {},
     "output_type": "display_data"
    }
   ],
   "source": [
    "fig5, axes5 = plt.subplots(1,2, figsize=(12,6))\n",
    "sns.distplot(x=df5['GO frequency within the genome (%)'],kde=True,ax=axes5[0])\n",
    "sns.boxplot(df5['GO frequency within the genome (%)'],color='b',ax=axes5[1])\n",
    "axes5[0].set_title('Ditribution of GO frequency within the genome (%)')\n",
    "axes5[1].set_title('GO frequency within the genome (%) range')\n",
    "plt.show()"
   ]
  },
  {
   "cell_type": "code",
   "execution_count": 17,
   "metadata": {},
   "outputs": [
    {
     "data": {
      "text/html": [
       "<div>\n",
       "<style scoped>\n",
       "    .dataframe tbody tr th:only-of-type {\n",
       "        vertical-align: middle;\n",
       "    }\n",
       "\n",
       "    .dataframe tbody tr th {\n",
       "        vertical-align: top;\n",
       "    }\n",
       "\n",
       "    .dataframe thead th {\n",
       "        text-align: right;\n",
       "    }\n",
       "</style>\n",
       "<table border=\"1\" class=\"dataframe\">\n",
       "  <thead>\n",
       "    <tr style=\"text-align: right;\">\n",
       "      <th></th>\n",
       "      <th>Count of protein</th>\n",
       "      <th>GO frequency within the dataset (%)</th>\n",
       "      <th>GO frequency within the genome (%)</th>\n",
       "      <th>P-Value</th>\n",
       "      <th>P-Values_BH</th>\n",
       "    </tr>\n",
       "  </thead>\n",
       "  <tbody>\n",
       "    <tr>\n",
       "      <th>Count of protein</th>\n",
       "      <td>1.000000</td>\n",
       "      <td>1.000000</td>\n",
       "      <td>-0.076125</td>\n",
       "      <td>-0.104283</td>\n",
       "      <td>-0.122520</td>\n",
       "    </tr>\n",
       "    <tr>\n",
       "      <th>GO frequency within the dataset (%)</th>\n",
       "      <td>1.000000</td>\n",
       "      <td>1.000000</td>\n",
       "      <td>-0.076121</td>\n",
       "      <td>-0.104278</td>\n",
       "      <td>-0.122514</td>\n",
       "    </tr>\n",
       "    <tr>\n",
       "      <th>GO frequency within the genome (%)</th>\n",
       "      <td>-0.076125</td>\n",
       "      <td>-0.076121</td>\n",
       "      <td>1.000000</td>\n",
       "      <td>-0.345485</td>\n",
       "      <td>-0.355717</td>\n",
       "    </tr>\n",
       "    <tr>\n",
       "      <th>P-Value</th>\n",
       "      <td>-0.104283</td>\n",
       "      <td>-0.104278</td>\n",
       "      <td>-0.345485</td>\n",
       "      <td>1.000000</td>\n",
       "      <td>0.998969</td>\n",
       "    </tr>\n",
       "    <tr>\n",
       "      <th>P-Values_BH</th>\n",
       "      <td>-0.122520</td>\n",
       "      <td>-0.122514</td>\n",
       "      <td>-0.355717</td>\n",
       "      <td>0.998969</td>\n",
       "      <td>1.000000</td>\n",
       "    </tr>\n",
       "  </tbody>\n",
       "</table>\n",
       "</div>"
      ],
      "text/plain": [
       "                                     Count of protein  \\\n",
       "Count of protein                             1.000000   \n",
       "GO frequency within the dataset (%)          1.000000   \n",
       "GO frequency within the genome (%)          -0.076125   \n",
       "P-Value                                     -0.104283   \n",
       "P-Values_BH                                 -0.122520   \n",
       "\n",
       "                                     GO frequency within the dataset (%)  \\\n",
       "Count of protein                                                1.000000   \n",
       "GO frequency within the dataset (%)                             1.000000   \n",
       "GO frequency within the genome (%)                             -0.076121   \n",
       "P-Value                                                        -0.104278   \n",
       "P-Values_BH                                                    -0.122514   \n",
       "\n",
       "                                     GO frequency within the genome (%)  \\\n",
       "Count of protein                                              -0.076125   \n",
       "GO frequency within the dataset (%)                           -0.076121   \n",
       "GO frequency within the genome (%)                             1.000000   \n",
       "P-Value                                                       -0.345485   \n",
       "P-Values_BH                                                   -0.355717   \n",
       "\n",
       "                                      P-Value  P-Values_BH  \n",
       "Count of protein                    -0.104283    -0.122520  \n",
       "GO frequency within the dataset (%) -0.104278    -0.122514  \n",
       "GO frequency within the genome (%)  -0.345485    -0.355717  \n",
       "P-Value                              1.000000     0.998969  \n",
       "P-Values_BH                          0.998969     1.000000  "
      ]
     },
     "execution_count": 17,
     "metadata": {},
     "output_type": "execute_result"
    }
   ],
   "source": [
    "df5.corr()"
   ]
  },
  {
   "cell_type": "code",
   "execution_count": 18,
   "metadata": {},
   "outputs": [
    {
     "data": {
      "text/plain": [
       "<AxesSubplot:>"
      ]
     },
     "execution_count": 18,
     "metadata": {},
     "output_type": "execute_result"
    },
    {
     "data": {
      "image/png": "[encoded data removed]",
      "text/plain": [
       "<Figure size 432x288 with 2 Axes>"
      ]
     },
     "metadata": {},
     "output_type": "display_data"
    }
   ],
   "source": [
    "sns.heatmap(df5.corr(),annot=True)"
   ]
  },
  {
   "cell_type": "code",
   "execution_count": 19,
   "metadata": {},
   "outputs": [
    {
     "name": "stdout",
     "output_type": "stream",
     "text": [
      "GO frequency within the dataset (%) : skewness %f 10.95124102288896\n",
      "GO frequency within the dataset (%) : kurtosis %f 159.72124724086564\n",
      "Count of protein : skewness %f 10.950059354415124\n",
      "Count of protein : kurtosis %f 159.68774986207683\n",
      "GO frequency within the genome (%) : skewness %f 1.388570777298892\n",
      "GO frequency within the genome (%) : kurtosis %f 0.7464758397517093\n"
     ]
    }
   ],
   "source": [
    "print(\"GO frequency within the dataset (%) : skewness %f\",df5['GO frequency within the dataset (%)'].skew())\n",
    "print(\"GO frequency within the dataset (%) : kurtosis %f\",df5['GO frequency within the dataset (%)'].kurt())\n",
    "print(\"Count of protein : skewness %f\",df5['Count of protein'].skew())\n",
    "print(\"Count of protein : kurtosis %f\",df5['Count of protein'].kurt())\n",
    "print(\"GO frequency within the genome (%) : skewness %f\",df5['GO frequency within the genome (%)'].skew())\n",
    "print(\"GO frequency within the genome (%) : kurtosis %f\",df5['GO frequency within the genome (%)'].kurt())"
   ]
  },
  {
   "cell_type": "code",
   "execution_count": 20,
   "metadata": {},
   "outputs": [],
   "source": [
    "df5.drop(columns=['GO','Function','Gene Name','Ontology group','Number of proteins detected within the genome','P-Value','P-Values_BH'],inplace=True)"
   ]
  },
  {
   "cell_type": "code",
   "execution_count": 21,
   "metadata": {},
   "outputs": [
    {
     "name": "stdout",
     "output_type": "stream",
     "text": [
      "<class 'pandas.core.frame.DataFrame'>\n",
      "RangeIndex: 663 entries, 0 to 662\n",
      "Data columns (total 4 columns):\n",
      " #   Column                               Non-Null Count  Dtype  \n",
      "---  ------                               --------------  -----  \n",
      " 0   Proteins                             663 non-null    object \n",
      " 1   Count of protein                     663 non-null    int64  \n",
      " 2   GO frequency within the dataset (%)  663 non-null    float64\n",
      " 3   GO frequency within the genome (%)   663 non-null    float64\n",
      "dtypes: float64(2), int64(1), object(1)\n",
      "memory usage: 20.8+ KB\n"
     ]
    }
   ],
   "source": [
    "df5.info()"
   ]
  },
  {
   "cell_type": "code",
   "execution_count": 22,
   "metadata": {},
   "outputs": [],
   "source": [
    "from sklearn.model_selection import train_test_split"
   ]
  },
  {
   "cell_type": "code",
   "execution_count": 23,
   "metadata": {},
   "outputs": [],
   "source": [
    "x = (df5['Count of protein']).to_numpy()\n",
    "y = (df5['GO frequency within the genome (%)']).to_numpy()"
   ]
  },
  {
   "cell_type": "code",
   "execution_count": 24,
   "metadata": {},
   "outputs": [],
   "source": [
    "from sklearn.preprocessing import MinMaxScaler\n",
    "s= MinMaxScaler(feature_range=(0,1))"
   ]
  },
  {
   "cell_type": "code",
   "execution_count": 25,
   "metadata": {},
   "outputs": [],
   "source": [
    "x_new =s.fit_transform(x.reshape(-1,1))\n",
    "y_new=s.fit_transform(y.reshape(-1,1))"
   ]
  },
  {
   "cell_type": "code",
   "execution_count": 26,
   "metadata": {},
   "outputs": [],
   "source": [
    "X_train, X_test, y_train, y_test = train_test_split(x_new,y_new, test_size=0.33, random_state=100)"
   ]
  },
  {
   "cell_type": "code",
   "execution_count": 27,
   "metadata": {},
   "outputs": [],
   "source": [
    "from sklearn.ensemble import ExtraTreesRegressor\n",
    "reg = ExtraTreesRegressor()"
   ]
  },
  {
   "cell_type": "code",
   "execution_count": 28,
   "metadata": {},
   "outputs": [
    {
     "name": "stderr",
     "output_type": "stream",
     "text": [
      "<ipython-input-28-76dcf3f49433>:1: DataConversionWarning: A column-vector y was passed when a 1d array was expected. Please change the shape of y to (n_samples,), for example using ravel().\n",
      "  reg.fit(X_train,y_train)\n"
     ]
    },
    {
     "data": {
      "text/plain": [
       "ExtraTreesRegressor()"
      ]
     },
     "execution_count": 28,
     "metadata": {},
     "output_type": "execute_result"
    }
   ],
   "source": [
    "reg.fit(X_train,y_train)"
   ]
  },
  {
   "cell_type": "code",
   "execution_count": 29,
   "metadata": {},
   "outputs": [],
   "source": [
    "from sklearn.tree import DecisionTreeRegressor"
   ]
  },
  {
   "cell_type": "code",
   "execution_count": 30,
   "metadata": {},
   "outputs": [
    {
     "data": {
      "text/plain": [
       "DecisionTreeRegressor()"
      ]
     },
     "execution_count": 30,
     "metadata": {},
     "output_type": "execute_result"
    }
   ],
   "source": [
    "reg_model = DecisionTreeRegressor()\n",
    "reg_model.fit(X_train,y_train)"
   ]
  },
  {
   "cell_type": "code",
   "execution_count": 31,
   "metadata": {},
   "outputs": [
    {
     "name": "stdout",
     "output_type": "stream",
     "text": [
      "0.02603228504354471\n",
      "0.014524617979772447\n"
     ]
    }
   ],
   "source": [
    "print(reg_model.score(X_train,y_train))\n",
    "print(reg_model.score(X_test,y_test))"
   ]
  },
  {
   "cell_type": "code",
   "execution_count": 32,
   "metadata": {},
   "outputs": [],
   "source": [
    "prediction = reg_model.predict(X_test)"
   ]
  },
  {
   "cell_type": "code",
   "execution_count": 33,
   "metadata": {},
   "outputs": [
    {
     "name": "stderr",
     "output_type": "stream",
     "text": [
      "c:\\Users\\adity\\anaconda3\\lib\\site-packages\\seaborn\\distributions.py:2551: FutureWarning: `distplot` is a deprecated function and will be removed in a future version. Please adapt your code to use either `displot` (a figure-level function with similar flexibility) or `histplot` (an axes-level function for histograms).\n",
      "  warnings.warn(msg, FutureWarning)\n"
     ]
    },
    {
     "data": {
      "text/plain": [
       "<AxesSubplot:ylabel='Density'>"
      ]
     },
     "execution_count": 33,
     "metadata": {},
     "output_type": "execute_result"
    },
    {
     "data": {
      "image/png": "[encoded data removed]",
      "text/plain": [
       "<Figure size 432x288 with 1 Axes>"
      ]
     },
     "metadata": {},
     "output_type": "display_data"
    }
   ],
   "source": [
    "sns.distplot(y_test-prediction)"
   ]
  },
  {
   "cell_type": "code",
   "execution_count": 34,
   "metadata": {},
   "outputs": [],
   "source": [
    "parameters={\"splitter\":[\"best\",\"random\"],\n",
    "            \"max_depth\" : [1,3,5,7,9,11,12],\n",
    "           \"min_samples_leaf\":[1,2,3,4,5,6,7,8,9,10],\n",
    "           \"min_weight_fraction_leaf\":[0.1,0.2,0.3,0.4,0.5,0.6,0.7,0.8,0.9],\n",
    "           \"max_features\":[\"auto\",\"log2\",\"sqrt\",None],\n",
    "           \"max_leaf_nodes\":[None,10,20,30,40,50,60,70,80,90] }"
   ]
  },
  {
   "cell_type": "code",
   "execution_count": 35,
   "metadata": {},
   "outputs": [],
   "source": [
    "from sklearn.model_selection import GridSearchCV"
   ]
  },
  {
   "cell_type": "code",
   "execution_count": 36,
   "metadata": {},
   "outputs": [],
   "source": [
    "tuning_model=GridSearchCV(reg_model,param_grid=parameters,scoring='neg_mean_squared_error',cv=3,verbose=3)"
   ]
  },
  {
   "cell_type": "code",
   "execution_count": 37,
   "metadata": {},
   "outputs": [],
   "source": [
    "def timer(start_time=None):\n",
    "    if not start_time:\n",
    "        start_time=datetime.now()\n",
    "        return start_time\n",
    "    elif start_time:\n",
    "        thour,temp_sec=divmod((datetime.now()-start_time).total_seconds(),3600)\n",
    "        tmin,tsec=divmod(temp_sec,60)\n",
    "        #print(thour,\":\",tmin,':',round(tsec,2))"
   ]
  },
  {
   "cell_type": "code",
   "execution_count": 38,
   "metadata": {},
   "outputs": [],
   "source": [
    "# got the best tunned prediction from the above hyperparameter tuning \n",
    "tuned_hyper_model= DecisionTreeRegressor(\n",
    " max_depth= 3,\n",
    " max_features= 'log2',\n",
    " max_leaf_nodes= 70,\n",
    " min_samples_leaf= 7,\n",
    " min_weight_fraction_leaf= 0.1,\n",
    " splitter= 'random')\n",
    " "
   ]
  },
  {
   "cell_type": "code",
   "execution_count": 39,
   "metadata": {},
   "outputs": [],
   "source": [
    "tuned_hyper_model.fit(X_train,y_train)\n",
    "tuned_pred=tuned_hyper_model.predict(X_test)"
   ]
  },
  {
   "cell_type": "code",
   "execution_count": 40,
   "metadata": {},
   "outputs": [
    {
     "data": {
      "text/plain": [
       "<matplotlib.collections.PathCollection at 0x26ee7b97520>"
      ]
     },
     "execution_count": 40,
     "metadata": {},
     "output_type": "execute_result"
    },
    {
     "data": {
      "image/png": "[encoded data removed]",
      "text/plain": [
       "<Figure size 432x288 with 1 Axes>"
      ]
     },
     "metadata": {},
     "output_type": "display_data"
    }
   ],
   "source": [
    "plt.scatter(y_test,tuned_pred)"
   ]
  },
  {
   "cell_type": "code",
   "execution_count": 41,
   "metadata": {},
   "outputs": [],
   "source": [
    "from sklearn import metrics"
   ]
  },
  {
   "cell_type": "code",
   "execution_count": 42,
   "metadata": {},
   "outputs": [
    {
     "name": "stdout",
     "output_type": "stream",
     "text": [
      "MAE: 0.2512376995037737\n",
      "MSE: 0.09938470105254506\n",
      "RMSE: 0.31525339181766954\n"
     ]
    }
   ],
   "source": [
    "print('MAE:', metrics.mean_absolute_error(y_test,tuned_pred))\n",
    "print('MSE:', metrics.mean_squared_error(y_test, tuned_pred))\n",
    "print('RMSE:', np.sqrt(metrics.mean_squared_error(y_test, tuned_pred)))"
   ]
  },
  {
   "cell_type": "code",
   "execution_count": null,
   "metadata": {},
   "outputs": [],
   "source": []
  },
  {
   "cell_type": "code",
   "execution_count": null,
   "metadata": {},
   "outputs": [],
   "source": []
  },
  {
   "cell_type": "code",
   "execution_count": null,
   "metadata": {},
   "outputs": [],
   "source": []
  },
  {
   "cell_type": "code",
   "execution_count": null,
   "metadata": {},
   "outputs": [],
   "source": []
  },
  {
   "cell_type": "code",
   "execution_count": null,
   "metadata": {},
   "outputs": [],
   "source": []
  },
  {
   "cell_type": "code",
   "execution_count": null,
   "metadata": {},
   "outputs": [],
   "source": []
  },
  {
   "cell_type": "code",
   "execution_count": null,
   "metadata": {},
   "outputs": [],
   "source": []
  },
  {
   "cell_type": "code",
   "execution_count": null,
   "metadata": {},
   "outputs": [],
   "source": []
  },
  {
   "cell_type": "code",
   "execution_count": null,
   "metadata": {},
   "outputs": [],
   "source": []
  },
  {
   "cell_type": "code",
   "execution_count": null,
   "metadata": {},
   "outputs": [],
   "source": []
  },
  {
   "cell_type": "code",
   "execution_count": null,
   "metadata": {},
   "outputs": [],
   "source": []
  },
  {
   "cell_type": "code",
   "execution_count": null,
   "metadata": {},
   "outputs": [],
   "source": []
  },
  {
   "cell_type": "code",
   "execution_count": null,
   "metadata": {},
   "outputs": [],
   "source": []
  },
  {
   "cell_type": "code",
   "execution_count": null,
   "metadata": {},
   "outputs": [],
   "source": []
  },
  {
   "cell_type": "code",
   "execution_count": null,
   "metadata": {},
   "outputs": [],
   "source": []
  },
  {
   "cell_type": "code",
   "execution_count": null,
   "metadata": {},
   "outputs": [],
   "source": []
  },
  {
   "cell_type": "code",
   "execution_count": null,
   "metadata": {},
   "outputs": [],
   "source": []
  },
  {
   "cell_type": "code",
   "execution_count": null,
   "metadata": {},
   "outputs": [],
   "source": []
  },
  {
   "cell_type": "code",
   "execution_count": null,
   "metadata": {},
   "outputs": [],
   "source": []
  },
  {
   "cell_type": "code",
   "execution_count": null,
   "metadata": {},
   "outputs": [],
   "source": []
  },
  {
   "cell_type": "code",
   "execution_count": null,
   "metadata": {},
   "outputs": [],
   "source": []
  },
  {
   "cell_type": "code",
   "execution_count": null,
   "metadata": {},
   "outputs": [],
   "source": []
  },
  {
   "cell_type": "code",
   "execution_count": null,
   "metadata": {},
   "outputs": [],
   "source": []
  },
  {
   "cell_type": "code",
   "execution_count": null,
   "metadata": {},
   "outputs": [],
   "source": []
  },
  {
   "cell_type": "code",
   "execution_count": null,
   "metadata": {},
   "outputs": [],
   "source": []
  },
  {
   "cell_type": "code",
   "execution_count": null,
   "metadata": {},
   "outputs": [],
   "source": []
  },
  {
   "cell_type": "code",
   "execution_count": null,
   "metadata": {},
   "outputs": [],
   "source": []
  },
  {
   "cell_type": "code",
   "execution_count": null,
   "metadata": {},
   "outputs": [],
   "source": []
  },
  {
   "cell_type": "code",
   "execution_count": null,
   "metadata": {},
   "outputs": [],
   "source": []
  },
  {
   "cell_type": "code",
   "execution_count": null,
   "metadata": {},
   "outputs": [],
   "source": []
  },
  {
   "cell_type": "code",
   "execution_count": null,
   "metadata": {},
   "outputs": [],
   "source": []
  },
  {
   "cell_type": "code",
   "execution_count": null,
   "metadata": {},
   "outputs": [],
   "source": []
  },
  {
   "cell_type": "code",
   "execution_count": null,
   "metadata": {},
   "outputs": [],
   "source": []
  },
  {
   "cell_type": "code",
   "execution_count": null,
   "metadata": {},
   "outputs": [],
   "source": []
  },
  {
   "cell_type": "code",
   "execution_count": null,
   "metadata": {},
   "outputs": [],
   "source": []
  },
  {
   "cell_type": "code",
   "execution_count": null,
   "metadata": {},
   "outputs": [],
   "source": []
  },
  {
   "cell_type": "code",
   "execution_count": null,
   "metadata": {},
   "outputs": [],
   "source": []
  },
  {
   "cell_type": "code",
   "execution_count": null,
   "metadata": {},
   "outputs": [],
   "source": []
  },
  {
   "cell_type": "code",
   "execution_count": null,
   "metadata": {},
   "outputs": [],
   "source": []
  },
  {
   "cell_type": "code",
   "execution_count": null,
   "metadata": {},
   "outputs": [],
   "source": []
  },
  {
   "cell_type": "code",
   "execution_count": null,
   "metadata": {},
   "outputs": [],
   "source": []
  },
  {
   "cell_type": "code",
   "execution_count": null,
   "metadata": {},
   "outputs": [],
   "source": []
  },
  {
   "cell_type": "code",
   "execution_count": null,
   "metadata": {},
   "outputs": [],
   "source": []
  },
  {
   "cell_type": "code",
   "execution_count": null,
   "metadata": {},
   "outputs": [],
   "source": []
  },
  {
   "cell_type": "code",
   "execution_count": null,
   "metadata": {},
   "outputs": [],
   "source": []
  },
  {
   "cell_type": "code",
   "execution_count": 43,
   "metadata": {},
   "outputs": [],
   "source": [
    "# so we can say that will use genome as compared to dataset as it is highly skewed data"
   ]
  }
 ],
 "metadata": {
  "kernelspec": {
   "display_name": "Python 3.8.5",
   "language": "python",
   "name": "python3"
  },
  "language_info": {
   "codemirror_mode": {
    "name": "ipython",
    "version": 3
   },
   "file_extension": ".py",
   "mimetype": "text/x-python",
   "name": "python",
   "nbconvert_exporter": "python",
   "pygments_lexer": "ipython3",
   "version": "3.8.5"
  },
  "orig_nbformat": 4,
  "vscode": {
   "interpreter": {
    "hash": "8891f3cfb547db503e78f25128202364d60f1c09259e140a1bd236c27b0b7a43"
   }
  }
 },
 "nbformat": 4,
 "nbformat_minor": 2
}
